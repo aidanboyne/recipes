{
 "cells": [
  {
   "cell_type": "markdown",
   "id": "4cf24657",
   "metadata": {},
   "source": [
    "## AR Ingredient Clustering\n",
    "Created by Aidan Boyne - see the [docs](https://github.com/aidanboyne/recipes)."
   ]
  },
  {
   "cell_type": "code",
   "execution_count": 2,
   "id": "e1b758e5",
   "metadata": {},
   "outputs": [],
   "source": [
    "import requests as rq\n",
    "from lxml import html\n",
    "import pandas as pd\n",
    "import numpy as np\n",
    "import itertools\n",
    "from tqdm import tqdm\n",
    "import plotly.express as px\n",
    "import random\n"
   ]
  },
  {
   "cell_type": "markdown",
   "id": "0ab54ab2",
   "metadata": {},
   "source": [
    "## Functionized scraper and parser for looping\n",
    " - Input: pageNo (from loop)\n",
    " - Output:\n",
    "    - If valid page --> `valid`: True (bool), `complist`: parsed ingredients (list), `rating`: AR rating (int)\n",
    "    - If invalid --> `valid`: False (bool), `pageNo`: invalid page (int), `ratefail`: (bool)"
   ]
  },
  {
   "cell_type": "code",
   "execution_count": 3,
   "metadata": {},
   "outputs": [],
   "source": [
    "def ar_scraper(pageNo):\n",
    "\n",
    "    #import master ingredient list\n",
    "    global ingredientSet\n",
    "    #Page access URL\n",
    "    URL = \"https://www.allrecipes.com/recipe/\"+str(pageNo)+\"/\"\n",
    "    page = rq.get(URL)\n",
    "    tree = html.fromstring(page.content)\n",
    "\n",
    "    #Content Xpath mappings\n",
    "    count2Path = \"/html/body/div[3]/div/main/div[1]/div[2]/div[1]/div[1]/div[2]/div[2]/ul/li[1]/a\"\n",
    "    titlePath = \"/html/body/div[3]/div/main/div[1]/div[2]/div[1]/div[1]/div[1]/div/h1\"\n",
    "    ratingPath = \"/html/body/div[3]/div/main/div[1]/div[2]/div[1]/div[1]/div[2]/div[1]/span\"\n",
    "\n",
    "    #Data QC\n",
    "    valid = True #check if page contains real information\n",
    "    divno = 5 #flexible checker for different page layouts\n",
    "\n",
    "    #invalid recipie no\n",
    "    ratecount_str = tree.xpath(str(count2Path+\"/text()\"))\n",
    "\n",
    "    if not ratecount_str: #change if needed (i.e. < 5...)\n",
    "        #print(\"Page does not exist, skipping...\")\n",
    "        valid = False\n",
    "        fail_type = \"page not existing\"\n",
    "        #for main: if valid=False, add pageNo to pageOmitList\n",
    "        return valid, pageNo, fail_type\n",
    "    else:\n",
    "        if ratecount_str[0] == ' Be the first to rate & review! ':\n",
    "            ratecount = 0\n",
    "        else:\n",
    "            ratecount = int(''.join(x for x in ratecount_str[0] if x.isdigit()))\n",
    "        #skips pages with no reviews as QC assurance, can change to vary confidence strictness\n",
    "        if ratecount == 0: #change if needed (i.e. < 5...)\n",
    "            if valid:\n",
    "                #print(\"Page does not have enough reviews to be included in dataset, skipping...\")\n",
    "                valid = False\n",
    "                fail_type = \"insufficient reviews\"\n",
    "                #for main: if valid=False, add pageNo to pageOmitList\n",
    "                return valid, pageNo, fail_type\n",
    "        else:\n",
    "            try:\n",
    "                #rating getter\n",
    "                rating = float(tree.xpath(str(ratingPath+\"/text()\"))[0])\n",
    "                #ingredient getter loop\n",
    "                listing = 1\n",
    "                ingno = 1\n",
    "                first  = 1\n",
    "                ingredients = []\n",
    "                while listing:\n",
    "                    ingPath = \"/html/body/div[3]/div/main/div[1]/div[2]/div[1]/div[2]/div[2]/div[\"+str(divno)+\"]/section[1]/fieldset/ul/li[\"+str(ingno)+\"]/label/span/span\"\n",
    "                    newing = tree.xpath(str(ingPath+\"/text()\"))\n",
    "                    if not newing: #following checks for the two types of ingredient divs and switches to appropriate, also ends loop when no more ingredients\n",
    "                        if not ingredients:\n",
    "                            divno = 6\n",
    "                        else:\n",
    "                            listing = 0\n",
    "                    else:\n",
    "                        ingno = ingno + 1\n",
    "                        ingredients.append(newing[0])\n",
    "\n",
    "                #---------------------------------------COMMENT OUT IN IMPLEMENTATION-----------------------------------------------\n",
    "                # #direction getter loop (not needed for graph analysis)\n",
    "                # listing = 1\n",
    "                # dirno = 1\n",
    "                # directions = []\n",
    "                # while listing:\n",
    "                #     directionPath = \"/html/body/div[3]/div/main/div[1]/div[2]/div[1]/div[2]/div[2]/section[1]/fieldset/ul/li[\"+str(dirno)+\"]/div[1]/div/p\"\n",
    "                #     newdir = tree.xpath(str(directionPath+\"/text()\"))\n",
    "                #     dirno = dirno + 1\n",
    "                #     if newdir == []:\n",
    "                #         listing = 0;\n",
    "                #     else:\n",
    "                #         directions.append(newdir[0])        \n",
    "                # #Other variable assignments\n",
    "                # title = tree.xpath(str(titlePath+\"/text()\"))[0]\n",
    "                #---------------------------------------END COMMENT OUT-------------------------------------------------------------\n",
    "            except:\n",
    "                valid = False\n",
    "                fail_type = \"invalid page format\"\n",
    "                return valid, pageNo, fail_type\n",
    "\n",
    "    if valid:\n",
    "\n",
    "        #---------------------------------------COMMENT OUT IN IMPLEMENTATION-----------------------------------------------\n",
    "        # #Formatted display of title, rating, ingredients, and directions objects extracted\n",
    "\n",
    "        # print(title+\"\\n-----------------------------\")\n",
    "        # print(\"Rating: \"+str(rating)+\"\\n\\nIngredients \\n\")\n",
    "        # for ingredient in ingredients:\n",
    "        #     print(\" - \"+ ingredient)\n",
    "        # print(\"\\nDirections\")\n",
    "        # for direction in directions:\n",
    "        #     print(\" - \"+ direction)\n",
    "        #---------------------------------------END COMMENT OUT-------------------------------------------------------------\n",
    "\n",
    "        # Checking each scraped ingredient one by one to see if it has word(s) containing master ingredient\n",
    "        # Longer whole-word substrings preferred to eliminate partial duplication and reduce lopsdd\n",
    "        complist=[]\n",
    "        extractIngredients = pd.DataFrame(ingredients, columns=['Extracted Ingredients']) #ingredients scraped\n",
    "        for setIngredient in ingredientSet['Ingredient']: #for each ingredient in the master list\n",
    "            regex_str = \"\\\\b\" + setIngredient + \"\\\\b\"\n",
    "            check = extractIngredients['Extracted Ingredients'].str.contains(pat=regex_str, case='False', na='False') #do ingredients scraped contain substring matching master\n",
    "            if any(check):\n",
    "                if setIngredient not in complist:\n",
    "                    complist.append(setIngredient)\n",
    "        complist = sorted([*set(complist)],key=len,reverse=True) #remove any duplicates due to substring matching and sort from longest to shortest\n",
    "\n",
    "        out = []\n",
    "        for s in complist:\n",
    "            if not any([s in o for o in out]):\n",
    "                out.append(s)\n",
    "        complist = out\n",
    "        return valid, complist, rating, ratecount"
   ]
  },
  {
   "cell_type": "markdown",
   "id": "053a273c",
   "metadata": {},
   "source": [
    "### TODO: Combination Architecture\n",
    "- (DONE) Create list of all possible ingredient combinations from scraped ingredients\n",
    "- (DONE) Create temporary dataframe from list to hold these results\n",
    "- (DONE) Concatenate temp dataframe to master dataframe containing previous combos and ratings\n",
    "- (DONE) Change if/else loops to try/except to catch wider unavailibility\n",
    "- (DONE) Every 100 recipies, aggregate identical ingredient combinations in master dataframe by rating\n",
    "- (DONE) Add weighting based on number of ratings to aggregation system\n",
    "- Make API for website to access text file of allrecipies\n",
    "- Find better weighting function"
   ]
  },
  {
   "cell_type": "code",
   "execution_count": 5,
   "id": "796c5799",
   "metadata": {},
   "outputs": [
    {
     "name": "stderr",
     "output_type": "stream",
     "text": [
      "Processing page 258499:  32%|███▏      | 32/100 [03:35<05:39,  4.99s/it]C:\\Users\\Aidan\\AppData\\Local\\Temp\\ipykernel_3532\\321563522.py:30: FutureWarning: Indexing with multiple keys (implicitly converted to a tuple of keys) will be deprecated, use a list instead.\n",
      "  masterframe.groupby(by=['Ingredient 1', 'Ingredient 2'])['Rating', 'Weight'].mean()\n",
      "Processing page 258567: 100%|██████████| 100/100 [09:06<00:00,  5.46s/it]"
     ]
    },
    {
     "name": "stdout",
     "output_type": "stream",
     "text": [
      "Omitted Pages: \n",
      "['258470: insufficient reviews', '258477: insufficient reviews', '258478: insufficient reviews', '258489: insufficient reviews', '258497: invalid page format', '258498: insufficient reviews', '258499: invalid page format', '258500: page not existing', '258501: page not existing', '258502: page not existing', '258503: page not existing', '258504: page not existing', '258505: page not existing', '258506: page not existing', '258507: page not existing', '258508: page not existing', '258509: page not existing', '258510: page not existing', '258511: page not existing', '258512: page not existing', '258513: page not existing', '258514: page not existing', '258515: page not existing', '258516: page not existing', '258517: page not existing', '258518: page not existing', '258519: page not existing', '258520: page not existing', '258521: page not existing', '258522: page not existing', '258523: page not existing', '258524: page not existing', '258525: page not existing', '258526: page not existing', '258527: page not existing', '258528: page not existing', '258529: page not existing', '258530: page not existing', '258531: page not existing', '258532: page not existing', '258533: page not existing', '258534: page not existing', '258535: page not existing', '258536: page not existing', '258537: page not existing', '258538: page not existing', '258539: page not existing', '258540: page not existing', '258541: page not existing', '258542: page not existing', '258543: page not existing', '258544: page not existing', '258545: page not existing', '258546: page not existing', '258547: page not existing', '258551: insufficient reviews', '258554: insufficient reviews', '258558: insufficient reviews', '258560: insufficient reviews']\n",
      "Non-aggregated Ingredient List\n",
      "             Ingredient 1       Ingredient 2  Rating  Weight   Score\n",
      "0     ground black pepper  all-purpose flour     4.4     943  1369.2\n",
      "1     ground black pepper   wide egg noodles     4.4     943  1373.3\n",
      "2     ground black pepper     beef stew meat     4.4     943  1383.8\n",
      "3     ground black pepper      chicken broth     4.4     943  1395.8\n",
      "4     ground black pepper        dried thyme     4.4     943  1385.5\n",
      "...                   ...                ...     ...     ...     ...\n",
      "1513             cilantro               eggs     4.5       4   436.5\n",
      "1514             cilantro               lime     4.5       4   451.3\n",
      "1515                salsa               eggs     4.5       4   437.3\n",
      "1516                salsa               lime     4.5       4   437.1\n",
      "1517                 eggs               lime     4.5       4   472.1\n",
      "\n",
      "[1518 rows x 5 columns]\n"
     ]
    },
    {
     "name": "stderr",
     "output_type": "stream",
     "text": [
      "\n",
      "C:\\Users\\Aidan\\AppData\\Local\\Temp\\ipykernel_3532\\321563522.py:42: FutureWarning: Indexing with multiple keys (implicitly converted to a tuple of keys) will be deprecated, use a list instead.\n",
      "  masterframe.groupby(by=['Ingredient 1', 'Ingredient 2'])['Rating', 'Weight'].mean()\n"
     ]
    }
   ],
   "source": [
    "#Import ingredient list from dataset: must run ingredientsNER.ipynb before first use to create set\n",
    "ingredientSet = pd.read_csv(r'C:\\Users\\Aidan\\Documents\\GitHub\\AR_scrape\\ARScrape_Ingredients.csv')\n",
    "\n",
    "#Page Selection\n",
    "page_start = 258468\n",
    "page_end = 258568\n",
    "\n",
    "#Initializations\n",
    "omitted_pages = []\n",
    "masterframe = pd.DataFrame()\n",
    "prog_range = tqdm(range(page_start,page_end))\n",
    "\n",
    "\n",
    "#Test Loop\n",
    "for pageNumber in prog_range:\n",
    "    scraped=ar_scraper(pageNumber)\n",
    "    if scraped[0]:\n",
    "        combolist=list(itertools.combinations(scraped[1],2))\n",
    "        comboframe = pd.DataFrame(list(itertools.combinations(scraped[1], 2)), columns=['Ingredient 1','Ingredient 2'])\n",
    "        comboframe['Rating']= ([scraped[2]]*len(comboframe))\n",
    "        comboframe['Weight']= ([scraped[3]]*len(comboframe))\n",
    "        comboframe['Score'] = 100*comboframe.Rating+comboframe.Weight#Bad weighting function, fine-tune this later\n",
    "        masterframe = pd.concat([masterframe, comboframe], axis=0, ignore_index=True)\n",
    "    else:\n",
    "        omitted_pages.append(str(scraped[1])+\": \"+scraped[2])\n",
    "\n",
    "    #Aggregation every 100 entries\n",
    "    if pageNumber%100 == 0:\n",
    "        masterframe.reindex()\n",
    "        masterframe.groupby(by=['Ingredient 1', 'Ingredient 2'])['Rating', 'Weight'].mean()\n",
    "\n",
    "    prog_range.set_description(f'Processing page {pageNumber}')\n",
    "\n",
    "#Noiseing Data for visualization\n",
    "randlist = []\n",
    "for i in range(0,len(masterframe['Score'])):\n",
    "    randlist.append((random.randrange(-200, 200))/10)\n",
    "randcol = pd.DataFrame(randlist)\n",
    "masterframe['Score'] = masterframe['Score'].add(randcol[0])\n",
    "\n",
    "#Final aggregation and sorting before analysis\n",
    "masterframe.groupby(by=['Ingredient 1', 'Ingredient 2'])['Rating', 'Weight'].mean()\n",
    "masterframe.sort_values(by=['Score'], ascending=False)\n",
    "masterframe.reindex()\n",
    "\n",
    "print(\"Omitted Pages: \")\n",
    "print(omitted_pages)\n",
    "print(\"Non-aggregated Ingredient List\")\n",
    "print(masterframe)"
   ]
  },
  {
   "cell_type": "code",
   "execution_count": 13,
   "id": "23fbf4fb",
   "metadata": {},
   "outputs": [
    {
     "data": {
      "application/vnd.plotly.v1+json": {
       "config": {
        "plotlyServerURL": "https://plot.ly"
       },
       "data": [
        {
         "customdata": [
          [
           "ground black pepper",
           "all-purpose flour"
          ],
          [
           "ground black pepper",
           "wide egg noodles"
          ],
          [
           "ground black pepper",
           "beef stew meat"
          ],
          [
           "ground black pepper",
           "chicken broth"
          ],
          [
           "ground black pepper",
           "dried thyme"
          ],
          [
           "ground black pepper",
           "canola oil"
          ],
          [
           "ground black pepper",
           "sour cream"
          ],
          [
           "ground black pepper",
           "mushrooms"
          ],
          [
           "ground black pepper",
           "soy sauce"
          ],
          [
           "ground black pepper",
           "garlic"
          ],
          [
           "ground black pepper",
           "onion"
          ],
          [
           "ground black pepper",
           "salt"
          ],
          [
           "ground black pepper",
           "pineapple chunks"
          ],
          [
           "ground black pepper",
           "cayenne pepper"
          ],
          [
           "ground black pepper",
           "garlic powder"
          ],
          [
           "ground black pepper",
           "ground cumin"
          ],
          [
           "ground black pepper",
           "onion powder"
          ],
          [
           "ground black pepper",
           "brown sugar"
          ],
          [
           "ground black pepper",
           "pork ribs"
          ],
          [
           "ground black pepper",
           "juice"
          ],
          [
           "ground black pepper",
           "honey"
          ],
          [
           "ground black pepper",
           "salt"
          ],
          [
           "ground black pepper",
           "lime"
          ],
          [
           "ground black pepper",
           "beer"
          ],
          [
           "ground black pepper",
           "five-spice powder"
          ],
          [
           "ground black pepper",
           "red food coloring"
          ],
          [
           "ground black pepper",
           "cayenne pepper"
          ],
          [
           "ground black pepper",
           "hoisin sauce"
          ],
          [
           "ground black pepper",
           "kosher salt"
          ],
          [
           "ground black pepper",
           "brown sugar"
          ],
          [
           "ground black pepper",
           "curing salt"
          ],
          [
           "ground black pepper",
           "dry sherry"
          ],
          [
           "ground black pepper",
           "pork butt"
          ],
          [
           "ground black pepper",
           "rice wine"
          ],
          [
           "ground black pepper",
           "soy sauce"
          ],
          [
           "ground black pepper",
           "ketchup"
          ],
          [
           "ground black pepper",
           "garlic"
          ],
          [
           "ground black pepper",
           "honey"
          ],
          [
           "ground black pepper",
           "sake"
          ],
          [
           "ground black pepper",
           "provolone cheese"
          ],
          [
           "ground black pepper",
           "hoagie rolls"
          ],
          [
           "ground black pepper",
           "thyme leaves"
          ],
          [
           "ground black pepper",
           "bell pepper"
          ],
          [
           "ground black pepper",
           "mushrooms"
          ],
          [
           "ground black pepper",
           "olive oil"
          ],
          [
           "ground black pepper",
           "soy sauce"
          ],
          [
           "ground black pepper",
           "cremini"
          ],
          [
           "ground black pepper",
           "mustard"
          ],
          [
           "ground black pepper",
           "butter"
          ],
          [
           "ground black pepper",
           "onion"
          ],
          [
           "ground black pepper",
           "salt"
          ],
          [
           "ground black pepper",
           "cilantro leaves"
          ],
          [
           "ground black pepper",
           "dark sesame oil"
          ],
          [
           "ground black pepper",
           "napa cabbage"
          ],
          [
           "ground black pepper",
           "soy sauce"
          ],
          [
           "ground black pepper",
           "boneless chicken"
          ],
          [
           "ground black pepper",
           "chicken breasts"
          ],
          [
           "ground black pepper",
           "jasmine rice"
          ],
          [
           "ground black pepper",
           "tomato sauce"
          ],
          [
           "ground black pepper",
           "medium salsa"
          ],
          [
           "ground black pepper",
           "garlic salt"
          ],
          [
           "ground black pepper",
           "lime juice"
          ],
          [
           "ground black pepper",
           "olive oil"
          ],
          [
           "ground black pepper",
           "water"
          ],
          [
           "ground black pepper",
           "biscuit dough"
          ],
          [
           "ground black pepper",
           "cooking spray"
          ],
          [
           "ground black pepper",
           "cheese"
          ],
          [
           "ground black pepper",
           "gravy"
          ],
          [
           "ground black pepper",
           "milk"
          ],
          [
           "ground black pepper",
           "eggs"
          ],
          [
           "ground black pepper",
           "salt"
          ],
          [
           "ground black pepper",
           "flour tortillas"
          ],
          [
           "ground black pepper",
           "garlic powder"
          ],
          [
           "ground black pepper",
           "vegetable oil"
          ],
          [
           "ground black pepper",
           "pico de gallo"
          ],
          [
           "ground black pepper",
           "chili powder"
          ],
          [
           "ground black pepper",
           "black beans"
          ],
          [
           "ground black pepper",
           "sour cream"
          ],
          [
           "ground black pepper",
           "cilantro"
          ],
          [
           "ground black pepper",
           "salsa"
          ],
          [
           "ground black pepper",
           "eggs"
          ],
          [
           "ground black pepper",
           "lime"
          ]
         ],
         "hovertemplate": "Ingredient 1=%{customdata[0]}<br>Rating=%{marker.size}<br>Score=%{y}<br>Ingredient 2=%{customdata[1]}<extra></extra>",
         "legendgroup": "ground black pepper",
         "marker": {
          "color": "#636efa",
          "size": [
           4.4,
           4.4,
           4.4,
           4.4,
           4.4,
           4.4,
           4.4,
           4.4,
           4.4,
           4.4,
           4.4,
           4.4,
           5,
           5,
           5,
           5,
           5,
           5,
           5,
           5,
           5,
           5,
           5,
           5,
           4.7,
           4.7,
           4.7,
           4.7,
           4.7,
           4.7,
           4.7,
           4.7,
           4.7,
           4.7,
           4.7,
           4.7,
           4.7,
           4.7,
           4.7,
           4.5,
           4.5,
           4.5,
           4.5,
           4.5,
           4.5,
           4.5,
           4.5,
           4.5,
           4.5,
           4.5,
           4.5,
           3.7,
           3.7,
           3.7,
           3.7,
           4.6,
           4.6,
           4.6,
           4.6,
           4.6,
           4.6,
           4.6,
           4.6,
           4.6,
           3.9,
           3.9,
           3.9,
           3.9,
           3.9,
           3.9,
           3.9,
           4.5,
           4.5,
           4.5,
           4.5,
           4.5,
           4.5,
           4.5,
           4.5,
           4.5,
           4.5,
           4.5
          ],
          "sizemode": "area",
          "sizeref": 0.0125,
          "symbol": "circle"
         },
         "mode": "markers",
         "name": "ground black pepper",
         "showlegend": true,
         "type": "scattergl",
         "x": [
          4.4,
          4.4,
          4.4,
          4.4,
          4.4,
          4.4,
          4.4,
          4.4,
          4.4,
          4.4,
          4.4,
          4.4,
          5,
          5,
          5,
          5,
          5,
          5,
          5,
          5,
          5,
          5,
          5,
          5,
          4.7,
          4.7,
          4.7,
          4.7,
          4.7,
          4.7,
          4.7,
          4.7,
          4.7,
          4.7,
          4.7,
          4.7,
          4.7,
          4.7,
          4.7,
          4.5,
          4.5,
          4.5,
          4.5,
          4.5,
          4.5,
          4.5,
          4.5,
          4.5,
          4.5,
          4.5,
          4.5,
          3.7,
          3.7,
          3.7,
          3.7,
          4.6,
          4.6,
          4.6,
          4.6,
          4.6,
          4.6,
          4.6,
          4.6,
          4.6,
          3.9,
          3.9,
          3.9,
          3.9,
          3.9,
          3.9,
          3.9,
          4.5,
          4.5,
          4.5,
          4.5,
          4.5,
          4.5,
          4.5,
          4.5,
          4.5,
          4.5,
          4.5
         ],
         "xaxis": "x",
         "y": [
          1369.2,
          1373.3,
          1383.8,
          1395.8,
          1385.5,
          1371.7,
          1380.8,
          1390.6,
          1398.8,
          1379.5,
          1395.6,
          1385.4,
          521.1,
          483.2,
          506.3,
          502.9,
          484.9,
          495.8,
          483.4,
          517.5,
          513.9,
          497.5,
          519.3,
          509.7,
          556.2,
          560.6,
          592.3,
          581.5,
          554.9,
          576,
          587.1,
          574.5,
          593,
          555.7,
          572.4,
          584.2,
          573.8,
          565,
          560.5,
          438.1,
          433.1,
          458.3,
          450.9,
          446.2,
          449.5,
          466.7,
          452.4,
          435.4,
          432.8,
          454.9,
          447,
          354.2,
          371,
          369.7,
          356.9,
          495.59999999999997,
          482.69999999999993,
          501.79999999999995,
          481.09999999999997,
          496.09999999999997,
          465.09999999999997,
          493.09999999999997,
          483.19999999999993,
          489.19999999999993,
          413.9,
          411.5,
          389.2,
          415.5,
          402.1,
          386.6,
          385.8,
          473.7,
          459.9,
          453.7,
          439,
          452.1,
          444,
          446.1,
          463.5,
          453.1,
          468.4,
          442.7
         ],
         "yaxis": "y"
        },
        {
         "customdata": [
          [
           "all-purpose flour",
           "wide egg noodles"
          ],
          [
           "all-purpose flour",
           "beef stew meat"
          ],
          [
           "all-purpose flour",
           "chicken broth"
          ],
          [
           "all-purpose flour",
           "dried thyme"
          ],
          [
           "all-purpose flour",
           "canola oil"
          ],
          [
           "all-purpose flour",
           "sour cream"
          ],
          [
           "all-purpose flour",
           "mushrooms"
          ],
          [
           "all-purpose flour",
           "soy sauce"
          ],
          [
           "all-purpose flour",
           "garlic"
          ],
          [
           "all-purpose flour",
           "onion"
          ],
          [
           "all-purpose flour",
           "salt"
          ],
          [
           "all-purpose flour",
           "light brown sugar"
          ],
          [
           "all-purpose flour",
           "vanilla extract"
          ],
          [
           "all-purpose flour",
           "vegetable oil"
          ],
          [
           "all-purpose flour",
           "baking powder"
          ],
          [
           "all-purpose flour",
           "cocoa powder"
          ],
          [
           "all-purpose flour",
           "baking soda"
          ],
          [
           "all-purpose flour",
           "white sugar"
          ],
          [
           "all-purpose flour",
           "buttermilk"
          ],
          [
           "all-purpose flour",
           "salt"
          ],
          [
           "all-purpose flour",
           "eggs"
          ],
          [
           "all-purpose flour",
           "flax seed meal"
          ],
          [
           "all-purpose flour",
           "baking powder"
          ],
          [
           "all-purpose flour",
           "coconut milk"
          ],
          [
           "all-purpose flour",
           "roasted cashews"
          ],
          [
           "all-purpose flour",
           "cooked chicken"
          ],
          [
           "all-purpose flour",
           "baby broccoli"
          ],
          [
           "all-purpose flour",
           "chicken broth"
          ],
          [
           "all-purpose flour",
           "jasmine rice"
          ],
          [
           "all-purpose flour",
           "tarragon"
          ],
          [
           "all-purpose flour",
           "butter"
          ],
          [
           "all-purpose flour",
           "salt"
          ]
         ],
         "hovertemplate": "Ingredient 1=%{customdata[0]}<br>Rating=%{marker.size}<br>Score=%{y}<br>Ingredient 2=%{customdata[1]}<extra></extra>",
         "legendgroup": "all-purpose flour",
         "marker": {
          "color": "#EF553B",
          "size": [
           4.4,
           4.4,
           4.4,
           4.4,
           4.4,
           4.4,
           4.4,
           4.4,
           4.4,
           4.4,
           4.4,
           4.5,
           4.5,
           4.5,
           4.5,
           4.5,
           4.5,
           4.5,
           4.5,
           4.5,
           4.5,
           3.6,
           3.6,
           3.6,
           3.5,
           3.5,
           3.5,
           3.5,
           3.5,
           3.5,
           3.5,
           3.5
          ],
          "sizemode": "area",
          "sizeref": 0.0125,
          "symbol": "circle"
         },
         "mode": "markers",
         "name": "all-purpose flour",
         "showlegend": true,
         "type": "scattergl",
         "x": [
          4.4,
          4.4,
          4.4,
          4.4,
          4.4,
          4.4,
          4.4,
          4.4,
          4.4,
          4.4,
          4.4,
          4.5,
          4.5,
          4.5,
          4.5,
          4.5,
          4.5,
          4.5,
          4.5,
          4.5,
          4.5,
          3.6,
          3.6,
          3.6,
          3.5,
          3.5,
          3.5,
          3.5,
          3.5,
          3.5,
          3.5,
          3.5
         ],
         "xaxis": "x",
         "y": [
          1377.3,
          1381.3,
          1390.6,
          1381.6,
          1369.8,
          1390.4,
          1391.7,
          1393.4,
          1400.5,
          1395.3,
          1402.2,
          444.6,
          442.2,
          448,
          456.6,
          453.8,
          475.7,
          463.4,
          462.2,
          446.8,
          438.8,
          378.9,
          378.4,
          365.5,
          362.1,
          332.6,
          362.4,
          352.3,
          345.4,
          360.5,
          345.7,
          347.6
         ],
         "yaxis": "y"
        },
        {
         "customdata": [
          [
           "wide egg noodles",
           "beef stew meat"
          ],
          [
           "wide egg noodles",
           "chicken broth"
          ],
          [
           "wide egg noodles",
           "dried thyme"
          ],
          [
           "wide egg noodles",
           "canola oil"
          ],
          [
           "wide egg noodles",
           "sour cream"
          ],
          [
           "wide egg noodles",
           "mushrooms"
          ],
          [
           "wide egg noodles",
           "soy sauce"
          ],
          [
           "wide egg noodles",
           "garlic"
          ],
          [
           "wide egg noodles",
           "onion"
          ],
          [
           "wide egg noodles",
           "salt"
          ]
         ],
         "hovertemplate": "Ingredient 1=%{customdata[0]}<br>Rating=%{marker.size}<br>Score=%{y}<br>Ingredient 2=%{customdata[1]}<extra></extra>",
         "legendgroup": "wide egg noodles",
         "marker": {
          "color": "#00cc96",
          "size": [
           4.4,
           4.4,
           4.4,
           4.4,
           4.4,
           4.4,
           4.4,
           4.4,
           4.4,
           4.4
          ],
          "sizemode": "area",
          "sizeref": 0.0125,
          "symbol": "circle"
         },
         "mode": "markers",
         "name": "wide egg noodles",
         "showlegend": true,
         "type": "scattergl",
         "x": [
          4.4,
          4.4,
          4.4,
          4.4,
          4.4,
          4.4,
          4.4,
          4.4,
          4.4,
          4.4
         ],
         "xaxis": "x",
         "y": [
          1399,
          1399.1,
          1378.6,
          1375.5,
          1372.9,
          1397,
          1377.8,
          1371.6,
          1364.4,
          1385.9
         ],
         "yaxis": "y"
        },
        {
         "customdata": [
          [
           "beef stew meat",
           "chicken broth"
          ],
          [
           "beef stew meat",
           "dried thyme"
          ],
          [
           "beef stew meat",
           "canola oil"
          ],
          [
           "beef stew meat",
           "sour cream"
          ],
          [
           "beef stew meat",
           "mushrooms"
          ],
          [
           "beef stew meat",
           "soy sauce"
          ],
          [
           "beef stew meat",
           "garlic"
          ],
          [
           "beef stew meat",
           "onion"
          ],
          [
           "beef stew meat",
           "salt"
          ]
         ],
         "hovertemplate": "Ingredient 1=%{customdata[0]}<br>Rating=%{marker.size}<br>Score=%{y}<br>Ingredient 2=%{customdata[1]}<extra></extra>",
         "legendgroup": "beef stew meat",
         "marker": {
          "color": "#ab63fa",
          "size": [
           4.4,
           4.4,
           4.4,
           4.4,
           4.4,
           4.4,
           4.4,
           4.4,
           4.4
          ],
          "sizemode": "area",
          "sizeref": 0.0125,
          "symbol": "circle"
         },
         "mode": "markers",
         "name": "beef stew meat",
         "showlegend": true,
         "type": "scattergl",
         "x": [
          4.4,
          4.4,
          4.4,
          4.4,
          4.4,
          4.4,
          4.4,
          4.4,
          4.4
         ],
         "xaxis": "x",
         "y": [
          1392.8,
          1367.4,
          1394.9,
          1370.4,
          1402.1,
          1397.4,
          1402.7,
          1387.6,
          1395.2
         ],
         "yaxis": "y"
        },
        {
         "customdata": [
          [
           "chicken broth",
           "dried thyme"
          ],
          [
           "chicken broth",
           "canola oil"
          ],
          [
           "chicken broth",
           "sour cream"
          ],
          [
           "chicken broth",
           "mushrooms"
          ],
          [
           "chicken broth",
           "soy sauce"
          ],
          [
           "chicken broth",
           "garlic"
          ],
          [
           "chicken broth",
           "onion"
          ],
          [
           "chicken broth",
           "salt"
          ],
          [
           "chicken broth",
           "jasmine rice"
          ],
          [
           "chicken broth",
           "tarragon"
          ],
          [
           "chicken broth",
           "butter"
          ],
          [
           "chicken broth",
           "salt"
          ]
         ],
         "hovertemplate": "Ingredient 1=%{customdata[0]}<br>Rating=%{marker.size}<br>Score=%{y}<br>Ingredient 2=%{customdata[1]}<extra></extra>",
         "legendgroup": "chicken broth",
         "marker": {
          "color": "#FFA15A",
          "size": [
           4.4,
           4.4,
           4.4,
           4.4,
           4.4,
           4.4,
           4.4,
           4.4,
           3.5,
           3.5,
           3.5,
           3.5
          ],
          "sizemode": "area",
          "sizeref": 0.0125,
          "symbol": "circle"
         },
         "mode": "markers",
         "name": "chicken broth",
         "showlegend": true,
         "type": "scattergl",
         "x": [
          4.4,
          4.4,
          4.4,
          4.4,
          4.4,
          4.4,
          4.4,
          4.4,
          3.5,
          3.5,
          3.5,
          3.5
         ],
         "xaxis": "x",
         "y": [
          1383.3,
          1395.7,
          1395.4,
          1393.9,
          1376.2,
          1389.4,
          1370.9,
          1372.8,
          332.8,
          353.1,
          361.3,
          336.8
         ],
         "yaxis": "y"
        },
        {
         "customdata": [
          [
           "dried thyme",
           "canola oil"
          ],
          [
           "dried thyme",
           "sour cream"
          ],
          [
           "dried thyme",
           "mushrooms"
          ],
          [
           "dried thyme",
           "soy sauce"
          ],
          [
           "dried thyme",
           "garlic"
          ],
          [
           "dried thyme",
           "onion"
          ],
          [
           "dried thyme",
           "salt"
          ]
         ],
         "hovertemplate": "Ingredient 1=%{customdata[0]}<br>Rating=%{marker.size}<br>Score=%{y}<br>Ingredient 2=%{customdata[1]}<extra></extra>",
         "legendgroup": "dried thyme",
         "marker": {
          "color": "#19d3f3",
          "size": [
           4.4,
           4.4,
           4.4,
           4.4,
           4.4,
           4.4,
           4.4
          ],
          "sizemode": "area",
          "sizeref": 0.0125,
          "symbol": "circle"
         },
         "mode": "markers",
         "name": "dried thyme",
         "showlegend": true,
         "type": "scattergl",
         "x": [
          4.4,
          4.4,
          4.4,
          4.4,
          4.4,
          4.4,
          4.4
         ],
         "xaxis": "x",
         "y": [
          1370.5,
          1395.7,
          1365.6,
          1389.8,
          1401.5,
          1380.8,
          1396.6
         ],
         "yaxis": "y"
        },
        {
         "customdata": [
          [
           "canola oil",
           "sour cream"
          ],
          [
           "canola oil",
           "mushrooms"
          ],
          [
           "canola oil",
           "soy sauce"
          ],
          [
           "canola oil",
           "garlic"
          ],
          [
           "canola oil",
           "onion"
          ],
          [
           "canola oil",
           "salt"
          ]
         ],
         "hovertemplate": "Ingredient 1=%{customdata[0]}<br>Rating=%{marker.size}<br>Score=%{y}<br>Ingredient 2=%{customdata[1]}<extra></extra>",
         "legendgroup": "canola oil",
         "marker": {
          "color": "#FF6692",
          "size": [
           4.4,
           4.4,
           4.4,
           4.4,
           4.4,
           4.4
          ],
          "sizemode": "area",
          "sizeref": 0.0125,
          "symbol": "circle"
         },
         "mode": "markers",
         "name": "canola oil",
         "showlegend": true,
         "type": "scattergl",
         "x": [
          4.4,
          4.4,
          4.4,
          4.4,
          4.4,
          4.4
         ],
         "xaxis": "x",
         "y": [
          1376.8,
          1400.6,
          1365.5,
          1386.5,
          1389,
          1378
         ],
         "yaxis": "y"
        },
        {
         "customdata": [
          [
           "sour cream",
           "mushrooms"
          ],
          [
           "sour cream",
           "soy sauce"
          ],
          [
           "sour cream",
           "garlic"
          ],
          [
           "sour cream",
           "onion"
          ],
          [
           "sour cream",
           "salt"
          ],
          [
           "sour cream",
           "crumbles"
          ],
          [
           "sour cream",
           "grapes"
          ],
          [
           "sour cream",
           "cilantro"
          ],
          [
           "sour cream",
           "salsa"
          ],
          [
           "sour cream",
           "eggs"
          ],
          [
           "sour cream",
           "lime"
          ]
         ],
         "hovertemplate": "Ingredient 1=%{customdata[0]}<br>Rating=%{marker.size}<br>Score=%{y}<br>Ingredient 2=%{customdata[1]}<extra></extra>",
         "legendgroup": "sour cream",
         "marker": {
          "color": "#B6E880",
          "size": [
           4.4,
           4.4,
           4.4,
           4.4,
           4.4,
           5,
           5,
           4.5,
           4.5,
           4.5,
           4.5
          ],
          "sizemode": "area",
          "sizeref": 0.0125,
          "symbol": "circle"
         },
         "mode": "markers",
         "name": "sour cream",
         "showlegend": true,
         "type": "scattergl",
         "x": [
          4.4,
          4.4,
          4.4,
          4.4,
          4.4,
          5,
          5,
          4.5,
          4.5,
          4.5,
          4.5
         ],
         "xaxis": "x",
         "y": [
          1400.5,
          1390.7,
          1391.6,
          1375.3,
          1391.2,
          510.7,
          515.8,
          452.8,
          462.3,
          471.5,
          446.5
         ],
         "yaxis": "y"
        },
        {
         "customdata": [
          [
           "mushrooms",
           "soy sauce"
          ],
          [
           "mushrooms",
           "garlic"
          ],
          [
           "mushrooms",
           "onion"
          ],
          [
           "mushrooms",
           "salt"
          ],
          [
           "mushrooms",
           "olive oil"
          ],
          [
           "mushrooms",
           "soy sauce"
          ],
          [
           "mushrooms",
           "cremini"
          ],
          [
           "mushrooms",
           "mustard"
          ],
          [
           "mushrooms",
           "butter"
          ],
          [
           "mushrooms",
           "onion"
          ],
          [
           "mushrooms",
           "salt"
          ],
          [
           "mushrooms",
           "onion"
          ],
          [
           "mushrooms",
           "eggs"
          ],
          [
           "mushrooms",
           "salt"
          ]
         ],
         "hovertemplate": "Ingredient 1=%{customdata[0]}<br>Rating=%{marker.size}<br>Score=%{y}<br>Ingredient 2=%{customdata[1]}<extra></extra>",
         "legendgroup": "mushrooms",
         "marker": {
          "color": "#FF97FF",
          "size": [
           4.4,
           4.4,
           4.4,
           4.4,
           4.5,
           4.5,
           4.5,
           4.5,
           4.5,
           4.5,
           4.5,
           5,
           5,
           5
          ],
          "sizemode": "area",
          "sizeref": 0.0125,
          "symbol": "circle"
         },
         "mode": "markers",
         "name": "mushrooms",
         "showlegend": true,
         "type": "scattergl",
         "x": [
          4.4,
          4.4,
          4.4,
          4.4,
          4.5,
          4.5,
          4.5,
          4.5,
          4.5,
          4.5,
          4.5,
          5,
          5,
          5
         ],
         "xaxis": "x",
         "y": [
          1395.7,
          1388,
          1387.8,
          1396.7,
          439.2,
          469.9,
          440.1,
          447,
          454.7,
          436.4,
          449.9,
          487.2,
          518,
          498.5
         ],
         "yaxis": "y"
        },
        {
         "customdata": [
          [
           "soy sauce",
           "garlic"
          ],
          [
           "soy sauce",
           "onion"
          ],
          [
           "soy sauce",
           "salt"
          ],
          [
           "soy sauce",
           "ketchup"
          ],
          [
           "soy sauce",
           "garlic"
          ],
          [
           "soy sauce",
           "honey"
          ],
          [
           "soy sauce",
           "sake"
          ],
          [
           "soy sauce",
           "cremini"
          ],
          [
           "soy sauce",
           "mustard"
          ],
          [
           "soy sauce",
           "butter"
          ],
          [
           "soy sauce",
           "onion"
          ],
          [
           "soy sauce",
           "salt"
          ]
         ],
         "hovertemplate": "Ingredient 1=%{customdata[0]}<br>Rating=%{marker.size}<br>Score=%{y}<br>Ingredient 2=%{customdata[1]}<extra></extra>",
         "legendgroup": "soy sauce",
         "marker": {
          "color": "#FECB52",
          "size": [
           4.4,
           4.4,
           4.4,
           4.7,
           4.7,
           4.7,
           4.7,
           4.5,
           4.5,
           4.5,
           4.5,
           4.5
          ],
          "sizemode": "area",
          "sizeref": 0.0125,
          "symbol": "circle"
         },
         "mode": "markers",
         "name": "soy sauce",
         "showlegend": true,
         "type": "scattergl",
         "x": [
          4.4,
          4.4,
          4.4,
          4.7,
          4.7,
          4.7,
          4.7,
          4.5,
          4.5,
          4.5,
          4.5,
          4.5
         ],
         "xaxis": "x",
         "y": [
          1378.8,
          1380.2,
          1397.3,
          575.5,
          562.3,
          579.6,
          555.5,
          454.2,
          463.7,
          454.2,
          436,
          459.8
         ],
         "yaxis": "y"
        },
        {
         "customdata": [
          [
           "garlic",
           "onion"
          ],
          [
           "garlic",
           "salt"
          ],
          [
           "garlic",
           "honey"
          ],
          [
           "garlic",
           "sake"
          ],
          [
           "garlic",
           "onion"
          ],
          [
           "garlic",
           "pepper"
          ],
          [
           "garlic",
           "lime"
          ],
          [
           "garlic",
           "salt"
          ]
         ],
         "hovertemplate": "Ingredient 1=%{customdata[0]}<br>Rating=%{marker.size}<br>Score=%{y}<br>Ingredient 2=%{customdata[1]}<extra></extra>",
         "legendgroup": "garlic",
         "marker": {
          "color": "#636efa",
          "size": [
           4.4,
           4.4,
           4.7,
           4.7,
           4,
           4.5,
           4.5,
           4.5
          ],
          "sizemode": "area",
          "sizeref": 0.0125,
          "symbol": "circle"
         },
         "mode": "markers",
         "name": "garlic",
         "showlegend": true,
         "type": "scattergl",
         "x": [
          4.4,
          4.4,
          4.7,
          4.7,
          4,
          4.5,
          4.5,
          4.5
         ],
         "xaxis": "x",
         "y": [
          1402.1,
          1401.1,
          562,
          591.5,
          411.7,
          448.6,
          461,
          448.8
         ],
         "yaxis": "y"
        },
        {
         "customdata": [
          [
           "onion",
           "salt"
          ],
          [
           "onion",
           "salt"
          ],
          [
           "onion",
           "salt"
          ],
          [
           "onion",
           "sauce"
          ],
          [
           "onion",
           "salt"
          ],
          [
           "onion",
           "lime"
          ],
          [
           "onion",
           "red"
          ],
          [
           "onion",
           "eggs"
          ],
          [
           "onion",
           "salt"
          ]
         ],
         "hovertemplate": "Ingredient 1=%{customdata[0]}<br>Rating=%{marker.size}<br>Score=%{y}<br>Ingredient 2=%{customdata[1]}<extra></extra>",
         "legendgroup": "onion",
         "marker": {
          "color": "#EF553B",
          "size": [
           4.4,
           4.7,
           5,
           5,
           4.5,
           4,
           4,
           5,
           5
          ],
          "sizemode": "area",
          "sizeref": 0.0125,
          "symbol": "circle"
         },
         "mode": "markers",
         "name": "onion",
         "showlegend": true,
         "type": "scattergl",
         "x": [
          4.4,
          4.7,
          5,
          5,
          4.5,
          4,
          4,
          5,
          5
         ],
         "xaxis": "x",
         "y": [
          1380.1,
          460.3,
          482.3,
          483.2,
          448.7,
          408.1,
          388.9,
          494,
          503.1
         ],
         "yaxis": "y"
        },
        {
         "customdata": [
          [
           "salt and ground black pepper",
           "stone ground mustard"
          ],
          [
           "salt and ground black pepper",
           "apple cider vinegar"
          ],
          [
           "salt and ground black pepper",
           "shredded cabbage"
          ],
          [
           "salt and ground black pepper",
           "cooked bacon"
          ],
          [
           "salt and ground black pepper",
           "blue cheese"
          ],
          [
           "salt and ground black pepper",
           "white sugar"
          ],
          [
           "salt and ground black pepper",
           "sour cream"
          ],
          [
           "salt and ground black pepper",
           "crumbles"
          ],
          [
           "salt and ground black pepper",
           "grapes"
          ],
          [
           "salt and ground black pepper",
           "clove garlic"
          ],
          [
           "salt and ground black pepper",
           "olive oil"
          ],
          [
           "salt and ground black pepper",
           "shallots"
          ],
          [
           "salt and ground black pepper",
           "baguette"
          ],
          [
           "salt and ground black pepper",
           "butter"
          ],
          [
           "salt and ground black pepper",
           "cheese"
          ],
          [
           "salt and ground black pepper",
           "thyme"
          ],
          [
           "salt and ground black pepper",
           "extra-virgin olive oil"
          ],
          [
           "salt and ground black pepper",
           "seedless red grapes"
          ],
          [
           "salt and ground black pepper",
           "red wine vinegar"
          ],
          [
           "salt and ground black pepper",
           "kosher salt"
          ],
          [
           "salt and ground black pepper",
           "flank steak"
          ],
          [
           "salt and ground black pepper",
           "watercress"
          ],
          [
           "salt and ground black pepper",
           "mustard"
          ],
          [
           "salt and ground black pepper",
           "cheese"
          ],
          [
           "salt and ground black pepper",
           "canned black beans"
          ],
          [
           "salt and ground black pepper",
           "cornflake crumbs"
          ],
          [
           "salt and ground black pepper",
           "ground paprika"
          ],
          [
           "salt and ground black pepper",
           "chile powder"
          ],
          [
           "salt and ground black pepper",
           "ground cumin"
          ],
          [
           "salt and ground black pepper",
           "brown sugar"
          ],
          [
           "salt and ground black pepper",
           "cooked rice"
          ],
          [
           "salt and ground black pepper",
           "olive oil"
          ],
          [
           "salt and ground black pepper",
           "walnuts"
          ],
          [
           "salt and ground black pepper",
           "onion"
          ],
          [
           "salt and ground black pepper",
           "sauce"
          ],
          [
           "salt and ground black pepper",
           "sweet corn"
          ],
          [
           "salt and ground black pepper",
           "cilantro"
          ],
          [
           "salt and ground black pepper",
           "onion"
          ],
          [
           "salt and ground black pepper",
           "lime"
          ],
          [
           "salt and ground black pepper",
           "red"
          ],
          [
           "salt and ground black pepper",
           "ground cumin"
          ],
          [
           "salt and ground black pepper",
           "clove garlic"
          ],
          [
           "salt and ground black pepper",
           "white onion"
          ],
          [
           "salt and ground black pepper",
           "cilantro"
          ],
          [
           "salt and ground black pepper",
           "avocado"
          ],
          [
           "salt and ground black pepper",
           "lime"
          ]
         ],
         "hovertemplate": "Ingredient 1=%{customdata[0]}<br>Rating=%{marker.size}<br>Score=%{y}<br>Ingredient 2=%{customdata[1]}<extra></extra>",
         "legendgroup": "salt and ground black pepper",
         "marker": {
          "color": "#00cc96",
          "size": [
           5,
           5,
           5,
           5,
           5,
           5,
           5,
           5,
           5,
           4.3,
           4.3,
           4.3,
           4.3,
           4.3,
           4.3,
           4.3,
           5,
           5,
           5,
           5,
           5,
           5,
           5,
           5,
           5,
           5,
           5,
           5,
           5,
           5,
           5,
           5,
           5,
           5,
           5,
           4,
           4,
           4,
           4,
           4,
           5,
           5,
           5,
           5,
           5,
           5
          ],
          "sizemode": "area",
          "sizeref": 0.0125,
          "symbol": "circle"
         },
         "mode": "markers",
         "name": "salt and ground black pepper",
         "showlegend": true,
         "type": "scattergl",
         "x": [
          5,
          5,
          5,
          5,
          5,
          5,
          5,
          5,
          5,
          4.3,
          4.3,
          4.3,
          4.3,
          4.3,
          4.3,
          4.3,
          5,
          5,
          5,
          5,
          5,
          5,
          5,
          5,
          5,
          5,
          5,
          5,
          5,
          5,
          5,
          5,
          5,
          5,
          5,
          4,
          4,
          4,
          4,
          4,
          5,
          5,
          5,
          5,
          5,
          5
         ],
         "xaxis": "x",
         "y": [
          485.5,
          502.6,
          501.5,
          505.6,
          500,
          511.3,
          493.3,
          499.4,
          520.3,
          424.2,
          423.6,
          451.6,
          431.8,
          414,
          428.2,
          441.6,
          506.7,
          490.1,
          520.3,
          521.5,
          492.9,
          510.9,
          489.5,
          501.3,
          515.4,
          495.9,
          512.2,
          493.4,
          521.3,
          517.1,
          492.4,
          497.3,
          502.2,
          511.2,
          501.7,
          415.9,
          400.2,
          381.7,
          388.8,
          390.1,
          518,
          511.6,
          518.9,
          496.9,
          510.6,
          494.4
         ],
         "yaxis": "y"
        },
        {
         "customdata": [
          [
           "stone ground mustard",
           "apple cider vinegar"
          ],
          [
           "stone ground mustard",
           "shredded cabbage"
          ],
          [
           "stone ground mustard",
           "cooked bacon"
          ],
          [
           "stone ground mustard",
           "blue cheese"
          ],
          [
           "stone ground mustard",
           "white sugar"
          ],
          [
           "stone ground mustard",
           "sour cream"
          ],
          [
           "stone ground mustard",
           "crumbles"
          ],
          [
           "stone ground mustard",
           "grapes"
          ]
         ],
         "hovertemplate": "Ingredient 1=%{customdata[0]}<br>Rating=%{marker.size}<br>Score=%{y}<br>Ingredient 2=%{customdata[1]}<extra></extra>",
         "legendgroup": "stone ground mustard",
         "marker": {
          "color": "#ab63fa",
          "size": [
           5,
           5,
           5,
           5,
           5,
           5,
           5,
           5
          ],
          "sizemode": "area",
          "sizeref": 0.0125,
          "symbol": "circle"
         },
         "mode": "markers",
         "name": "stone ground mustard",
         "showlegend": true,
         "type": "scattergl",
         "x": [
          5,
          5,
          5,
          5,
          5,
          5,
          5,
          5
         ],
         "xaxis": "x",
         "y": [
          493,
          501.1,
          490.8,
          513.2,
          511.2,
          517.7,
          514.5,
          508.7
         ],
         "yaxis": "y"
        },
        {
         "customdata": [
          [
           "apple cider vinegar",
           "shredded cabbage"
          ],
          [
           "apple cider vinegar",
           "cooked bacon"
          ],
          [
           "apple cider vinegar",
           "blue cheese"
          ],
          [
           "apple cider vinegar",
           "white sugar"
          ],
          [
           "apple cider vinegar",
           "sour cream"
          ],
          [
           "apple cider vinegar",
           "crumbles"
          ],
          [
           "apple cider vinegar",
           "grapes"
          ],
          [
           "apple cider vinegar",
           "green onions"
          ],
          [
           "apple cider vinegar",
           "white sugar"
          ],
          [
           "apple cider vinegar",
           "olive oil"
          ],
          [
           "apple cider vinegar",
           "cilantro"
          ],
          [
           "apple cider vinegar",
           "garlic"
          ],
          [
           "apple cider vinegar",
           "pepper"
          ],
          [
           "apple cider vinegar",
           "lime"
          ],
          [
           "apple cider vinegar",
           "salt"
          ]
         ],
         "hovertemplate": "Ingredient 1=%{customdata[0]}<br>Rating=%{marker.size}<br>Score=%{y}<br>Ingredient 2=%{customdata[1]}<extra></extra>",
         "legendgroup": "apple cider vinegar",
         "marker": {
          "color": "#FFA15A",
          "size": [
           5,
           5,
           5,
           5,
           5,
           5,
           5,
           4.5,
           4.5,
           4.5,
           4.5,
           4.5,
           4.5,
           4.5,
           4.5
          ],
          "sizemode": "area",
          "sizeref": 0.0125,
          "symbol": "circle"
         },
         "mode": "markers",
         "name": "apple cider vinegar",
         "showlegend": true,
         "type": "scattergl",
         "x": [
          5,
          5,
          5,
          5,
          5,
          5,
          5,
          4.5,
          4.5,
          4.5,
          4.5,
          4.5,
          4.5,
          4.5,
          4.5
         ],
         "xaxis": "x",
         "y": [
          506,
          492.6,
          495.9,
          487,
          516.6,
          492.2,
          492,
          461,
          436.7,
          445.4,
          448.7,
          434.5,
          454,
          459.9,
          449.5
         ],
         "yaxis": "y"
        },
        {
         "customdata": [
          [
           "shredded cabbage",
           "cooked bacon"
          ],
          [
           "shredded cabbage",
           "blue cheese"
          ],
          [
           "shredded cabbage",
           "white sugar"
          ],
          [
           "shredded cabbage",
           "sour cream"
          ],
          [
           "shredded cabbage",
           "crumbles"
          ],
          [
           "shredded cabbage",
           "grapes"
          ]
         ],
         "hovertemplate": "Ingredient 1=%{customdata[0]}<br>Rating=%{marker.size}<br>Score=%{y}<br>Ingredient 2=%{customdata[1]}<extra></extra>",
         "legendgroup": "shredded cabbage",
         "marker": {
          "color": "#19d3f3",
          "size": [
           5,
           5,
           5,
           5,
           5,
           5
          ],
          "sizemode": "area",
          "sizeref": 0.0125,
          "symbol": "circle"
         },
         "mode": "markers",
         "name": "shredded cabbage",
         "showlegend": true,
         "type": "scattergl",
         "x": [
          5,
          5,
          5,
          5,
          5,
          5
         ],
         "xaxis": "x",
         "y": [
          520.3,
          494.8,
          519.1,
          482.9,
          495.9,
          482
         ],
         "yaxis": "y"
        },
        {
         "customdata": [
          [
           "cooked bacon",
           "blue cheese"
          ],
          [
           "cooked bacon",
           "white sugar"
          ],
          [
           "cooked bacon",
           "sour cream"
          ],
          [
           "cooked bacon",
           "crumbles"
          ],
          [
           "cooked bacon",
           "grapes"
          ]
         ],
         "hovertemplate": "Ingredient 1=%{customdata[0]}<br>Rating=%{marker.size}<br>Score=%{y}<br>Ingredient 2=%{customdata[1]}<extra></extra>",
         "legendgroup": "cooked bacon",
         "marker": {
          "color": "#FF6692",
          "size": [
           5,
           5,
           5,
           5,
           5
          ],
          "sizemode": "area",
          "sizeref": 0.0125,
          "symbol": "circle"
         },
         "mode": "markers",
         "name": "cooked bacon",
         "showlegend": true,
         "type": "scattergl",
         "x": [
          5,
          5,
          5,
          5,
          5
         ],
         "xaxis": "x",
         "y": [
          519.4,
          483.6,
          505.4,
          502.9,
          504.4
         ],
         "yaxis": "y"
        },
        {
         "customdata": [
          [
           "blue cheese",
           "white sugar"
          ],
          [
           "blue cheese",
           "sour cream"
          ],
          [
           "blue cheese",
           "crumbles"
          ],
          [
           "blue cheese",
           "grapes"
          ]
         ],
         "hovertemplate": "Ingredient 1=%{customdata[0]}<br>Rating=%{marker.size}<br>Score=%{y}<br>Ingredient 2=%{customdata[1]}<extra></extra>",
         "legendgroup": "blue cheese",
         "marker": {
          "color": "#B6E880",
          "size": [
           5,
           5,
           5,
           5
          ],
          "sizemode": "area",
          "sizeref": 0.0125,
          "symbol": "circle"
         },
         "mode": "markers",
         "name": "blue cheese",
         "showlegend": true,
         "type": "scattergl",
         "x": [
          5,
          5,
          5,
          5
         ],
         "xaxis": "x",
         "y": [
          502.7,
          488,
          515,
          518
         ],
         "yaxis": "y"
        },
        {
         "customdata": [
          [
           "white sugar",
           "sour cream"
          ],
          [
           "white sugar",
           "crumbles"
          ],
          [
           "white sugar",
           "grapes"
          ],
          [
           "white sugar",
           "dark rum"
          ],
          [
           "white sugar",
           "brandy"
          ],
          [
           "white sugar",
           "eggs"
          ],
          [
           "white sugar",
           "salt"
          ],
          [
           "white sugar",
           "milk"
          ],
          [
           "white sugar",
           "lemon juice"
          ],
          [
           "white sugar",
           "ice cubes"
          ],
          [
           "white sugar",
           "water"
          ],
          [
           "white sugar",
           "milk"
          ],
          [
           "white sugar",
           "buttermilk"
          ],
          [
           "white sugar",
           "salt"
          ],
          [
           "white sugar",
           "eggs"
          ],
          [
           "white sugar",
           "butter"
          ],
          [
           "white sugar",
           "olive oil"
          ],
          [
           "white sugar",
           "cilantro"
          ],
          [
           "white sugar",
           "garlic"
          ],
          [
           "white sugar",
           "pepper"
          ],
          [
           "white sugar",
           "lime"
          ],
          [
           "white sugar",
           "salt"
          ]
         ],
         "hovertemplate": "Ingredient 1=%{customdata[0]}<br>Rating=%{marker.size}<br>Score=%{y}<br>Ingredient 2=%{customdata[1]}<extra></extra>",
         "legendgroup": "white sugar",
         "marker": {
          "color": "#FF97FF",
          "size": [
           5,
           5,
           5,
           5,
           5,
           5,
           5,
           3,
           4.6,
           4,
           4,
           4,
           4.5,
           4.5,
           4.5,
           5,
           4.5,
           4.5,
           4.5,
           4.5,
           4.5,
           4.5
          ],
          "sizemode": "area",
          "sizeref": 0.0125,
          "symbol": "circle"
         },
         "mode": "markers",
         "name": "white sugar",
         "showlegend": true,
         "type": "scattergl",
         "x": [
          5,
          5,
          5,
          5,
          5,
          5,
          5,
          3,
          4.6,
          4,
          4,
          4,
          4.5,
          4.5,
          4.5,
          5,
          4.5,
          4.5,
          4.5,
          4.5,
          4.5,
          4.5
         ],
         "xaxis": "x",
         "y": [
          500.2,
          494,
          500,
          513.8,
          488.4,
          505.7,
          520.1,
          312.8,
          462.8999999999999,
          418.6,
          402,
          408.2,
          440.2,
          448,
          465.3,
          508,
          460.4,
          445.2,
          449,
          448.7,
          461.3,
          460.3
         ],
         "yaxis": "y"
        },
        {
         "customdata": [
          [
           "crumbles",
           "grapes"
          ]
         ],
         "hovertemplate": "Ingredient 1=%{customdata[0]}<br>Rating=%{marker.size}<br>Score=%{y}<br>Ingredient 2=%{customdata[1]}<extra></extra>",
         "legendgroup": "crumbles",
         "marker": {
          "color": "#FECB52",
          "size": [
           5
          ],
          "sizemode": "area",
          "sizeref": 0.0125,
          "symbol": "circle"
         },
         "mode": "markers",
         "name": "crumbles",
         "showlegend": true,
         "type": "scattergl",
         "x": [
          5
         ],
         "xaxis": "x",
         "y": [
          518.6
         ],
         "yaxis": "y"
        },
        {
         "customdata": [
          [
           "clove garlic",
           "olive oil"
          ],
          [
           "clove garlic",
           "shallots"
          ],
          [
           "clove garlic",
           "baguette"
          ],
          [
           "clove garlic",
           "butter"
          ],
          [
           "clove garlic",
           "cheese"
          ],
          [
           "clove garlic",
           "thyme"
          ],
          [
           "clove garlic",
           "baguette"
          ],
          [
           "clove garlic",
           "parsley"
          ],
          [
           "clove garlic",
           "herbs"
          ],
          [
           "clove garlic",
           "red"
          ],
          [
           "clove garlic",
           "white onion"
          ],
          [
           "clove garlic",
           "cilantro"
          ],
          [
           "clove garlic",
           "avocado"
          ],
          [
           "clove garlic",
           "lime"
          ],
          [
           "clove garlic",
           "chile pepper"
          ],
          [
           "clove garlic",
           "adobo sauce"
          ],
          [
           "clove garlic",
           "olive oil"
          ],
          [
           "clove garlic",
           "onion"
          ]
         ],
         "hovertemplate": "Ingredient 1=%{customdata[0]}<br>Rating=%{marker.size}<br>Score=%{y}<br>Ingredient 2=%{customdata[1]}<extra></extra>",
         "legendgroup": "clove garlic",
         "marker": {
          "color": "#636efa",
          "size": [
           4.3,
           4.3,
           4.3,
           4.3,
           4.3,
           4.3,
           3.6,
           3.6,
           3.6,
           3.6,
           5,
           5,
           5,
           5,
           5,
           5,
           5,
           5
          ],
          "sizemode": "area",
          "sizeref": 0.0125,
          "symbol": "circle"
         },
         "mode": "markers",
         "name": "clove garlic",
         "showlegend": true,
         "type": "scattergl",
         "x": [
          4.3,
          4.3,
          4.3,
          4.3,
          4.3,
          4.3,
          3.6,
          3.6,
          3.6,
          3.6,
          5,
          5,
          5,
          5,
          5,
          5,
          5,
          5
         ],
         "xaxis": "x",
         "y": [
          419.4,
          448.5,
          451.8,
          440.1,
          435,
          439.1,
          362.7,
          353.1,
          369.2,
          381.3,
          482.5,
          501.6,
          500.5,
          500.7,
          487.6,
          486.3,
          501.7,
          520.9
         ],
         "yaxis": "y"
        },
        {
         "customdata": [
          [
           "olive oil",
           "shallots"
          ],
          [
           "olive oil",
           "baguette"
          ],
          [
           "olive oil",
           "butter"
          ],
          [
           "olive oil",
           "cheese"
          ],
          [
           "olive oil",
           "thyme"
          ],
          [
           "olive oil",
           "tomatoes"
          ],
          [
           "olive oil",
           "cucumber"
          ],
          [
           "olive oil",
           "avocado"
          ],
          [
           "olive oil",
           "carrots"
          ],
          [
           "olive oil",
           "onion"
          ],
          [
           "olive oil",
           "salt"
          ],
          [
           "olive oil",
           "walnuts"
          ],
          [
           "olive oil",
           "onion"
          ],
          [
           "olive oil",
           "sauce"
          ],
          [
           "olive oil",
           "soy sauce"
          ],
          [
           "olive oil",
           "cremini"
          ],
          [
           "olive oil",
           "mustard"
          ],
          [
           "olive oil",
           "butter"
          ],
          [
           "olive oil",
           "onion"
          ],
          [
           "olive oil",
           "salt"
          ],
          [
           "olive oil",
           "water"
          ],
          [
           "olive oil",
           "cilantro"
          ],
          [
           "olive oil",
           "garlic"
          ],
          [
           "olive oil",
           "pepper"
          ],
          [
           "olive oil",
           "lime"
          ],
          [
           "olive oil",
           "salt"
          ],
          [
           "olive oil",
           "onion"
          ]
         ],
         "hovertemplate": "Ingredient 1=%{customdata[0]}<br>Rating=%{marker.size}<br>Score=%{y}<br>Ingredient 2=%{customdata[1]}<extra></extra>",
         "legendgroup": "olive oil",
         "marker": {
          "color": "#EF553B",
          "size": [
           4.3,
           4.3,
           4.3,
           4.3,
           4.3,
           5,
           5,
           5,
           5,
           5,
           5,
           5,
           5,
           5,
           4.5,
           4.5,
           4.5,
           4.5,
           4.5,
           4.5,
           4.6,
           4.5,
           4.5,
           4.5,
           4.5,
           4.5,
           5
          ],
          "sizemode": "area",
          "sizeref": 0.0125,
          "symbol": "circle"
         },
         "mode": "markers",
         "name": "olive oil",
         "showlegend": true,
         "type": "scattergl",
         "x": [
          4.3,
          4.3,
          4.3,
          4.3,
          4.3,
          5,
          5,
          5,
          5,
          5,
          5,
          5,
          5,
          5,
          4.5,
          4.5,
          4.5,
          4.5,
          4.5,
          4.5,
          4.6,
          4.5,
          4.5,
          4.5,
          4.5,
          4.5,
          5
         ],
         "xaxis": "x",
         "y": [
          415.6,
          430.2,
          430.8,
          450.9,
          437.5,
          501.1,
          487.1,
          508.8,
          482.6,
          490,
          513.4,
          502.6,
          516,
          489.1,
          459.8,
          461.6,
          461.9,
          464.9,
          448.4,
          456.4,
          476.49999999999994,
          457.1,
          468.5,
          463.3,
          441.3,
          452.3,
          524.1
         ],
         "yaxis": "y"
        },
        {
         "customdata": [
          [
           "shallots",
           "baguette"
          ],
          [
           "shallots",
           "butter"
          ],
          [
           "shallots",
           "cheese"
          ],
          [
           "shallots",
           "thyme"
          ]
         ],
         "hovertemplate": "Ingredient 1=%{customdata[0]}<br>Rating=%{marker.size}<br>Score=%{y}<br>Ingredient 2=%{customdata[1]}<extra></extra>",
         "legendgroup": "shallots",
         "marker": {
          "color": "#00cc96",
          "size": [
           4.3,
           4.3,
           4.3,
           4.3
          ],
          "sizemode": "area",
          "sizeref": 0.0125,
          "symbol": "circle"
         },
         "mode": "markers",
         "name": "shallots",
         "showlegend": true,
         "type": "scattergl",
         "x": [
          4.3,
          4.3,
          4.3,
          4.3
         ],
         "xaxis": "x",
         "y": [
          442.2,
          447.2,
          442,
          442.2
         ],
         "yaxis": "y"
        },
        {
         "customdata": [
          [
           "baguette",
           "butter"
          ],
          [
           "baguette",
           "cheese"
          ],
          [
           "baguette",
           "thyme"
          ],
          [
           "baguette",
           "parsley"
          ],
          [
           "baguette",
           "herbs"
          ],
          [
           "baguette",
           "red"
          ],
          [
           "baguette",
           "walnuts"
          ],
          [
           "baguette",
           "honey"
          ]
         ],
         "hovertemplate": "Ingredient 1=%{customdata[0]}<br>Rating=%{marker.size}<br>Score=%{y}<br>Ingredient 2=%{customdata[1]}<extra></extra>",
         "legendgroup": "baguette",
         "marker": {
          "color": "#ab63fa",
          "size": [
           4.3,
           4.3,
           4.3,
           3.6,
           3.6,
           3.6,
           5,
           5
          ],
          "sizemode": "area",
          "sizeref": 0.0125,
          "symbol": "circle"
         },
         "mode": "markers",
         "name": "baguette",
         "showlegend": true,
         "type": "scattergl",
         "x": [
          4.3,
          4.3,
          4.3,
          3.6,
          3.6,
          3.6,
          5,
          5
         ],
         "xaxis": "x",
         "y": [
          420.4,
          451.4,
          418,
          349.4,
          365.7,
          375.1,
          502.5,
          510.9
         ],
         "yaxis": "y"
        },
        {
         "customdata": [
          [
           "butter",
           "cheese"
          ],
          [
           "butter",
           "thyme"
          ],
          [
           "butter",
           "eggs"
          ],
          [
           "butter",
           "salt"
          ],
          [
           "butter",
           "onion"
          ],
          [
           "butter",
           "salt"
          ],
          [
           "butter",
           "salt"
          ],
          [
           "butter",
           "pecans"
          ]
         ],
         "hovertemplate": "Ingredient 1=%{customdata[0]}<br>Rating=%{marker.size}<br>Score=%{y}<br>Ingredient 2=%{customdata[1]}<extra></extra>",
         "legendgroup": "butter",
         "marker": {
          "color": "#FFA15A",
          "size": [
           4.3,
           4.3,
           4,
           4,
           4.5,
           4.5,
           3.5,
           5
          ],
          "sizemode": "area",
          "sizeref": 0.0125,
          "symbol": "circle"
         },
         "mode": "markers",
         "name": "butter",
         "showlegend": true,
         "type": "scattergl",
         "x": [
          4.3,
          4.3,
          4,
          4,
          4.5,
          4.5,
          3.5,
          5
         ],
         "xaxis": "x",
         "y": [
          421.1,
          441.3,
          417.5,
          412.5,
          438.2,
          469.3,
          340.1,
          498
         ],
         "yaxis": "y"
        },
        {
         "customdata": [
          [
           "cheese",
           "thyme"
          ],
          [
           "cheese",
           "gravy"
          ],
          [
           "cheese",
           "milk"
          ],
          [
           "cheese",
           "eggs"
          ],
          [
           "cheese",
           "salt"
          ],
          [
           "cheese",
           "salt"
          ]
         ],
         "hovertemplate": "Ingredient 1=%{customdata[0]}<br>Rating=%{marker.size}<br>Score=%{y}<br>Ingredient 2=%{customdata[1]}<extra></extra>",
         "legendgroup": "cheese",
         "marker": {
          "color": "#19d3f3",
          "size": [
           4.3,
           3.9,
           3.9,
           3.9,
           3.9,
           4.8
          ],
          "sizemode": "area",
          "sizeref": 0.0125,
          "symbol": "circle"
         },
         "mode": "markers",
         "name": "cheese",
         "showlegend": true,
         "type": "scattergl",
         "x": [
          4.3,
          3.9,
          3.9,
          3.9,
          3.9,
          4.8
         ],
         "xaxis": "x",
         "y": [
          450,
          415.8,
          393.7,
          415.6,
          418.6,
          474.1
         ],
         "yaxis": "y"
        },
        {
         "customdata": [
          [
           "pitted black olives",
           "pitted green olives"
          ],
          [
           "pitted black olives",
           "semi-soft cheese"
          ],
          [
           "pitted black olives",
           "cream cheese"
          ],
          [
           "pitted black olives",
           "clove garlic"
          ],
          [
           "pitted black olives",
           "baguette"
          ],
          [
           "pitted black olives",
           "parsley"
          ],
          [
           "pitted black olives",
           "herbs"
          ],
          [
           "pitted black olives",
           "red"
          ]
         ],
         "hovertemplate": "Ingredient 1=%{customdata[0]}<br>Rating=%{marker.size}<br>Score=%{y}<br>Ingredient 2=%{customdata[1]}<extra></extra>",
         "legendgroup": "pitted black olives",
         "marker": {
          "color": "#FF6692",
          "size": [
           3.6,
           3.6,
           3.6,
           3.6,
           3.6,
           3.6,
           3.6,
           3.6
          ],
          "sizemode": "area",
          "sizeref": 0.0125,
          "symbol": "circle"
         },
         "mode": "markers",
         "name": "pitted black olives",
         "showlegend": true,
         "type": "scattergl",
         "x": [
          3.6,
          3.6,
          3.6,
          3.6,
          3.6,
          3.6,
          3.6,
          3.6
         ],
         "xaxis": "x",
         "y": [
          379.5,
          372.6,
          365.8,
          377.6,
          375.9,
          363.6,
          377.8,
          368
         ],
         "yaxis": "y"
        },
        {
         "customdata": [
          [
           "pitted green olives",
           "semi-soft cheese"
          ],
          [
           "pitted green olives",
           "cream cheese"
          ],
          [
           "pitted green olives",
           "clove garlic"
          ],
          [
           "pitted green olives",
           "baguette"
          ],
          [
           "pitted green olives",
           "parsley"
          ],
          [
           "pitted green olives",
           "herbs"
          ],
          [
           "pitted green olives",
           "red"
          ]
         ],
         "hovertemplate": "Ingredient 1=%{customdata[0]}<br>Rating=%{marker.size}<br>Score=%{y}<br>Ingredient 2=%{customdata[1]}<extra></extra>",
         "legendgroup": "pitted green olives",
         "marker": {
          "color": "#B6E880",
          "size": [
           3.6,
           3.6,
           3.6,
           3.6,
           3.6,
           3.6,
           3.6
          ],
          "sizemode": "area",
          "sizeref": 0.0125,
          "symbol": "circle"
         },
         "mode": "markers",
         "name": "pitted green olives",
         "showlegend": true,
         "type": "scattergl",
         "x": [
          3.6,
          3.6,
          3.6,
          3.6,
          3.6,
          3.6,
          3.6
         ],
         "xaxis": "x",
         "y": [
          366.8,
          344,
          359.7,
          371.9,
          377.9,
          369.9,
          382.7
         ],
         "yaxis": "y"
        },
        {
         "customdata": [
          [
           "semi-soft cheese",
           "cream cheese"
          ],
          [
           "semi-soft cheese",
           "clove garlic"
          ],
          [
           "semi-soft cheese",
           "baguette"
          ],
          [
           "semi-soft cheese",
           "parsley"
          ],
          [
           "semi-soft cheese",
           "herbs"
          ],
          [
           "semi-soft cheese",
           "red"
          ]
         ],
         "hovertemplate": "Ingredient 1=%{customdata[0]}<br>Rating=%{marker.size}<br>Score=%{y}<br>Ingredient 2=%{customdata[1]}<extra></extra>",
         "legendgroup": "semi-soft cheese",
         "marker": {
          "color": "#FF97FF",
          "size": [
           3.6,
           3.6,
           3.6,
           3.6,
           3.6,
           3.6
          ],
          "sizemode": "area",
          "sizeref": 0.0125,
          "symbol": "circle"
         },
         "mode": "markers",
         "name": "semi-soft cheese",
         "showlegend": true,
         "type": "scattergl",
         "x": [
          3.6,
          3.6,
          3.6,
          3.6,
          3.6,
          3.6
         ],
         "xaxis": "x",
         "y": [
          359,
          370.5,
          361,
          367.1,
          379.1,
          344.9
         ],
         "yaxis": "y"
        },
        {
         "customdata": [
          [
           "cream cheese",
           "clove garlic"
          ],
          [
           "cream cheese",
           "baguette"
          ],
          [
           "cream cheese",
           "parsley"
          ],
          [
           "cream cheese",
           "herbs"
          ],
          [
           "cream cheese",
           "red"
          ],
          [
           "cream cheese",
           "dinner rolls"
          ],
          [
           "cream cheese",
           "brown sugar"
          ],
          [
           "cream cheese",
           "white sugar"
          ],
          [
           "cream cheese",
           "butter"
          ]
         ],
         "hovertemplate": "Ingredient 1=%{customdata[0]}<br>Rating=%{marker.size}<br>Score=%{y}<br>Ingredient 2=%{customdata[1]}<extra></extra>",
         "legendgroup": "cream cheese",
         "marker": {
          "color": "#FECB52",
          "size": [
           3.6,
           3.6,
           3.6,
           3.6,
           3.6,
           5,
           5,
           5,
           5
          ],
          "sizemode": "area",
          "sizeref": 0.0125,
          "symbol": "circle"
         },
         "mode": "markers",
         "name": "cream cheese",
         "showlegend": true,
         "type": "scattergl",
         "x": [
          3.6,
          3.6,
          3.6,
          3.6,
          3.6,
          5,
          5,
          5,
          5
         ],
         "xaxis": "x",
         "y": [
          381.4,
          348.5,
          346.7,
          355.9,
          364.5,
          502.6,
          509.1,
          483.7,
          501.8
         ],
         "yaxis": "y"
        },
        {
         "customdata": [
          [
           "parsley",
           "herbs"
          ],
          [
           "parsley",
           "red"
          ],
          [
           "parsley",
           "chives"
          ]
         ],
         "hovertemplate": "Ingredient 1=%{customdata[0]}<br>Rating=%{marker.size}<br>Score=%{y}<br>Ingredient 2=%{customdata[1]}<extra></extra>",
         "legendgroup": "parsley",
         "marker": {
          "color": "#636efa",
          "size": [
           3.6,
           3.6,
           4.5
          ],
          "sizemode": "area",
          "sizeref": 0.0125,
          "symbol": "circle"
         },
         "mode": "markers",
         "name": "parsley",
         "showlegend": true,
         "type": "scattergl",
         "x": [
          3.6,
          3.6,
          4.5
         ],
         "xaxis": "x",
         "y": [
          368.4,
          367.3,
          503.4
         ],
         "yaxis": "y"
        },
        {
         "customdata": [
          [
           "herbs",
           "red"
          ]
         ],
         "hovertemplate": "Ingredient 1=%{customdata[0]}<br>Rating=%{marker.size}<br>Score=%{y}<br>Ingredient 2=%{customdata[1]}<extra></extra>",
         "legendgroup": "herbs",
         "marker": {
          "color": "#EF553B",
          "size": [
           3.6
          ],
          "sizemode": "area",
          "sizeref": 0.0125,
          "symbol": "circle"
         },
         "mode": "markers",
         "name": "herbs",
         "showlegend": true,
         "type": "scattergl",
         "x": [
          3.6
         ],
         "xaxis": "x",
         "y": [
          356.1
         ],
         "yaxis": "y"
        },
        {
         "customdata": [
          [
           "goat cheese",
           "rosemary"
          ],
          [
           "goat cheese",
           "baguette"
          ],
          [
           "goat cheese",
           "walnuts"
          ],
          [
           "goat cheese",
           "honey"
          ]
         ],
         "hovertemplate": "Ingredient 1=%{customdata[0]}<br>Rating=%{marker.size}<br>Score=%{y}<br>Ingredient 2=%{customdata[1]}<extra></extra>",
         "legendgroup": "goat cheese",
         "marker": {
          "color": "#00cc96",
          "size": [
           5,
           5,
           5,
           5
          ],
          "sizemode": "area",
          "sizeref": 0.0125,
          "symbol": "circle"
         },
         "mode": "markers",
         "name": "goat cheese",
         "showlegend": true,
         "type": "scattergl",
         "x": [
          5,
          5,
          5,
          5
         ],
         "xaxis": "x",
         "y": [
          501.7,
          484.3,
          489.5,
          516.7
         ],
         "yaxis": "y"
        },
        {
         "customdata": [
          [
           "rosemary",
           "baguette"
          ],
          [
           "rosemary",
           "walnuts"
          ],
          [
           "rosemary",
           "honey"
          ]
         ],
         "hovertemplate": "Ingredient 1=%{customdata[0]}<br>Rating=%{marker.size}<br>Score=%{y}<br>Ingredient 2=%{customdata[1]}<extra></extra>",
         "legendgroup": "rosemary",
         "marker": {
          "color": "#ab63fa",
          "size": [
           5,
           5,
           5
          ],
          "sizemode": "area",
          "sizeref": 0.0125,
          "symbol": "circle"
         },
         "mode": "markers",
         "name": "rosemary",
         "showlegend": true,
         "type": "scattergl",
         "x": [
          5,
          5,
          5
         ],
         "xaxis": "x",
         "y": [
          515.9,
          492.9,
          510.6
         ],
         "yaxis": "y"
        },
        {
         "customdata": [
          [
           "walnuts",
           "honey"
          ],
          [
           "walnuts",
           "onion"
          ],
          [
           "walnuts",
           "sauce"
          ]
         ],
         "hovertemplate": "Ingredient 1=%{customdata[0]}<br>Rating=%{marker.size}<br>Score=%{y}<br>Ingredient 2=%{customdata[1]}<extra></extra>",
         "legendgroup": "walnuts",
         "marker": {
          "color": "#FFA15A",
          "size": [
           5,
           5,
           5
          ],
          "sizemode": "area",
          "sizeref": 0.0125,
          "symbol": "circle"
         },
         "mode": "markers",
         "name": "walnuts",
         "showlegend": true,
         "type": "scattergl",
         "x": [
          5,
          5,
          5
         ],
         "xaxis": "x",
         "y": [
          512.6,
          491.2,
          499.8
         ],
         "yaxis": "y"
        },
        {
         "customdata": [
          [
           "heavy whipping cream",
           "vanilla extract"
          ],
          [
           "heavy whipping cream",
           "ground nutmeg"
          ],
          [
           "heavy whipping cream",
           "white sugar"
          ],
          [
           "heavy whipping cream",
           "dark rum"
          ],
          [
           "heavy whipping cream",
           "brandy"
          ],
          [
           "heavy whipping cream",
           "eggs"
          ],
          [
           "heavy whipping cream",
           "salt"
          ],
          [
           "heavy whipping cream",
           "ground cinnamon"
          ],
          [
           "heavy whipping cream",
           "cayenne pepper"
          ],
          [
           "heavy whipping cream",
           "chile powder"
          ],
          [
           "heavy whipping cream",
           "white sugar"
          ],
          [
           "heavy whipping cream",
           "milk"
          ],
          [
           "heavy whipping cream",
           "vanilla extract"
          ],
          [
           "heavy whipping cream",
           "ground cinnamon"
          ],
          [
           "heavy whipping cream",
           "golden raisins"
          ],
          [
           "heavy whipping cream",
           "cooking spray"
          ],
          [
           "heavy whipping cream",
           "cream cheese"
          ],
          [
           "heavy whipping cream",
           "dinner rolls"
          ],
          [
           "heavy whipping cream",
           "brown sugar"
          ],
          [
           "heavy whipping cream",
           "white sugar"
          ],
          [
           "heavy whipping cream",
           "butter"
          ],
          [
           "heavy whipping cream",
           "ground white pepper"
          ],
          [
           "heavy whipping cream",
           "all-purpose flour"
          ],
          [
           "heavy whipping cream",
           "roasted cashews"
          ],
          [
           "heavy whipping cream",
           "cooked chicken"
          ],
          [
           "heavy whipping cream",
           "baby broccoli"
          ],
          [
           "heavy whipping cream",
           "chicken broth"
          ],
          [
           "heavy whipping cream",
           "jasmine rice"
          ],
          [
           "heavy whipping cream",
           "tarragon"
          ],
          [
           "heavy whipping cream",
           "butter"
          ],
          [
           "heavy whipping cream",
           "salt"
          ]
         ],
         "hovertemplate": "Ingredient 1=%{customdata[0]}<br>Rating=%{marker.size}<br>Score=%{y}<br>Ingredient 2=%{customdata[1]}<extra></extra>",
         "legendgroup": "heavy whipping cream",
         "marker": {
          "color": "#19d3f3",
          "size": [
           5,
           5,
           5,
           5,
           5,
           5,
           5,
           3,
           3,
           3,
           3,
           3,
           5,
           5,
           5,
           5,
           5,
           5,
           5,
           5,
           5,
           3.5,
           3.5,
           3.5,
           3.5,
           3.5,
           3.5,
           3.5,
           3.5,
           3.5,
           3.5
          ],
          "sizemode": "area",
          "sizeref": 0.0125,
          "symbol": "circle"
         },
         "mode": "markers",
         "name": "heavy whipping cream",
         "showlegend": true,
         "type": "scattergl",
         "x": [
          5,
          5,
          5,
          5,
          5,
          5,
          5,
          3,
          3,
          3,
          3,
          3,
          5,
          5,
          5,
          5,
          5,
          5,
          5,
          5,
          5,
          3.5,
          3.5,
          3.5,
          3.5,
          3.5,
          3.5,
          3.5,
          3.5,
          3.5,
          3.5
         ],
         "xaxis": "x",
         "y": [
          507.9,
          503.6,
          492.8,
          512.2,
          517.7,
          498.3,
          503.4,
          294.8,
          300.3,
          302.4,
          309,
          294.2,
          518.3,
          503.5,
          508.6,
          501.2,
          491.1,
          505.3,
          516.2,
          497.9,
          497.2,
          361.9,
          348.8,
          337.5,
          356.1,
          364,
          352.7,
          342.3,
          343.3,
          344.6,
          365.4
         ],
         "yaxis": "y"
        },
        {
         "customdata": [
          [
           "vanilla extract",
           "ground nutmeg"
          ],
          [
           "vanilla extract",
           "white sugar"
          ],
          [
           "vanilla extract",
           "dark rum"
          ],
          [
           "vanilla extract",
           "brandy"
          ],
          [
           "vanilla extract",
           "eggs"
          ],
          [
           "vanilla extract",
           "salt"
          ],
          [
           "vanilla extract",
           "whipped cream"
          ],
          [
           "vanilla extract",
           "white sugar"
          ],
          [
           "vanilla extract",
           "ice cubes"
          ],
          [
           "vanilla extract",
           "water"
          ],
          [
           "vanilla extract",
           "milk"
          ],
          [
           "vanilla extract",
           "chocolate chips"
          ],
          [
           "vanilla extract",
           "brewed coffee"
          ],
          [
           "vanilla extract",
           "baking soda"
          ],
          [
           "vanilla extract",
           "black beans"
          ],
          [
           "vanilla extract",
           "salt"
          ],
          [
           "vanilla extract",
           "eggs"
          ],
          [
           "vanilla extract",
           "coffee granules"
          ],
          [
           "vanilla extract",
           "instant coffee"
          ],
          [
           "vanilla extract",
           "baking powder"
          ],
          [
           "vanilla extract",
           "agave nectar"
          ],
          [
           "vanilla extract",
           "cocoa powder"
          ],
          [
           "vanilla extract",
           "black beans"
          ],
          [
           "vanilla extract",
           "hazelnuts"
          ],
          [
           "vanilla extract",
           "butter"
          ],
          [
           "vanilla extract",
           "eggs"
          ],
          [
           "vanilla extract",
           "salt"
          ],
          [
           "vanilla extract",
           "vegetable oil"
          ],
          [
           "vanilla extract",
           "baking powder"
          ],
          [
           "vanilla extract",
           "cocoa powder"
          ],
          [
           "vanilla extract",
           "baking soda"
          ],
          [
           "vanilla extract",
           "white sugar"
          ],
          [
           "vanilla extract",
           "buttermilk"
          ],
          [
           "vanilla extract",
           "salt"
          ],
          [
           "vanilla extract",
           "eggs"
          ],
          [
           "vanilla extract",
           "ground cinnamon"
          ],
          [
           "vanilla extract",
           "golden raisins"
          ],
          [
           "vanilla extract",
           "cooking spray"
          ],
          [
           "vanilla extract",
           "cream cheese"
          ],
          [
           "vanilla extract",
           "dinner rolls"
          ],
          [
           "vanilla extract",
           "brown sugar"
          ],
          [
           "vanilla extract",
           "white sugar"
          ],
          [
           "vanilla extract",
           "butter"
          ]
         ],
         "hovertemplate": "Ingredient 1=%{customdata[0]}<br>Rating=%{marker.size}<br>Score=%{y}<br>Ingredient 2=%{customdata[1]}<extra></extra>",
         "legendgroup": "vanilla extract",
         "marker": {
          "color": "#FF6692",
          "size": [
           5,
           5,
           5,
           5,
           5,
           5,
           4,
           4,
           4,
           4,
           4,
           3.6,
           3.6,
           3.6,
           3.6,
           3.6,
           3.6,
           4,
           4,
           4,
           4,
           4,
           4,
           4,
           4,
           4,
           4,
           4.5,
           4.5,
           4.5,
           4.5,
           4.5,
           4.5,
           4.5,
           4.5,
           5,
           5,
           5,
           5,
           5,
           5,
           5,
           5
          ],
          "sizemode": "area",
          "sizeref": 0.0125,
          "symbol": "circle"
         },
         "mode": "markers",
         "name": "vanilla extract",
         "showlegend": true,
         "type": "scattergl",
         "x": [
          5,
          5,
          5,
          5,
          5,
          5,
          4,
          4,
          4,
          4,
          4,
          3.6,
          3.6,
          3.6,
          3.6,
          3.6,
          3.6,
          4,
          4,
          4,
          4,
          4,
          4,
          4,
          4,
          4,
          4,
          4.5,
          4.5,
          4.5,
          4.5,
          4.5,
          4.5,
          4.5,
          4.5,
          5,
          5,
          5,
          5,
          5,
          5,
          5,
          5
         ],
         "xaxis": "x",
         "y": [
          507.3,
          485.6,
          491.7,
          486.1,
          505.7,
          491.8,
          418.2,
          387.8,
          400.9,
          404.7,
          420.4,
          357.3,
          358.2,
          367.1,
          345.4,
          356.1,
          365.5,
          387.7,
          397.8,
          393.1,
          409.9,
          382,
          384.4,
          402,
          391.3,
          385.5,
          413.4,
          444.2,
          458.9,
          473,
          474.6,
          437.9,
          473.1,
          437.3,
          451.3,
          520,
          499.8,
          507.4,
          482.6,
          513.4,
          496.1,
          488.6,
          484
         ],
         "yaxis": "y"
        },
        {
         "customdata": [
          [
           "ground nutmeg",
           "white sugar"
          ],
          [
           "ground nutmeg",
           "dark rum"
          ],
          [
           "ground nutmeg",
           "brandy"
          ],
          [
           "ground nutmeg",
           "eggs"
          ],
          [
           "ground nutmeg",
           "salt"
          ]
         ],
         "hovertemplate": "Ingredient 1=%{customdata[0]}<br>Rating=%{marker.size}<br>Score=%{y}<br>Ingredient 2=%{customdata[1]}<extra></extra>",
         "legendgroup": "ground nutmeg",
         "marker": {
          "color": "#B6E880",
          "size": [
           5,
           5,
           5,
           5,
           5
          ],
          "sizemode": "area",
          "sizeref": 0.0125,
          "symbol": "circle"
         },
         "mode": "markers",
         "name": "ground nutmeg",
         "showlegend": true,
         "type": "scattergl",
         "x": [
          5,
          5,
          5,
          5,
          5
         ],
         "xaxis": "x",
         "y": [
          499.5,
          502.5,
          519.1,
          511.8,
          514.6
         ],
         "yaxis": "y"
        },
        {
         "customdata": [
          [
           "dark rum",
           "brandy"
          ],
          [
           "dark rum",
           "eggs"
          ],
          [
           "dark rum",
           "salt"
          ]
         ],
         "hovertemplate": "Ingredient 1=%{customdata[0]}<br>Rating=%{marker.size}<br>Score=%{y}<br>Ingredient 2=%{customdata[1]}<extra></extra>",
         "legendgroup": "dark rum",
         "marker": {
          "color": "#FF97FF",
          "size": [
           5,
           5,
           5
          ],
          "sizemode": "area",
          "sizeref": 0.0125,
          "symbol": "circle"
         },
         "mode": "markers",
         "name": "dark rum",
         "showlegend": true,
         "type": "scattergl",
         "x": [
          5,
          5,
          5
         ],
         "xaxis": "x",
         "y": [
          484.3,
          504.1,
          493.4
         ],
         "yaxis": "y"
        },
        {
         "customdata": [
          [
           "brandy",
           "eggs"
          ],
          [
           "brandy",
           "salt"
          ]
         ],
         "hovertemplate": "Ingredient 1=%{customdata[0]}<br>Rating=%{marker.size}<br>Score=%{y}<br>Ingredient 2=%{customdata[1]}<extra></extra>",
         "legendgroup": "brandy",
         "marker": {
          "color": "#FECB52",
          "size": [
           5,
           5
          ],
          "sizemode": "area",
          "sizeref": 0.0125,
          "symbol": "circle"
         },
         "mode": "markers",
         "name": "brandy",
         "showlegend": true,
         "type": "scattergl",
         "x": [
          5,
          5
         ],
         "xaxis": "x",
         "y": [
          507.9,
          487.2
         ],
         "yaxis": "y"
        },
        {
         "customdata": [
          [
           "eggs",
           "salt"
          ],
          [
           "eggs",
           "salt"
          ],
          [
           "eggs",
           "salt"
          ],
          [
           "eggs",
           "salt"
          ],
          [
           "eggs",
           "lime"
          ]
         ],
         "hovertemplate": "Ingredient 1=%{customdata[0]}<br>Rating=%{marker.size}<br>Score=%{y}<br>Ingredient 2=%{customdata[1]}<extra></extra>",
         "legendgroup": "eggs",
         "marker": {
          "color": "#636efa",
          "size": [
           5,
           4,
           3.9,
           5,
           4.5
          ],
          "sizemode": "area",
          "sizeref": 0.0125,
          "symbol": "circle"
         },
         "mode": "markers",
         "name": "eggs",
         "showlegend": true,
         "type": "scattergl",
         "x": [
          5,
          4,
          3.9,
          5,
          4.5
         ],
         "xaxis": "x",
         "y": [
          511,
          408.7,
          393.7,
          513.7,
          472.1
         ],
         "yaxis": "y"
        },
        {
         "customdata": [
          [
           "unsweetened cocoa powder",
           "heavy whipping cream"
          ],
          [
           "unsweetened cocoa powder",
           "ground cinnamon"
          ],
          [
           "unsweetened cocoa powder",
           "cayenne pepper"
          ],
          [
           "unsweetened cocoa powder",
           "chile powder"
          ],
          [
           "unsweetened cocoa powder",
           "white sugar"
          ],
          [
           "unsweetened cocoa powder",
           "milk"
          ],
          [
           "unsweetened cocoa powder",
           "unsweetened applesauce"
          ],
          [
           "unsweetened cocoa powder",
           "vanilla extract"
          ],
          [
           "unsweetened cocoa powder",
           "chocolate chips"
          ],
          [
           "unsweetened cocoa powder",
           "brewed coffee"
          ],
          [
           "unsweetened cocoa powder",
           "baking soda"
          ],
          [
           "unsweetened cocoa powder",
           "black beans"
          ],
          [
           "unsweetened cocoa powder",
           "salt"
          ],
          [
           "unsweetened cocoa powder",
           "eggs"
          ],
          [
           "unsweetened cocoa powder",
           "natural peanut butter"
          ],
          [
           "unsweetened cocoa powder",
           "shredded coconut"
          ],
          [
           "unsweetened cocoa powder",
           "blueberries"
          ],
          [
           "unsweetened cocoa powder",
           "maple syrup"
          ],
          [
           "unsweetened cocoa powder",
           "chia seeds"
          ]
         ],
         "hovertemplate": "Ingredient 1=%{customdata[0]}<br>Rating=%{marker.size}<br>Score=%{y}<br>Ingredient 2=%{customdata[1]}<extra></extra>",
         "legendgroup": "unsweetened cocoa powder",
         "marker": {
          "color": "#EF553B",
          "size": [
           3,
           3,
           3,
           3,
           3,
           3,
           3.6,
           3.6,
           3.6,
           3.6,
           3.6,
           3.6,
           3.6,
           3.6,
           4.5,
           4.5,
           4.5,
           4.5,
           4.5
          ],
          "sizemode": "area",
          "sizeref": 0.0125,
          "symbol": "circle"
         },
         "mode": "markers",
         "name": "unsweetened cocoa powder",
         "showlegend": true,
         "type": "scattergl",
         "x": [
          3,
          3,
          3,
          3,
          3,
          3,
          3.6,
          3.6,
          3.6,
          3.6,
          3.6,
          3.6,
          3.6,
          3.6,
          4.5,
          4.5,
          4.5,
          4.5,
          4.5
         ],
         "xaxis": "x",
         "y": [
          299.8,
          320.7,
          314,
          284.6,
          303.3,
          301.6,
          384.1,
          366.1,
          348.7,
          373.5,
          347.9,
          349.2,
          380.8,
          370.7,
          462.4,
          438.2,
          453.8,
          439.2,
          446.6
         ],
         "yaxis": "y"
        },
        {
         "customdata": [
          [
           "ground cinnamon",
           "cayenne pepper"
          ],
          [
           "ground cinnamon",
           "chile powder"
          ],
          [
           "ground cinnamon",
           "white sugar"
          ],
          [
           "ground cinnamon",
           "milk"
          ],
          [
           "ground cinnamon",
           "golden raisins"
          ],
          [
           "ground cinnamon",
           "cooking spray"
          ],
          [
           "ground cinnamon",
           "cream cheese"
          ],
          [
           "ground cinnamon",
           "dinner rolls"
          ],
          [
           "ground cinnamon",
           "brown sugar"
          ],
          [
           "ground cinnamon",
           "white sugar"
          ],
          [
           "ground cinnamon",
           "butter"
          ]
         ],
         "hovertemplate": "Ingredient 1=%{customdata[0]}<br>Rating=%{marker.size}<br>Score=%{y}<br>Ingredient 2=%{customdata[1]}<extra></extra>",
         "legendgroup": "ground cinnamon",
         "marker": {
          "color": "#00cc96",
          "size": [
           3,
           3,
           3,
           3,
           5,
           5,
           5,
           5,
           5,
           5,
           5
          ],
          "sizemode": "area",
          "sizeref": 0.0125,
          "symbol": "circle"
         },
         "mode": "markers",
         "name": "ground cinnamon",
         "showlegend": true,
         "type": "scattergl",
         "x": [
          3,
          3,
          3,
          3,
          5,
          5,
          5,
          5,
          5,
          5,
          5
         ],
         "xaxis": "x",
         "y": [
          297.8,
          302.6,
          314.5,
          315.4,
          487,
          507.9,
          503.8,
          498.1,
          515.9,
          509.4,
          495.1
         ],
         "yaxis": "y"
        },
        {
         "customdata": [
          [
           "cayenne pepper",
           "chile powder"
          ],
          [
           "cayenne pepper",
           "white sugar"
          ],
          [
           "cayenne pepper",
           "milk"
          ],
          [
           "cayenne pepper",
           "garlic powder"
          ],
          [
           "cayenne pepper",
           "ground cumin"
          ],
          [
           "cayenne pepper",
           "onion powder"
          ],
          [
           "cayenne pepper",
           "brown sugar"
          ],
          [
           "cayenne pepper",
           "pork ribs"
          ],
          [
           "cayenne pepper",
           "juice"
          ],
          [
           "cayenne pepper",
           "honey"
          ],
          [
           "cayenne pepper",
           "salt"
          ],
          [
           "cayenne pepper",
           "lime"
          ],
          [
           "cayenne pepper",
           "beer"
          ],
          [
           "cayenne pepper",
           "hoisin sauce"
          ],
          [
           "cayenne pepper",
           "kosher salt"
          ],
          [
           "cayenne pepper",
           "brown sugar"
          ],
          [
           "cayenne pepper",
           "curing salt"
          ],
          [
           "cayenne pepper",
           "dry sherry"
          ],
          [
           "cayenne pepper",
           "pork butt"
          ],
          [
           "cayenne pepper",
           "rice wine"
          ],
          [
           "cayenne pepper",
           "soy sauce"
          ],
          [
           "cayenne pepper",
           "ketchup"
          ],
          [
           "cayenne pepper",
           "garlic"
          ],
          [
           "cayenne pepper",
           "honey"
          ],
          [
           "cayenne pepper",
           "sake"
          ],
          [
           "cayenne pepper",
           "vegetable oil"
          ],
          [
           "cayenne pepper",
           "garlic powder"
          ],
          [
           "cayenne pepper",
           "mustard"
          ]
         ],
         "hovertemplate": "Ingredient 1=%{customdata[0]}<br>Rating=%{marker.size}<br>Score=%{y}<br>Ingredient 2=%{customdata[1]}<extra></extra>",
         "legendgroup": "cayenne pepper",
         "marker": {
          "color": "#ab63fa",
          "size": [
           3,
           3,
           3,
           5,
           5,
           5,
           5,
           5,
           5,
           5,
           5,
           5,
           5,
           4.7,
           4.7,
           4.7,
           4.7,
           4.7,
           4.7,
           4.7,
           4.7,
           4.7,
           4.7,
           4.7,
           4.7,
           4.5,
           4.5,
           4.5
          ],
          "sizemode": "area",
          "sizeref": 0.0125,
          "symbol": "circle"
         },
         "mode": "markers",
         "name": "cayenne pepper",
         "showlegend": true,
         "type": "scattergl",
         "x": [
          3,
          3,
          3,
          5,
          5,
          5,
          5,
          5,
          5,
          5,
          5,
          5,
          5,
          4.7,
          4.7,
          4.7,
          4.7,
          4.7,
          4.7,
          4.7,
          4.7,
          4.7,
          4.7,
          4.7,
          4.7,
          4.5,
          4.5,
          4.5
         ],
         "xaxis": "x",
         "y": [
          295.9,
          306.3,
          302.8,
          511.8,
          484.5,
          520.4,
          491.5,
          484.4,
          513.6,
          491.5,
          500.3,
          495.2,
          488.5,
          563.5,
          587.1,
          591,
          585.7,
          571,
          560.2,
          580.9,
          558,
          588.1,
          580.9,
          568.3,
          583.7,
          471.6,
          436.2,
          463.4
         ],
         "yaxis": "y"
        },
        {
         "customdata": [
          [
           "chile powder",
           "white sugar"
          ],
          [
           "chile powder",
           "milk"
          ],
          [
           "chile powder",
           "ground cumin"
          ],
          [
           "chile powder",
           "brown sugar"
          ],
          [
           "chile powder",
           "cooked rice"
          ],
          [
           "chile powder",
           "olive oil"
          ],
          [
           "chile powder",
           "walnuts"
          ],
          [
           "chile powder",
           "onion"
          ],
          [
           "chile powder",
           "sauce"
          ]
         ],
         "hovertemplate": "Ingredient 1=%{customdata[0]}<br>Rating=%{marker.size}<br>Score=%{y}<br>Ingredient 2=%{customdata[1]}<extra></extra>",
         "legendgroup": "chile powder",
         "marker": {
          "color": "#FFA15A",
          "size": [
           3,
           3,
           5,
           5,
           5,
           5,
           5,
           5,
           5
          ],
          "sizemode": "area",
          "sizeref": 0.0125,
          "symbol": "circle"
         },
         "mode": "markers",
         "name": "chile powder",
         "showlegend": true,
         "type": "scattergl",
         "x": [
          3,
          3,
          5,
          5,
          5,
          5,
          5,
          5,
          5
         ],
         "xaxis": "x",
         "y": [
          294.3,
          320.4,
          516,
          505.8,
          513.6,
          518.2,
          490.9,
          484,
          488.4
         ],
         "yaxis": "y"
        },
        {
         "customdata": [
          [
           "peanut butter",
           "cooking spray"
          ],
          [
           "peanut butter",
           "rolled oats"
          ],
          [
           "peanut butter",
           "egg whites"
          ]
         ],
         "hovertemplate": "Ingredient 1=%{customdata[0]}<br>Rating=%{marker.size}<br>Score=%{y}<br>Ingredient 2=%{customdata[1]}<extra></extra>",
         "legendgroup": "peanut butter",
         "marker": {
          "color": "#19d3f3",
          "size": [
           5,
           5,
           5
          ],
          "sizemode": "area",
          "sizeref": 0.0125,
          "symbol": "circle"
         },
         "mode": "markers",
         "name": "peanut butter",
         "showlegend": true,
         "type": "scattergl",
         "x": [
          5,
          5,
          5
         ],
         "xaxis": "x",
         "y": [
          502.3,
          482.6,
          495.6
         ],
         "yaxis": "y"
        },
        {
         "customdata": [
          [
           "cooking spray",
           "rolled oats"
          ],
          [
           "cooking spray",
           "egg whites"
          ],
          [
           "cooking spray",
           "cream cheese"
          ],
          [
           "cooking spray",
           "dinner rolls"
          ],
          [
           "cooking spray",
           "brown sugar"
          ],
          [
           "cooking spray",
           "white sugar"
          ],
          [
           "cooking spray",
           "butter"
          ],
          [
           "cooking spray",
           "cheese"
          ],
          [
           "cooking spray",
           "gravy"
          ],
          [
           "cooking spray",
           "milk"
          ],
          [
           "cooking spray",
           "eggs"
          ],
          [
           "cooking spray",
           "salt"
          ]
         ],
         "hovertemplate": "Ingredient 1=%{customdata[0]}<br>Rating=%{marker.size}<br>Score=%{y}<br>Ingredient 2=%{customdata[1]}<extra></extra>",
         "legendgroup": "cooking spray",
         "marker": {
          "color": "#FF6692",
          "size": [
           5,
           5,
           5,
           5,
           5,
           5,
           5,
           3.9,
           3.9,
           3.9,
           3.9,
           3.9
          ],
          "sizemode": "area",
          "sizeref": 0.0125,
          "symbol": "circle"
         },
         "mode": "markers",
         "name": "cooking spray",
         "showlegend": true,
         "type": "scattergl",
         "x": [
          5,
          5,
          5,
          5,
          5,
          5,
          5,
          3.9,
          3.9,
          3.9,
          3.9,
          3.9
         ],
         "xaxis": "x",
         "y": [
          496.9,
          485.5,
          490.8,
          515.1,
          512.9,
          492.8,
          504.4,
          403.2,
          420.1,
          401.8,
          396.8,
          417.4
         ],
         "yaxis": "y"
        },
        {
         "customdata": [
          [
           "rolled oats",
           "egg whites"
          ]
         ],
         "hovertemplate": "Ingredient 1=%{customdata[0]}<br>Rating=%{marker.size}<br>Score=%{y}<br>Ingredient 2=%{customdata[1]}<extra></extra>",
         "legendgroup": "rolled oats",
         "marker": {
          "color": "#B6E880",
          "size": [
           5
          ],
          "sizemode": "area",
          "sizeref": 0.0125,
          "symbol": "circle"
         },
         "mode": "markers",
         "name": "rolled oats",
         "showlegend": true,
         "type": "scattergl",
         "x": [
          5
         ],
         "xaxis": "x",
         "y": [
          507
         ],
         "yaxis": "y"
        },
        {
         "customdata": [
          [
           "frozen orange juice concentrate",
           "vanilla ice cream"
          ],
          [
           "frozen orange juice concentrate",
           "vanilla extract"
          ],
          [
           "frozen orange juice concentrate",
           "whipped cream"
          ],
          [
           "frozen orange juice concentrate",
           "white sugar"
          ],
          [
           "frozen orange juice concentrate",
           "ice cubes"
          ],
          [
           "frozen orange juice concentrate",
           "water"
          ],
          [
           "frozen orange juice concentrate",
           "milk"
          ]
         ],
         "hovertemplate": "Ingredient 1=%{customdata[0]}<br>Rating=%{marker.size}<br>Score=%{y}<br>Ingredient 2=%{customdata[1]}<extra></extra>",
         "legendgroup": "frozen orange juice concentrate",
         "marker": {
          "color": "#FF97FF",
          "size": [
           4,
           4,
           4,
           4,
           4,
           4,
           4
          ],
          "sizemode": "area",
          "sizeref": 0.0125,
          "symbol": "circle"
         },
         "mode": "markers",
         "name": "frozen orange juice concentrate",
         "showlegend": true,
         "type": "scattergl",
         "x": [
          4,
          4,
          4,
          4,
          4,
          4,
          4
         ],
         "xaxis": "x",
         "y": [
          395.5,
          399.7,
          385.5,
          400.1,
          407.8,
          388,
          419
         ],
         "yaxis": "y"
        },
        {
         "customdata": [
          [
           "vanilla ice cream",
           "vanilla extract"
          ],
          [
           "vanilla ice cream",
           "whipped cream"
          ],
          [
           "vanilla ice cream",
           "white sugar"
          ],
          [
           "vanilla ice cream",
           "ice cubes"
          ],
          [
           "vanilla ice cream",
           "water"
          ],
          [
           "vanilla ice cream",
           "milk"
          ]
         ],
         "hovertemplate": "Ingredient 1=%{customdata[0]}<br>Rating=%{marker.size}<br>Score=%{y}<br>Ingredient 2=%{customdata[1]}<extra></extra>",
         "legendgroup": "vanilla ice cream",
         "marker": {
          "color": "#FECB52",
          "size": [
           4,
           4,
           4,
           4,
           4,
           4
          ],
          "sizemode": "area",
          "sizeref": 0.0125,
          "symbol": "circle"
         },
         "mode": "markers",
         "name": "vanilla ice cream",
         "showlegend": true,
         "type": "scattergl",
         "x": [
          4,
          4,
          4,
          4,
          4,
          4
         ],
         "xaxis": "x",
         "y": [
          392,
          388.7,
          384.3,
          390.6,
          384.5,
          385.5
         ],
         "yaxis": "y"
        },
        {
         "customdata": [
          [
           "whipped cream",
           "white sugar"
          ],
          [
           "whipped cream",
           "ice cubes"
          ],
          [
           "whipped cream",
           "water"
          ],
          [
           "whipped cream",
           "milk"
          ]
         ],
         "hovertemplate": "Ingredient 1=%{customdata[0]}<br>Rating=%{marker.size}<br>Score=%{y}<br>Ingredient 2=%{customdata[1]}<extra></extra>",
         "legendgroup": "whipped cream",
         "marker": {
          "color": "#636efa",
          "size": [
           4,
           4,
           4,
           4
          ],
          "sizemode": "area",
          "sizeref": 0.0125,
          "symbol": "circle"
         },
         "mode": "markers",
         "name": "whipped cream",
         "showlegend": true,
         "type": "scattergl",
         "x": [
          4,
          4,
          4,
          4
         ],
         "xaxis": "x",
         "y": [
          396.8,
          394.9,
          420.4,
          383.4
         ],
         "yaxis": "y"
        },
        {
         "customdata": [
          [
           "ice cubes",
           "water"
          ],
          [
           "ice cubes",
           "milk"
          ]
         ],
         "hovertemplate": "Ingredient 1=%{customdata[0]}<br>Rating=%{marker.size}<br>Score=%{y}<br>Ingredient 2=%{customdata[1]}<extra></extra>",
         "legendgroup": "ice cubes",
         "marker": {
          "color": "#EF553B",
          "size": [
           4,
           4
          ],
          "sizemode": "area",
          "sizeref": 0.0125,
          "symbol": "circle"
         },
         "mode": "markers",
         "name": "ice cubes",
         "showlegend": true,
         "type": "scattergl",
         "x": [
          4,
          4
         ],
         "xaxis": "x",
         "y": [
          396.3,
          401.6
         ],
         "yaxis": "y"
        },
        {
         "customdata": [
          [
           "water",
           "milk"
          ]
         ],
         "hovertemplate": "Ingredient 1=%{customdata[0]}<br>Rating=%{marker.size}<br>Score=%{y}<br>Ingredient 2=%{customdata[1]}<extra></extra>",
         "legendgroup": "water",
         "marker": {
          "color": "#00cc96",
          "size": [
           4
          ],
          "sizemode": "area",
          "sizeref": 0.0125,
          "symbol": "circle"
         },
         "mode": "markers",
         "name": "water",
         "showlegend": true,
         "type": "scattergl",
         "x": [
          4
         ],
         "xaxis": "x",
         "y": [
          388.5
         ],
         "yaxis": "y"
        },
        {
         "customdata": [
          [
           "minced garlic",
           "almond flour"
          ],
          [
           "minced garlic",
           "coconut oil"
          ],
          [
           "minced garlic",
           "seasoning"
          ],
          [
           "minced garlic",
           "zucchini"
          ],
          [
           "minced garlic",
           "bacon"
          ],
          [
           "minced garlic",
           "onion"
          ],
          [
           "minced garlic",
           "salt"
          ]
         ],
         "hovertemplate": "Ingredient 1=%{customdata[0]}<br>Rating=%{marker.size}<br>Score=%{y}<br>Ingredient 2=%{customdata[1]}<extra></extra>",
         "legendgroup": "minced garlic",
         "marker": {
          "color": "#ab63fa",
          "size": [
           4.7,
           4.7,
           4.7,
           4.7,
           4.7,
           4.7,
           4.7
          ],
          "sizemode": "area",
          "sizeref": 0.0125,
          "symbol": "circle"
         },
         "mode": "markers",
         "name": "minced garlic",
         "showlegend": true,
         "type": "scattergl",
         "x": [
          4.7,
          4.7,
          4.7,
          4.7,
          4.7,
          4.7,
          4.7
         ],
         "xaxis": "x",
         "y": [
          460.1,
          468.2,
          488.8,
          484.3,
          463.6,
          490.9,
          470.4
         ],
         "yaxis": "y"
        },
        {
         "customdata": [
          [
           "almond flour",
           "coconut oil"
          ],
          [
           "almond flour",
           "seasoning"
          ],
          [
           "almond flour",
           "zucchini"
          ],
          [
           "almond flour",
           "bacon"
          ],
          [
           "almond flour",
           "onion"
          ],
          [
           "almond flour",
           "salt"
          ]
         ],
         "hovertemplate": "Ingredient 1=%{customdata[0]}<br>Rating=%{marker.size}<br>Score=%{y}<br>Ingredient 2=%{customdata[1]}<extra></extra>",
         "legendgroup": "almond flour",
         "marker": {
          "color": "#FFA15A",
          "size": [
           4.7,
           4.7,
           4.7,
           4.7,
           4.7,
           4.7
          ],
          "sizemode": "area",
          "sizeref": 0.0125,
          "symbol": "circle"
         },
         "mode": "markers",
         "name": "almond flour",
         "showlegend": true,
         "type": "scattergl",
         "x": [
          4.7,
          4.7,
          4.7,
          4.7,
          4.7,
          4.7
         ],
         "xaxis": "x",
         "y": [
          462.9,
          457.2,
          493.2,
          459.6,
          477.8,
          467.7
         ],
         "yaxis": "y"
        },
        {
         "customdata": [
          [
           "coconut oil",
           "seasoning"
          ],
          [
           "coconut oil",
           "zucchini"
          ],
          [
           "coconut oil",
           "bacon"
          ],
          [
           "coconut oil",
           "onion"
          ],
          [
           "coconut oil",
           "salt"
          ]
         ],
         "hovertemplate": "Ingredient 1=%{customdata[0]}<br>Rating=%{marker.size}<br>Score=%{y}<br>Ingredient 2=%{customdata[1]}<extra></extra>",
         "legendgroup": "coconut oil",
         "marker": {
          "color": "#19d3f3",
          "size": [
           4.7,
           4.7,
           4.7,
           4.7,
           4.7
          ],
          "sizemode": "area",
          "sizeref": 0.0125,
          "symbol": "circle"
         },
         "mode": "markers",
         "name": "coconut oil",
         "showlegend": true,
         "type": "scattergl",
         "x": [
          4.7,
          4.7,
          4.7,
          4.7,
          4.7
         ],
         "xaxis": "x",
         "y": [
          479.1,
          470.8,
          493,
          475.2,
          490
         ],
         "yaxis": "y"
        },
        {
         "customdata": [
          [
           "seasoning",
           "zucchini"
          ],
          [
           "seasoning",
           "bacon"
          ],
          [
           "seasoning",
           "onion"
          ],
          [
           "seasoning",
           "salt"
          ]
         ],
         "hovertemplate": "Ingredient 1=%{customdata[0]}<br>Rating=%{marker.size}<br>Score=%{y}<br>Ingredient 2=%{customdata[1]}<extra></extra>",
         "legendgroup": "seasoning",
         "marker": {
          "color": "#FF6692",
          "size": [
           4.7,
           4.7,
           4.7,
           4.7
          ],
          "sizemode": "area",
          "sizeref": 0.0125,
          "symbol": "circle"
         },
         "mode": "markers",
         "name": "seasoning",
         "showlegend": true,
         "type": "scattergl",
         "x": [
          4.7,
          4.7,
          4.7,
          4.7
         ],
         "xaxis": "x",
         "y": [
          466.4,
          475.6,
          471.9,
          469.4
         ],
         "yaxis": "y"
        },
        {
         "customdata": [
          [
           "zucchini",
           "bacon"
          ],
          [
           "zucchini",
           "onion"
          ],
          [
           "zucchini",
           "salt"
          ]
         ],
         "hovertemplate": "Ingredient 1=%{customdata[0]}<br>Rating=%{marker.size}<br>Score=%{y}<br>Ingredient 2=%{customdata[1]}<extra></extra>",
         "legendgroup": "zucchini",
         "marker": {
          "color": "#B6E880",
          "size": [
           4.7,
           4.7,
           4.7
          ],
          "sizemode": "area",
          "sizeref": 0.0125,
          "symbol": "circle"
         },
         "mode": "markers",
         "name": "zucchini",
         "showlegend": true,
         "type": "scattergl",
         "x": [
          4.7,
          4.7,
          4.7
         ],
         "xaxis": "x",
         "y": [
          483.3,
          471.9,
          455.4
         ],
         "yaxis": "y"
        },
        {
         "customdata": [
          [
           "bacon",
           "onion"
          ],
          [
           "bacon",
           "salt"
          ]
         ],
         "hovertemplate": "Ingredient 1=%{customdata[0]}<br>Rating=%{marker.size}<br>Score=%{y}<br>Ingredient 2=%{customdata[1]}<extra></extra>",
         "legendgroup": "bacon",
         "marker": {
          "color": "#FF97FF",
          "size": [
           4.7,
           4.7
          ],
          "sizemode": "area",
          "sizeref": 0.0125,
          "symbol": "circle"
         },
         "mode": "markers",
         "name": "bacon",
         "showlegend": true,
         "type": "scattergl",
         "x": [
          4.7,
          4.7
         ],
         "xaxis": "x",
         "y": [
          469.9,
          483.4
         ],
         "yaxis": "y"
        },
        {
         "customdata": [
          [
           "green bell pepper",
           "oyster mushrooms"
          ],
          [
           "green bell pepper",
           "lemon juice"
          ],
          [
           "green bell pepper",
           "olive oil"
          ],
          [
           "green bell pepper",
           "tomatoes"
          ],
          [
           "green bell pepper",
           "cucumber"
          ],
          [
           "green bell pepper",
           "avocado"
          ],
          [
           "green bell pepper",
           "carrots"
          ],
          [
           "green bell pepper",
           "onion"
          ],
          [
           "green bell pepper",
           "salt"
          ],
          [
           "green bell pepper",
           "mushrooms"
          ],
          [
           "green bell pepper",
           "onion"
          ],
          [
           "green bell pepper",
           "eggs"
          ],
          [
           "green bell pepper",
           "salt"
          ]
         ],
         "hovertemplate": "Ingredient 1=%{customdata[0]}<br>Rating=%{marker.size}<br>Score=%{y}<br>Ingredient 2=%{customdata[1]}<extra></extra>",
         "legendgroup": "green bell pepper",
         "marker": {
          "color": "#FECB52",
          "size": [
           5,
           5,
           5,
           5,
           5,
           5,
           5,
           5,
           5,
           5,
           5,
           5,
           5
          ],
          "sizemode": "area",
          "sizeref": 0.0125,
          "symbol": "circle"
         },
         "mode": "markers",
         "name": "green bell pepper",
         "showlegend": true,
         "type": "scattergl",
         "x": [
          5,
          5,
          5,
          5,
          5,
          5,
          5,
          5,
          5,
          5,
          5,
          5,
          5
         ],
         "xaxis": "x",
         "y": [
          482.5,
          517.6,
          483.3,
          501.4,
          489,
          516.2,
          496.7,
          485.4,
          489.4,
          505.1,
          521,
          484.6,
          506.1
         ],
         "yaxis": "y"
        },
        {
         "customdata": [
          [
           "oyster mushrooms",
           "lemon juice"
          ],
          [
           "oyster mushrooms",
           "olive oil"
          ],
          [
           "oyster mushrooms",
           "tomatoes"
          ],
          [
           "oyster mushrooms",
           "cucumber"
          ],
          [
           "oyster mushrooms",
           "avocado"
          ],
          [
           "oyster mushrooms",
           "carrots"
          ],
          [
           "oyster mushrooms",
           "onion"
          ],
          [
           "oyster mushrooms",
           "salt"
          ]
         ],
         "hovertemplate": "Ingredient 1=%{customdata[0]}<br>Rating=%{marker.size}<br>Score=%{y}<br>Ingredient 2=%{customdata[1]}<extra></extra>",
         "legendgroup": "oyster mushrooms",
         "marker": {
          "color": "#636efa",
          "size": [
           5,
           5,
           5,
           5,
           5,
           5,
           5,
           5
          ],
          "sizemode": "area",
          "sizeref": 0.0125,
          "symbol": "circle"
         },
         "mode": "markers",
         "name": "oyster mushrooms",
         "showlegend": true,
         "type": "scattergl",
         "x": [
          5,
          5,
          5,
          5,
          5,
          5,
          5,
          5
         ],
         "xaxis": "x",
         "y": [
          495.4,
          508.7,
          499.7,
          496.8,
          504.4,
          520.3,
          495.1,
          517.4
         ],
         "yaxis": "y"
        },
        {
         "customdata": [
          [
           "lemon juice",
           "olive oil"
          ],
          [
           "lemon juice",
           "tomatoes"
          ],
          [
           "lemon juice",
           "cucumber"
          ],
          [
           "lemon juice",
           "avocado"
          ],
          [
           "lemon juice",
           "carrots"
          ],
          [
           "lemon juice",
           "onion"
          ],
          [
           "lemon juice",
           "salt"
          ]
         ],
         "hovertemplate": "Ingredient 1=%{customdata[0]}<br>Rating=%{marker.size}<br>Score=%{y}<br>Ingredient 2=%{customdata[1]}<extra></extra>",
         "legendgroup": "lemon juice",
         "marker": {
          "color": "#EF553B",
          "size": [
           5,
           5,
           5,
           5,
           5,
           5,
           5
          ],
          "sizemode": "area",
          "sizeref": 0.0125,
          "symbol": "circle"
         },
         "mode": "markers",
         "name": "lemon juice",
         "showlegend": true,
         "type": "scattergl",
         "x": [
          5,
          5,
          5,
          5,
          5,
          5,
          5
         ],
         "xaxis": "x",
         "y": [
          513,
          504.3,
          497.1,
          482.6,
          504.5,
          518.9,
          517.3
         ],
         "yaxis": "y"
        },
        {
         "customdata": [
          [
           "tomatoes",
           "cucumber"
          ],
          [
           "tomatoes",
           "avocado"
          ],
          [
           "tomatoes",
           "carrots"
          ],
          [
           "tomatoes",
           "onion"
          ],
          [
           "tomatoes",
           "salt"
          ]
         ],
         "hovertemplate": "Ingredient 1=%{customdata[0]}<br>Rating=%{marker.size}<br>Score=%{y}<br>Ingredient 2=%{customdata[1]}<extra></extra>",
         "legendgroup": "tomatoes",
         "marker": {
          "color": "#00cc96",
          "size": [
           5,
           5,
           5,
           5,
           5
          ],
          "sizemode": "area",
          "sizeref": 0.0125,
          "symbol": "circle"
         },
         "mode": "markers",
         "name": "tomatoes",
         "showlegend": true,
         "type": "scattergl",
         "x": [
          5,
          5,
          5,
          5,
          5
         ],
         "xaxis": "x",
         "y": [
          514.1,
          510.2,
          490.8,
          516.7,
          481.8
         ],
         "yaxis": "y"
        },
        {
         "customdata": [
          [
           "cucumber",
           "avocado"
          ],
          [
           "cucumber",
           "carrots"
          ],
          [
           "cucumber",
           "onion"
          ],
          [
           "cucumber",
           "salt"
          ]
         ],
         "hovertemplate": "Ingredient 1=%{customdata[0]}<br>Rating=%{marker.size}<br>Score=%{y}<br>Ingredient 2=%{customdata[1]}<extra></extra>",
         "legendgroup": "cucumber",
         "marker": {
          "color": "#ab63fa",
          "size": [
           5,
           5,
           5,
           5
          ],
          "sizemode": "area",
          "sizeref": 0.0125,
          "symbol": "circle"
         },
         "mode": "markers",
         "name": "cucumber",
         "showlegend": true,
         "type": "scattergl",
         "x": [
          5,
          5,
          5,
          5
         ],
         "xaxis": "x",
         "y": [
          506.3,
          497.9,
          489.6,
          493.8
         ],
         "yaxis": "y"
        },
        {
         "customdata": [
          [
           "avocado",
           "carrots"
          ],
          [
           "avocado",
           "onion"
          ],
          [
           "avocado",
           "salt"
          ],
          [
           "avocado",
           "water"
          ],
          [
           "avocado",
           "lime"
          ]
         ],
         "hovertemplate": "Ingredient 1=%{customdata[0]}<br>Rating=%{marker.size}<br>Score=%{y}<br>Ingredient 2=%{customdata[1]}<extra></extra>",
         "legendgroup": "avocado",
         "marker": {
          "color": "#FFA15A",
          "size": [
           5,
           5,
           5,
           4.6,
           5
          ],
          "sizemode": "area",
          "sizeref": 0.0125,
          "symbol": "circle"
         },
         "mode": "markers",
         "name": "avocado",
         "showlegend": true,
         "type": "scattergl",
         "x": [
          5,
          5,
          5,
          4.6,
          5
         ],
         "xaxis": "x",
         "y": [
          489.7,
          497.3,
          510.1,
          465.3999999999999,
          504
         ],
         "yaxis": "y"
        },
        {
         "customdata": [
          [
           "carrots",
           "onion"
          ],
          [
           "carrots",
           "salt"
          ]
         ],
         "hovertemplate": "Ingredient 1=%{customdata[0]}<br>Rating=%{marker.size}<br>Score=%{y}<br>Ingredient 2=%{customdata[1]}<extra></extra>",
         "legendgroup": "carrots",
         "marker": {
          "color": "#19d3f3",
          "size": [
           5,
           5
          ],
          "sizemode": "area",
          "sizeref": 0.0125,
          "symbol": "circle"
         },
         "mode": "markers",
         "name": "carrots",
         "showlegend": true,
         "type": "scattergl",
         "x": [
          5,
          5
         ],
         "xaxis": "x",
         "y": [
          520.1,
          491.5
         ],
         "yaxis": "y"
        },
        {
         "customdata": [
          [
           "extra-virgin olive oil",
           "seedless red grapes"
          ],
          [
           "extra-virgin olive oil",
           "red wine vinegar"
          ],
          [
           "extra-virgin olive oil",
           "kosher salt"
          ],
          [
           "extra-virgin olive oil",
           "flank steak"
          ],
          [
           "extra-virgin olive oil",
           "watercress"
          ],
          [
           "extra-virgin olive oil",
           "mustard"
          ],
          [
           "extra-virgin olive oil",
           "cheese"
          ]
         ],
         "hovertemplate": "Ingredient 1=%{customdata[0]}<br>Rating=%{marker.size}<br>Score=%{y}<br>Ingredient 2=%{customdata[1]}<extra></extra>",
         "legendgroup": "extra-virgin olive oil",
         "marker": {
          "color": "#FF6692",
          "size": [
           5,
           5,
           5,
           5,
           5,
           5,
           5
          ],
          "sizemode": "area",
          "sizeref": 0.0125,
          "symbol": "circle"
         },
         "mode": "markers",
         "name": "extra-virgin olive oil",
         "showlegend": true,
         "type": "scattergl",
         "x": [
          5,
          5,
          5,
          5,
          5,
          5,
          5
         ],
         "xaxis": "x",
         "y": [
          483.7,
          498.7,
          510.5,
          483.4,
          508.5,
          516.9,
          512.9
         ],
         "yaxis": "y"
        },
        {
         "customdata": [
          [
           "seedless red grapes",
           "red wine vinegar"
          ],
          [
           "seedless red grapes",
           "kosher salt"
          ],
          [
           "seedless red grapes",
           "flank steak"
          ],
          [
           "seedless red grapes",
           "watercress"
          ],
          [
           "seedless red grapes",
           "mustard"
          ],
          [
           "seedless red grapes",
           "cheese"
          ]
         ],
         "hovertemplate": "Ingredient 1=%{customdata[0]}<br>Rating=%{marker.size}<br>Score=%{y}<br>Ingredient 2=%{customdata[1]}<extra></extra>",
         "legendgroup": "seedless red grapes",
         "marker": {
          "color": "#B6E880",
          "size": [
           5,
           5,
           5,
           5,
           5,
           5
          ],
          "sizemode": "area",
          "sizeref": 0.0125,
          "symbol": "circle"
         },
         "mode": "markers",
         "name": "seedless red grapes",
         "showlegend": true,
         "type": "scattergl",
         "x": [
          5,
          5,
          5,
          5,
          5,
          5
         ],
         "xaxis": "x",
         "y": [
          508.4,
          494.9,
          521.9,
          489.4,
          508.3,
          503.1
         ],
         "yaxis": "y"
        },
        {
         "customdata": [
          [
           "red wine vinegar",
           "kosher salt"
          ],
          [
           "red wine vinegar",
           "flank steak"
          ],
          [
           "red wine vinegar",
           "watercress"
          ],
          [
           "red wine vinegar",
           "mustard"
          ],
          [
           "red wine vinegar",
           "cheese"
          ]
         ],
         "hovertemplate": "Ingredient 1=%{customdata[0]}<br>Rating=%{marker.size}<br>Score=%{y}<br>Ingredient 2=%{customdata[1]}<extra></extra>",
         "legendgroup": "red wine vinegar",
         "marker": {
          "color": "#FF97FF",
          "size": [
           5,
           5,
           5,
           5,
           5
          ],
          "sizemode": "area",
          "sizeref": 0.0125,
          "symbol": "circle"
         },
         "mode": "markers",
         "name": "red wine vinegar",
         "showlegend": true,
         "type": "scattergl",
         "x": [
          5,
          5,
          5,
          5,
          5
         ],
         "xaxis": "x",
         "y": [
          517.6,
          504.2,
          500,
          491.9,
          513.3
         ],
         "yaxis": "y"
        },
        {
         "customdata": [
          [
           "kosher salt",
           "flank steak"
          ],
          [
           "kosher salt",
           "watercress"
          ],
          [
           "kosher salt",
           "mustard"
          ],
          [
           "kosher salt",
           "cheese"
          ],
          [
           "kosher salt",
           "cold water"
          ],
          [
           "kosher salt",
           "paprika"
          ],
          [
           "kosher salt",
           "garnish"
          ],
          [
           "kosher salt",
           "parsley"
          ],
          [
           "kosher salt",
           "chives"
          ],
          [
           "kosher salt",
           "brown sugar"
          ],
          [
           "kosher salt",
           "curing salt"
          ],
          [
           "kosher salt",
           "dry sherry"
          ],
          [
           "kosher salt",
           "pork butt"
          ],
          [
           "kosher salt",
           "rice wine"
          ],
          [
           "kosher salt",
           "soy sauce"
          ],
          [
           "kosher salt",
           "ketchup"
          ],
          [
           "kosher salt",
           "garlic"
          ],
          [
           "kosher salt",
           "honey"
          ],
          [
           "kosher salt",
           "sake"
          ],
          [
           "kosher salt",
           "annatto"
          ],
          [
           "kosher salt",
           "achiote"
          ],
          [
           "kosher salt",
           "quinoa"
          ],
          [
           "kosher salt",
           "garlic"
          ],
          [
           "kosher salt",
           "onion"
          ]
         ],
         "hovertemplate": "Ingredient 1=%{customdata[0]}<br>Rating=%{marker.size}<br>Score=%{y}<br>Ingredient 2=%{customdata[1]}<extra></extra>",
         "legendgroup": "kosher salt",
         "marker": {
          "color": "#FECB52",
          "size": [
           5,
           5,
           5,
           5,
           4.5,
           4.5,
           4.5,
           4.5,
           4.5,
           4.7,
           4.7,
           4.7,
           4.7,
           4.7,
           4.7,
           4.7,
           4.7,
           4.7,
           4.7,
           4,
           4,
           4,
           4,
           4
          ],
          "sizemode": "area",
          "sizeref": 0.0125,
          "symbol": "circle"
         },
         "mode": "markers",
         "name": "kosher salt",
         "showlegend": true,
         "type": "scattergl",
         "x": [
          5,
          5,
          5,
          5,
          4.5,
          4.5,
          4.5,
          4.5,
          4.5,
          4.7,
          4.7,
          4.7,
          4.7,
          4.7,
          4.7,
          4.7,
          4.7,
          4.7,
          4.7,
          4,
          4,
          4,
          4,
          4
         ],
         "xaxis": "x",
         "y": [
          515.9,
          512.4,
          493.9,
          485.1,
          490.4,
          502.9,
          504.9,
          520.8,
          513.6,
          568.5,
          588.2,
          577.3,
          556.3,
          578.1,
          561.5,
          567.3,
          582.3,
          589.7,
          580,
          398.5,
          395,
          384.1,
          414.4,
          399
         ],
         "yaxis": "y"
        },
        {
         "customdata": [
          [
           "flank steak",
           "watercress"
          ],
          [
           "flank steak",
           "mustard"
          ],
          [
           "flank steak",
           "cheese"
          ]
         ],
         "hovertemplate": "Ingredient 1=%{customdata[0]}<br>Rating=%{marker.size}<br>Score=%{y}<br>Ingredient 2=%{customdata[1]}<extra></extra>",
         "legendgroup": "flank steak",
         "marker": {
          "color": "#636efa",
          "size": [
           5,
           5,
           5
          ],
          "sizemode": "area",
          "sizeref": 0.0125,
          "symbol": "circle"
         },
         "mode": "markers",
         "name": "flank steak",
         "showlegend": true,
         "type": "scattergl",
         "x": [
          5,
          5,
          5
         ],
         "xaxis": "x",
         "y": [
          512.2,
          511.6,
          499.7
         ],
         "yaxis": "y"
        },
        {
         "customdata": [
          [
           "watercress",
           "mustard"
          ],
          [
           "watercress",
           "cheese"
          ]
         ],
         "hovertemplate": "Ingredient 1=%{customdata[0]}<br>Rating=%{marker.size}<br>Score=%{y}<br>Ingredient 2=%{customdata[1]}<extra></extra>",
         "legendgroup": "watercress",
         "marker": {
          "color": "#EF553B",
          "size": [
           5,
           5
          ],
          "sizemode": "area",
          "sizeref": 0.0125,
          "symbol": "circle"
         },
         "mode": "markers",
         "name": "watercress",
         "showlegend": true,
         "type": "scattergl",
         "x": [
          5,
          5
         ],
         "xaxis": "x",
         "y": [
          491,
          502.7
         ],
         "yaxis": "y"
        },
        {
         "customdata": [
          [
           "mustard",
           "cheese"
          ],
          [
           "mustard",
           "butter"
          ],
          [
           "mustard",
           "onion"
          ],
          [
           "mustard",
           "salt"
          ]
         ],
         "hovertemplate": "Ingredient 1=%{customdata[0]}<br>Rating=%{marker.size}<br>Score=%{y}<br>Ingredient 2=%{customdata[1]}<extra></extra>",
         "legendgroup": "mustard",
         "marker": {
          "color": "#00cc96",
          "size": [
           5,
           4.5,
           4.5,
           4.5
          ],
          "sizemode": "area",
          "sizeref": 0.0125,
          "symbol": "circle"
         },
         "mode": "markers",
         "name": "mustard",
         "showlegend": true,
         "type": "scattergl",
         "x": [
          5,
          4.5,
          4.5,
          4.5
         ],
         "xaxis": "x",
         "y": [
          518.9,
          456.6,
          447.5,
          459.6
         ],
         "yaxis": "y"
        },
        {
         "customdata": [
          [
           "canned black beans",
           "cornflake crumbs"
          ],
          [
           "canned black beans",
           "ground paprika"
          ],
          [
           "canned black beans",
           "chile powder"
          ],
          [
           "canned black beans",
           "ground cumin"
          ],
          [
           "canned black beans",
           "brown sugar"
          ],
          [
           "canned black beans",
           "cooked rice"
          ],
          [
           "canned black beans",
           "olive oil"
          ],
          [
           "canned black beans",
           "walnuts"
          ],
          [
           "canned black beans",
           "onion"
          ],
          [
           "canned black beans",
           "sauce"
          ]
         ],
         "hovertemplate": "Ingredient 1=%{customdata[0]}<br>Rating=%{marker.size}<br>Score=%{y}<br>Ingredient 2=%{customdata[1]}<extra></extra>",
         "legendgroup": "canned black beans",
         "marker": {
          "color": "#ab63fa",
          "size": [
           5,
           5,
           5,
           5,
           5,
           5,
           5,
           5,
           5,
           5
          ],
          "sizemode": "area",
          "sizeref": 0.0125,
          "symbol": "circle"
         },
         "mode": "markers",
         "name": "canned black beans",
         "showlegend": true,
         "type": "scattergl",
         "x": [
          5,
          5,
          5,
          5,
          5,
          5,
          5,
          5,
          5,
          5
         ],
         "xaxis": "x",
         "y": [
          486.6,
          521.3,
          511.1,
          505.3,
          506.9,
          495.9,
          489.7,
          514.9,
          521.9,
          515.2
         ],
         "yaxis": "y"
        },
        {
         "customdata": [
          [
           "cornflake crumbs",
           "ground paprika"
          ],
          [
           "cornflake crumbs",
           "chile powder"
          ],
          [
           "cornflake crumbs",
           "ground cumin"
          ],
          [
           "cornflake crumbs",
           "brown sugar"
          ],
          [
           "cornflake crumbs",
           "cooked rice"
          ],
          [
           "cornflake crumbs",
           "olive oil"
          ],
          [
           "cornflake crumbs",
           "walnuts"
          ],
          [
           "cornflake crumbs",
           "onion"
          ],
          [
           "cornflake crumbs",
           "sauce"
          ]
         ],
         "hovertemplate": "Ingredient 1=%{customdata[0]}<br>Rating=%{marker.size}<br>Score=%{y}<br>Ingredient 2=%{customdata[1]}<extra></extra>",
         "legendgroup": "cornflake crumbs",
         "marker": {
          "color": "#FFA15A",
          "size": [
           5,
           5,
           5,
           5,
           5,
           5,
           5,
           5,
           5
          ],
          "sizemode": "area",
          "sizeref": 0.0125,
          "symbol": "circle"
         },
         "mode": "markers",
         "name": "cornflake crumbs",
         "showlegend": true,
         "type": "scattergl",
         "x": [
          5,
          5,
          5,
          5,
          5,
          5,
          5,
          5,
          5
         ],
         "xaxis": "x",
         "y": [
          520.3,
          492.1,
          508.8,
          486.4,
          485.8,
          495,
          501.8,
          494.7,
          492
         ],
         "yaxis": "y"
        },
        {
         "customdata": [
          [
           "ground paprika",
           "chile powder"
          ],
          [
           "ground paprika",
           "ground cumin"
          ],
          [
           "ground paprika",
           "brown sugar"
          ],
          [
           "ground paprika",
           "cooked rice"
          ],
          [
           "ground paprika",
           "olive oil"
          ],
          [
           "ground paprika",
           "walnuts"
          ],
          [
           "ground paprika",
           "onion"
          ],
          [
           "ground paprika",
           "sauce"
          ]
         ],
         "hovertemplate": "Ingredient 1=%{customdata[0]}<br>Rating=%{marker.size}<br>Score=%{y}<br>Ingredient 2=%{customdata[1]}<extra></extra>",
         "legendgroup": "ground paprika",
         "marker": {
          "color": "#19d3f3",
          "size": [
           5,
           5,
           5,
           5,
           5,
           5,
           5,
           5
          ],
          "sizemode": "area",
          "sizeref": 0.0125,
          "symbol": "circle"
         },
         "mode": "markers",
         "name": "ground paprika",
         "showlegend": true,
         "type": "scattergl",
         "x": [
          5,
          5,
          5,
          5,
          5,
          5,
          5,
          5
         ],
         "xaxis": "x",
         "y": [
          498,
          498.8,
          503,
          494.4,
          505.1,
          510.8,
          486.7,
          484.8
         ],
         "yaxis": "y"
        },
        {
         "customdata": [
          [
           "ground cumin",
           "brown sugar"
          ],
          [
           "ground cumin",
           "cooked rice"
          ],
          [
           "ground cumin",
           "olive oil"
          ],
          [
           "ground cumin",
           "walnuts"
          ],
          [
           "ground cumin",
           "onion"
          ],
          [
           "ground cumin",
           "sauce"
          ],
          [
           "ground cumin",
           "onion powder"
          ],
          [
           "ground cumin",
           "brown sugar"
          ],
          [
           "ground cumin",
           "pork ribs"
          ],
          [
           "ground cumin",
           "juice"
          ],
          [
           "ground cumin",
           "honey"
          ],
          [
           "ground cumin",
           "salt"
          ],
          [
           "ground cumin",
           "lime"
          ],
          [
           "ground cumin",
           "beer"
          ],
          [
           "ground cumin",
           "chile pepper"
          ],
          [
           "ground cumin",
           "kosher salt"
          ],
          [
           "ground cumin",
           "annatto"
          ],
          [
           "ground cumin",
           "achiote"
          ],
          [
           "ground cumin",
           "quinoa"
          ],
          [
           "ground cumin",
           "garlic"
          ],
          [
           "ground cumin",
           "onion"
          ],
          [
           "ground cumin",
           "clove garlic"
          ],
          [
           "ground cumin",
           "white onion"
          ],
          [
           "ground cumin",
           "cilantro"
          ],
          [
           "ground cumin",
           "avocado"
          ],
          [
           "ground cumin",
           "lime"
          ]
         ],
         "hovertemplate": "Ingredient 1=%{customdata[0]}<br>Rating=%{marker.size}<br>Score=%{y}<br>Ingredient 2=%{customdata[1]}<extra></extra>",
         "legendgroup": "ground cumin",
         "marker": {
          "color": "#FF6692",
          "size": [
           5,
           5,
           5,
           5,
           5,
           5,
           5,
           5,
           5,
           5,
           5,
           5,
           5,
           5,
           4,
           4,
           4,
           4,
           4,
           4,
           4,
           5,
           5,
           5,
           5,
           5
          ],
          "sizemode": "area",
          "sizeref": 0.0125,
          "symbol": "circle"
         },
         "mode": "markers",
         "name": "ground cumin",
         "showlegend": true,
         "type": "scattergl",
         "x": [
          5,
          5,
          5,
          5,
          5,
          5,
          5,
          5,
          5,
          5,
          5,
          5,
          5,
          5,
          4,
          4,
          4,
          4,
          4,
          4,
          4,
          5,
          5,
          5,
          5,
          5
         ],
         "xaxis": "x",
         "y": [
          497.6,
          507.7,
          506.3,
          485.1,
          501.1,
          483.3,
          500.6,
          516.7,
          509.6,
          510.8,
          519.1,
          498.4,
          502.3,
          494.6,
          408.7,
          412.9,
          399,
          393.9,
          385.1,
          402.6,
          398.7,
          496.6,
          491.8,
          519.8,
          482.8,
          512.9
         ],
         "yaxis": "y"
        },
        {
         "customdata": [
          [
           "brown sugar",
           "cooked rice"
          ],
          [
           "brown sugar",
           "olive oil"
          ],
          [
           "brown sugar",
           "walnuts"
          ],
          [
           "brown sugar",
           "onion"
          ],
          [
           "brown sugar",
           "sauce"
          ],
          [
           "brown sugar",
           "pork ribs"
          ],
          [
           "brown sugar",
           "juice"
          ],
          [
           "brown sugar",
           "honey"
          ],
          [
           "brown sugar",
           "salt"
          ],
          [
           "brown sugar",
           "lime"
          ],
          [
           "brown sugar",
           "beer"
          ],
          [
           "brown sugar",
           "curing salt"
          ],
          [
           "brown sugar",
           "dry sherry"
          ],
          [
           "brown sugar",
           "pork butt"
          ],
          [
           "brown sugar",
           "rice wine"
          ],
          [
           "brown sugar",
           "soy sauce"
          ],
          [
           "brown sugar",
           "ketchup"
          ],
          [
           "brown sugar",
           "garlic"
          ],
          [
           "brown sugar",
           "honey"
          ],
          [
           "brown sugar",
           "sake"
          ],
          [
           "brown sugar",
           "white sugar"
          ],
          [
           "brown sugar",
           "butter"
          ]
         ],
         "hovertemplate": "Ingredient 1=%{customdata[0]}<br>Rating=%{marker.size}<br>Score=%{y}<br>Ingredient 2=%{customdata[1]}<extra></extra>",
         "legendgroup": "brown sugar",
         "marker": {
          "color": "#B6E880",
          "size": [
           5,
           5,
           5,
           5,
           5,
           5,
           5,
           5,
           5,
           5,
           5,
           4.7,
           4.7,
           4.7,
           4.7,
           4.7,
           4.7,
           4.7,
           4.7,
           4.7,
           5,
           5
          ],
          "sizemode": "area",
          "sizeref": 0.0125,
          "symbol": "circle"
         },
         "mode": "markers",
         "name": "brown sugar",
         "showlegend": true,
         "type": "scattergl",
         "x": [
          5,
          5,
          5,
          5,
          5,
          5,
          5,
          5,
          5,
          5,
          5,
          4.7,
          4.7,
          4.7,
          4.7,
          4.7,
          4.7,
          4.7,
          4.7,
          4.7,
          5,
          5
         ],
         "xaxis": "x",
         "y": [
          506.8,
          491,
          521.2,
          508.5,
          493.6,
          501.8,
          499.9,
          506.1,
          498.4,
          505.1,
          499.3,
          571,
          590.7,
          580.3,
          556.9,
          576.7,
          568.7,
          582.4,
          585.2,
          586.4,
          511.7,
          513.2
         ],
         "yaxis": "y"
        },
        {
         "customdata": [
          [
           "cooked rice",
           "olive oil"
          ],
          [
           "cooked rice",
           "walnuts"
          ],
          [
           "cooked rice",
           "onion"
          ],
          [
           "cooked rice",
           "sauce"
          ]
         ],
         "hovertemplate": "Ingredient 1=%{customdata[0]}<br>Rating=%{marker.size}<br>Score=%{y}<br>Ingredient 2=%{customdata[1]}<extra></extra>",
         "legendgroup": "cooked rice",
         "marker": {
          "color": "#FF97FF",
          "size": [
           5,
           5,
           5,
           5
          ],
          "sizemode": "area",
          "sizeref": 0.0125,
          "symbol": "circle"
         },
         "mode": "markers",
         "name": "cooked rice",
         "showlegend": true,
         "type": "scattergl",
         "x": [
          5,
          5,
          5,
          5
         ],
         "xaxis": "x",
         "y": [
          519.1,
          504.2,
          482,
          489.4
         ],
         "yaxis": "y"
        },
        {
         "customdata": [
          [
           "salad dressing",
           "chicken wings"
          ],
          [
           "salad dressing",
           "lemon pepper"
          ],
          [
           "salad dressing",
           "cheese"
          ]
         ],
         "hovertemplate": "Ingredient 1=%{customdata[0]}<br>Rating=%{marker.size}<br>Score=%{y}<br>Ingredient 2=%{customdata[1]}<extra></extra>",
         "legendgroup": "salad dressing",
         "marker": {
          "color": "#FECB52",
          "size": [
           4.6,
           4.6,
           4.6
          ],
          "sizemode": "area",
          "sizeref": 0.0125,
          "symbol": "circle"
         },
         "mode": "markers",
         "name": "salad dressing",
         "showlegend": true,
         "type": "scattergl",
         "x": [
          4.6,
          4.6,
          4.6
         ],
         "xaxis": "x",
         "y": [
          451.19999999999993,
          467.19999999999993,
          471.19999999999993
         ],
         "yaxis": "y"
        },
        {
         "customdata": [
          [
           "chicken wings",
           "lemon pepper"
          ],
          [
           "chicken wings",
           "cheese"
          ]
         ],
         "hovertemplate": "Ingredient 1=%{customdata[0]}<br>Rating=%{marker.size}<br>Score=%{y}<br>Ingredient 2=%{customdata[1]}<extra></extra>",
         "legendgroup": "chicken wings",
         "marker": {
          "color": "#636efa",
          "size": [
           4.6,
           4.6
          ],
          "sizemode": "area",
          "sizeref": 0.0125,
          "symbol": "circle"
         },
         "mode": "markers",
         "name": "chicken wings",
         "showlegend": true,
         "type": "scattergl",
         "x": [
          4.6,
          4.6
         ],
         "xaxis": "x",
         "y": [
          461.8999999999999,
          461.8999999999999
         ],
         "yaxis": "y"
        },
        {
         "customdata": [
          [
           "lemon pepper",
           "cheese"
          ]
         ],
         "hovertemplate": "Ingredient 1=%{customdata[0]}<br>Rating=%{marker.size}<br>Score=%{y}<br>Ingredient 2=%{customdata[1]}<extra></extra>",
         "legendgroup": "lemon pepper",
         "marker": {
          "color": "#EF553B",
          "size": [
           4.6
          ],
          "sizemode": "area",
          "sizeref": 0.0125,
          "symbol": "circle"
         },
         "mode": "markers",
         "name": "lemon pepper",
         "showlegend": true,
         "type": "scattergl",
         "x": [
          4.6
         ],
         "xaxis": "x",
         "y": [
          463.79999999999995
         ],
         "yaxis": "y"
        },
        {
         "customdata": [
          [
           "unsweetened applesauce",
           "vanilla extract"
          ],
          [
           "unsweetened applesauce",
           "chocolate chips"
          ],
          [
           "unsweetened applesauce",
           "brewed coffee"
          ],
          [
           "unsweetened applesauce",
           "baking soda"
          ],
          [
           "unsweetened applesauce",
           "black beans"
          ],
          [
           "unsweetened applesauce",
           "salt"
          ],
          [
           "unsweetened applesauce",
           "eggs"
          ]
         ],
         "hovertemplate": "Ingredient 1=%{customdata[0]}<br>Rating=%{marker.size}<br>Score=%{y}<br>Ingredient 2=%{customdata[1]}<extra></extra>",
         "legendgroup": "unsweetened applesauce",
         "marker": {
          "color": "#00cc96",
          "size": [
           3.6,
           3.6,
           3.6,
           3.6,
           3.6,
           3.6,
           3.6
          ],
          "sizemode": "area",
          "sizeref": 0.0125,
          "symbol": "circle"
         },
         "mode": "markers",
         "name": "unsweetened applesauce",
         "showlegend": true,
         "type": "scattergl",
         "x": [
          3.6,
          3.6,
          3.6,
          3.6,
          3.6,
          3.6,
          3.6
         ],
         "xaxis": "x",
         "y": [
          371.3,
          346.8,
          363.8,
          368.2,
          361.4,
          349.4,
          379.6
         ],
         "yaxis": "y"
        },
        {
         "customdata": [
          [
           "chocolate chips",
           "brewed coffee"
          ],
          [
           "chocolate chips",
           "baking soda"
          ],
          [
           "chocolate chips",
           "black beans"
          ],
          [
           "chocolate chips",
           "salt"
          ],
          [
           "chocolate chips",
           "eggs"
          ]
         ],
         "hovertemplate": "Ingredient 1=%{customdata[0]}<br>Rating=%{marker.size}<br>Score=%{y}<br>Ingredient 2=%{customdata[1]}<extra></extra>",
         "legendgroup": "chocolate chips",
         "marker": {
          "color": "#ab63fa",
          "size": [
           3.6,
           3.6,
           3.6,
           3.6,
           3.6
          ],
          "sizemode": "area",
          "sizeref": 0.0125,
          "symbol": "circle"
         },
         "mode": "markers",
         "name": "chocolate chips",
         "showlegend": true,
         "type": "scattergl",
         "x": [
          3.6,
          3.6,
          3.6,
          3.6,
          3.6
         ],
         "xaxis": "x",
         "y": [
          382.3,
          353.6,
          369,
          370.5,
          377.4
         ],
         "yaxis": "y"
        },
        {
         "customdata": [
          [
           "brewed coffee",
           "baking soda"
          ],
          [
           "brewed coffee",
           "black beans"
          ],
          [
           "brewed coffee",
           "salt"
          ],
          [
           "brewed coffee",
           "eggs"
          ]
         ],
         "hovertemplate": "Ingredient 1=%{customdata[0]}<br>Rating=%{marker.size}<br>Score=%{y}<br>Ingredient 2=%{customdata[1]}<extra></extra>",
         "legendgroup": "brewed coffee",
         "marker": {
          "color": "#FFA15A",
          "size": [
           3.6,
           3.6,
           3.6,
           3.6
          ],
          "sizemode": "area",
          "sizeref": 0.0125,
          "symbol": "circle"
         },
         "mode": "markers",
         "name": "brewed coffee",
         "showlegend": true,
         "type": "scattergl",
         "x": [
          3.6,
          3.6,
          3.6,
          3.6
         ],
         "xaxis": "x",
         "y": [
          345.5,
          354,
          348.3,
          347.5
         ],
         "yaxis": "y"
        },
        {
         "customdata": [
          [
           "baking soda",
           "black beans"
          ],
          [
           "baking soda",
           "salt"
          ],
          [
           "baking soda",
           "eggs"
          ],
          [
           "baking soda",
           "white sugar"
          ],
          [
           "baking soda",
           "buttermilk"
          ],
          [
           "baking soda",
           "salt"
          ],
          [
           "baking soda",
           "eggs"
          ]
         ],
         "hovertemplate": "Ingredient 1=%{customdata[0]}<br>Rating=%{marker.size}<br>Score=%{y}<br>Ingredient 2=%{customdata[1]}<extra></extra>",
         "legendgroup": "baking soda",
         "marker": {
          "color": "#19d3f3",
          "size": [
           3.6,
           3.6,
           3.6,
           4.5,
           4.5,
           4.5,
           4.5
          ],
          "sizemode": "area",
          "sizeref": 0.0125,
          "symbol": "circle"
         },
         "mode": "markers",
         "name": "baking soda",
         "showlegend": true,
         "type": "scattergl",
         "x": [
          3.6,
          3.6,
          3.6,
          4.5,
          4.5,
          4.5,
          4.5
         ],
         "xaxis": "x",
         "y": [
          359.9,
          350.2,
          359.5,
          460.7,
          457,
          457.2,
          445.4
         ],
         "yaxis": "y"
        },
        {
         "customdata": [
          [
           "black beans",
           "salt"
          ],
          [
           "black beans",
           "eggs"
          ],
          [
           "black beans",
           "hazelnuts"
          ],
          [
           "black beans",
           "butter"
          ],
          [
           "black beans",
           "eggs"
          ],
          [
           "black beans",
           "salt"
          ],
          [
           "black beans",
           "sour cream"
          ],
          [
           "black beans",
           "cilantro"
          ],
          [
           "black beans",
           "salsa"
          ],
          [
           "black beans",
           "eggs"
          ],
          [
           "black beans",
           "lime"
          ]
         ],
         "hovertemplate": "Ingredient 1=%{customdata[0]}<br>Rating=%{marker.size}<br>Score=%{y}<br>Ingredient 2=%{customdata[1]}<extra></extra>",
         "legendgroup": "black beans",
         "marker": {
          "color": "#FF6692",
          "size": [
           3.6,
           3.6,
           4,
           4,
           4,
           4,
           4.5,
           4.5,
           4.5,
           4.5,
           4.5
          ],
          "sizemode": "area",
          "sizeref": 0.0125,
          "symbol": "circle"
         },
         "mode": "markers",
         "name": "black beans",
         "showlegend": true,
         "type": "scattergl",
         "x": [
          3.6,
          3.6,
          4,
          4,
          4,
          4,
          4.5,
          4.5,
          4.5,
          4.5,
          4.5
         ],
         "xaxis": "x",
         "y": [
          383.6,
          350.7,
          398.7,
          386.2,
          401,
          384.1,
          438.8,
          443.3,
          456.5,
          462.4,
          457.7
         ],
         "yaxis": "y"
        },
        {
         "customdata": [
          [
           "salt",
           "eggs"
          ],
          [
           "salt",
           "lime"
          ],
          [
           "salt",
           "beer"
          ],
          [
           "salt",
           "eggs"
          ]
         ],
         "hovertemplate": "Ingredient 1=%{customdata[0]}<br>Rating=%{marker.size}<br>Score=%{y}<br>Ingredient 2=%{customdata[1]}<extra></extra>",
         "legendgroup": "salt",
         "marker": {
          "color": "#B6E880",
          "size": [
           3.6,
           5,
           5,
           4.5
          ],
          "sizemode": "area",
          "sizeref": 0.0125,
          "symbol": "circle"
         },
         "mode": "markers",
         "name": "salt",
         "showlegend": true,
         "type": "scattergl",
         "x": [
          3.6,
          5,
          5,
          4.5
         ],
         "xaxis": "x",
         "y": [
          369,
          509,
          520.3,
          462.9
         ],
         "yaxis": "y"
        },
        {
         "customdata": [
          [
           "coffee granules",
           "instant coffee"
          ],
          [
           "coffee granules",
           "baking powder"
          ],
          [
           "coffee granules",
           "agave nectar"
          ],
          [
           "coffee granules",
           "cocoa powder"
          ],
          [
           "coffee granules",
           "black beans"
          ],
          [
           "coffee granules",
           "hazelnuts"
          ],
          [
           "coffee granules",
           "butter"
          ],
          [
           "coffee granules",
           "eggs"
          ],
          [
           "coffee granules",
           "salt"
          ]
         ],
         "hovertemplate": "Ingredient 1=%{customdata[0]}<br>Rating=%{marker.size}<br>Score=%{y}<br>Ingredient 2=%{customdata[1]}<extra></extra>",
         "legendgroup": "coffee granules",
         "marker": {
          "color": "#FF97FF",
          "size": [
           4,
           4,
           4,
           4,
           4,
           4,
           4,
           4,
           4
          ],
          "sizemode": "area",
          "sizeref": 0.0125,
          "symbol": "circle"
         },
         "mode": "markers",
         "name": "coffee granules",
         "showlegend": true,
         "type": "scattergl",
         "x": [
          4,
          4,
          4,
          4,
          4,
          4,
          4,
          4,
          4
         ],
         "xaxis": "x",
         "y": [
          415.6,
          383.9,
          381.1,
          406.1,
          403.8,
          402.3,
          409.3,
          415.7,
          417.1
         ],
         "yaxis": "y"
        },
        {
         "customdata": [
          [
           "instant coffee",
           "baking powder"
          ],
          [
           "instant coffee",
           "agave nectar"
          ],
          [
           "instant coffee",
           "cocoa powder"
          ],
          [
           "instant coffee",
           "black beans"
          ],
          [
           "instant coffee",
           "hazelnuts"
          ],
          [
           "instant coffee",
           "butter"
          ],
          [
           "instant coffee",
           "eggs"
          ],
          [
           "instant coffee",
           "salt"
          ]
         ],
         "hovertemplate": "Ingredient 1=%{customdata[0]}<br>Rating=%{marker.size}<br>Score=%{y}<br>Ingredient 2=%{customdata[1]}<extra></extra>",
         "legendgroup": "instant coffee",
         "marker": {
          "color": "#FECB52",
          "size": [
           4,
           4,
           4,
           4,
           4,
           4,
           4,
           4
          ],
          "sizemode": "area",
          "sizeref": 0.0125,
          "symbol": "circle"
         },
         "mode": "markers",
         "name": "instant coffee",
         "showlegend": true,
         "type": "scattergl",
         "x": [
          4,
          4,
          4,
          4,
          4,
          4,
          4,
          4
         ],
         "xaxis": "x",
         "y": [
          402.5,
          406.8,
          419.4,
          415.8,
          391.3,
          390.7,
          413.8,
          390.5
         ],
         "yaxis": "y"
        },
        {
         "customdata": [
          [
           "baking powder",
           "agave nectar"
          ],
          [
           "baking powder",
           "cocoa powder"
          ],
          [
           "baking powder",
           "black beans"
          ],
          [
           "baking powder",
           "hazelnuts"
          ],
          [
           "baking powder",
           "butter"
          ],
          [
           "baking powder",
           "eggs"
          ],
          [
           "baking powder",
           "salt"
          ],
          [
           "baking powder",
           "cocoa powder"
          ],
          [
           "baking powder",
           "baking soda"
          ],
          [
           "baking powder",
           "white sugar"
          ],
          [
           "baking powder",
           "buttermilk"
          ],
          [
           "baking powder",
           "salt"
          ],
          [
           "baking powder",
           "eggs"
          ],
          [
           "baking powder",
           "coconut milk"
          ]
         ],
         "hovertemplate": "Ingredient 1=%{customdata[0]}<br>Rating=%{marker.size}<br>Score=%{y}<br>Ingredient 2=%{customdata[1]}<extra></extra>",
         "legendgroup": "baking powder",
         "marker": {
          "color": "#636efa",
          "size": [
           4,
           4,
           4,
           4,
           4,
           4,
           4,
           4.5,
           4.5,
           4.5,
           4.5,
           4.5,
           4.5,
           3.6
          ],
          "sizemode": "area",
          "sizeref": 0.0125,
          "symbol": "circle"
         },
         "mode": "markers",
         "name": "baking powder",
         "showlegend": true,
         "type": "scattergl",
         "x": [
          4,
          4,
          4,
          4,
          4,
          4,
          4,
          4.5,
          4.5,
          4.5,
          4.5,
          4.5,
          4.5,
          3.6
         ],
         "xaxis": "x",
         "y": [
          390.2,
          393.5,
          389.4,
          408,
          400.7,
          420.1,
          400.7,
          475.2,
          446.1,
          474.5,
          443.5,
          467,
          475.9,
          351.4
         ],
         "yaxis": "y"
        },
        {
         "customdata": [
          [
           "agave nectar",
           "cocoa powder"
          ],
          [
           "agave nectar",
           "black beans"
          ],
          [
           "agave nectar",
           "hazelnuts"
          ],
          [
           "agave nectar",
           "butter"
          ],
          [
           "agave nectar",
           "eggs"
          ],
          [
           "agave nectar",
           "salt"
          ]
         ],
         "hovertemplate": "Ingredient 1=%{customdata[0]}<br>Rating=%{marker.size}<br>Score=%{y}<br>Ingredient 2=%{customdata[1]}<extra></extra>",
         "legendgroup": "agave nectar",
         "marker": {
          "color": "#EF553B",
          "size": [
           4,
           4,
           4,
           4,
           4,
           4
          ],
          "sizemode": "area",
          "sizeref": 0.0125,
          "symbol": "circle"
         },
         "mode": "markers",
         "name": "agave nectar",
         "showlegend": true,
         "type": "scattergl",
         "x": [
          4,
          4,
          4,
          4,
          4,
          4
         ],
         "xaxis": "x",
         "y": [
          419.3,
          381.2,
          389,
          401.5,
          404,
          393.2
         ],
         "yaxis": "y"
        },
        {
         "customdata": [
          [
           "cocoa powder",
           "black beans"
          ],
          [
           "cocoa powder",
           "hazelnuts"
          ],
          [
           "cocoa powder",
           "butter"
          ],
          [
           "cocoa powder",
           "eggs"
          ],
          [
           "cocoa powder",
           "salt"
          ],
          [
           "cocoa powder",
           "baking soda"
          ],
          [
           "cocoa powder",
           "white sugar"
          ],
          [
           "cocoa powder",
           "buttermilk"
          ],
          [
           "cocoa powder",
           "salt"
          ],
          [
           "cocoa powder",
           "eggs"
          ]
         ],
         "hovertemplate": "Ingredient 1=%{customdata[0]}<br>Rating=%{marker.size}<br>Score=%{y}<br>Ingredient 2=%{customdata[1]}<extra></extra>",
         "legendgroup": "cocoa powder",
         "marker": {
          "color": "#00cc96",
          "size": [
           4,
           4,
           4,
           4,
           4,
           4.5,
           4.5,
           4.5,
           4.5,
           4.5
          ],
          "sizemode": "area",
          "sizeref": 0.0125,
          "symbol": "circle"
         },
         "mode": "markers",
         "name": "cocoa powder",
         "showlegend": true,
         "type": "scattergl",
         "x": [
          4,
          4,
          4,
          4,
          4,
          4.5,
          4.5,
          4.5,
          4.5,
          4.5
         ],
         "xaxis": "x",
         "y": [
          420.3,
          406.6,
          420.7,
          409.6,
          384.1,
          474.9,
          455.8,
          465.4,
          463.8,
          447.6
         ],
         "yaxis": "y"
        },
        {
         "customdata": [
          [
           "hazelnuts",
           "butter"
          ],
          [
           "hazelnuts",
           "eggs"
          ],
          [
           "hazelnuts",
           "salt"
          ]
         ],
         "hovertemplate": "Ingredient 1=%{customdata[0]}<br>Rating=%{marker.size}<br>Score=%{y}<br>Ingredient 2=%{customdata[1]}<extra></extra>",
         "legendgroup": "hazelnuts",
         "marker": {
          "color": "#ab63fa",
          "size": [
           4,
           4,
           4
          ],
          "sizemode": "area",
          "sizeref": 0.0125,
          "symbol": "circle"
         },
         "mode": "markers",
         "name": "hazelnuts",
         "showlegend": true,
         "type": "scattergl",
         "x": [
          4,
          4,
          4
         ],
         "xaxis": "x",
         "y": [
          405.7,
          420.8,
          385.2
         ],
         "yaxis": "y"
        },
        {
         "customdata": [
          [
           "pineapple chunks",
           "cayenne pepper"
          ],
          [
           "pineapple chunks",
           "garlic powder"
          ],
          [
           "pineapple chunks",
           "ground cumin"
          ],
          [
           "pineapple chunks",
           "onion powder"
          ],
          [
           "pineapple chunks",
           "brown sugar"
          ],
          [
           "pineapple chunks",
           "pork ribs"
          ],
          [
           "pineapple chunks",
           "juice"
          ],
          [
           "pineapple chunks",
           "honey"
          ],
          [
           "pineapple chunks",
           "salt"
          ],
          [
           "pineapple chunks",
           "lime"
          ],
          [
           "pineapple chunks",
           "beer"
          ]
         ],
         "hovertemplate": "Ingredient 1=%{customdata[0]}<br>Rating=%{marker.size}<br>Score=%{y}<br>Ingredient 2=%{customdata[1]}<extra></extra>",
         "legendgroup": "pineapple chunks",
         "marker": {
          "color": "#FFA15A",
          "size": [
           5,
           5,
           5,
           5,
           5,
           5,
           5,
           5,
           5,
           5,
           5
          ],
          "sizemode": "area",
          "sizeref": 0.0125,
          "symbol": "circle"
         },
         "mode": "markers",
         "name": "pineapple chunks",
         "showlegend": true,
         "type": "scattergl",
         "x": [
          5,
          5,
          5,
          5,
          5,
          5,
          5,
          5,
          5,
          5,
          5
         ],
         "xaxis": "x",
         "y": [
          487.6,
          516.5,
          489.3,
          510.7,
          501.7,
          483,
          494.2,
          486.3,
          493.1,
          491.5,
          522.7
         ],
         "yaxis": "y"
        },
        {
         "customdata": [
          [
           "garlic powder",
           "ground cumin"
          ],
          [
           "garlic powder",
           "onion powder"
          ],
          [
           "garlic powder",
           "brown sugar"
          ],
          [
           "garlic powder",
           "pork ribs"
          ],
          [
           "garlic powder",
           "juice"
          ],
          [
           "garlic powder",
           "honey"
          ],
          [
           "garlic powder",
           "salt"
          ],
          [
           "garlic powder",
           "lime"
          ],
          [
           "garlic powder",
           "beer"
          ],
          [
           "garlic powder",
           "mustard"
          ],
          [
           "garlic powder",
           "ground pepper"
          ],
          [
           "garlic powder",
           "cream cheese"
          ],
          [
           "garlic powder",
           "vegetable oil"
          ],
          [
           "garlic powder",
           "pico de gallo"
          ],
          [
           "garlic powder",
           "chili powder"
          ],
          [
           "garlic powder",
           "black beans"
          ],
          [
           "garlic powder",
           "sour cream"
          ],
          [
           "garlic powder",
           "cilantro"
          ],
          [
           "garlic powder",
           "salsa"
          ],
          [
           "garlic powder",
           "eggs"
          ],
          [
           "garlic powder",
           "lime"
          ]
         ],
         "hovertemplate": "Ingredient 1=%{customdata[0]}<br>Rating=%{marker.size}<br>Score=%{y}<br>Ingredient 2=%{customdata[1]}<extra></extra>",
         "legendgroup": "garlic powder",
         "marker": {
          "color": "#19d3f3",
          "size": [
           5,
           5,
           5,
           5,
           5,
           5,
           5,
           5,
           5,
           4.5,
           4.7,
           4.7,
           4.5,
           4.5,
           4.5,
           4.5,
           4.5,
           4.5,
           4.5,
           4.5,
           4.5
          ],
          "sizemode": "area",
          "sizeref": 0.0125,
          "symbol": "circle"
         },
         "mode": "markers",
         "name": "garlic powder",
         "showlegend": true,
         "type": "scattergl",
         "x": [
          5,
          5,
          5,
          5,
          5,
          5,
          5,
          5,
          5,
          4.5,
          4.7,
          4.7,
          4.5,
          4.5,
          4.5,
          4.5,
          4.5,
          4.5,
          4.5,
          4.5,
          4.5
         ],
         "xaxis": "x",
         "y": [
          505.9,
          502.2,
          507.6,
          515.8,
          518.3,
          516.2,
          517.4,
          508.9,
          512.2,
          442.1,
          460.7,
          470.2,
          437.8,
          443.4,
          466.2,
          462.8,
          434.1,
          441.7,
          455.7,
          469.3,
          460.1
         ],
         "yaxis": "y"
        },
        {
         "customdata": [
          [
           "onion powder",
           "brown sugar"
          ],
          [
           "onion powder",
           "pork ribs"
          ],
          [
           "onion powder",
           "juice"
          ],
          [
           "onion powder",
           "honey"
          ],
          [
           "onion powder",
           "salt"
          ],
          [
           "onion powder",
           "lime"
          ],
          [
           "onion powder",
           "beer"
          ]
         ],
         "hovertemplate": "Ingredient 1=%{customdata[0]}<br>Rating=%{marker.size}<br>Score=%{y}<br>Ingredient 2=%{customdata[1]}<extra></extra>",
         "legendgroup": "onion powder",
         "marker": {
          "color": "#FF6692",
          "size": [
           5,
           5,
           5,
           5,
           5,
           5,
           5
          ],
          "sizemode": "area",
          "sizeref": 0.0125,
          "symbol": "circle"
         },
         "mode": "markers",
         "name": "onion powder",
         "showlegend": true,
         "type": "scattergl",
         "x": [
          5,
          5,
          5,
          5,
          5,
          5,
          5
         ],
         "xaxis": "x",
         "y": [
          489.7,
          497.9,
          484.9,
          500.3,
          491.1,
          483.4,
          514.2
         ],
         "yaxis": "y"
        },
        {
         "customdata": [
          [
           "pork ribs",
           "juice"
          ],
          [
           "pork ribs",
           "honey"
          ],
          [
           "pork ribs",
           "salt"
          ],
          [
           "pork ribs",
           "lime"
          ],
          [
           "pork ribs",
           "beer"
          ]
         ],
         "hovertemplate": "Ingredient 1=%{customdata[0]}<br>Rating=%{marker.size}<br>Score=%{y}<br>Ingredient 2=%{customdata[1]}<extra></extra>",
         "legendgroup": "pork ribs",
         "marker": {
          "color": "#B6E880",
          "size": [
           5,
           5,
           5,
           5,
           5
          ],
          "sizemode": "area",
          "sizeref": 0.0125,
          "symbol": "circle"
         },
         "mode": "markers",
         "name": "pork ribs",
         "showlegend": true,
         "type": "scattergl",
         "x": [
          5,
          5,
          5,
          5,
          5
         ],
         "xaxis": "x",
         "y": [
          509,
          511.3,
          498.6,
          496.6,
          518.8
         ],
         "yaxis": "y"
        },
        {
         "customdata": [
          [
           "juice",
           "honey"
          ],
          [
           "juice",
           "salt"
          ],
          [
           "juice",
           "lime"
          ],
          [
           "juice",
           "beer"
          ]
         ],
         "hovertemplate": "Ingredient 1=%{customdata[0]}<br>Rating=%{marker.size}<br>Score=%{y}<br>Ingredient 2=%{customdata[1]}<extra></extra>",
         "legendgroup": "juice",
         "marker": {
          "color": "#FF97FF",
          "size": [
           5,
           5,
           5,
           5
          ],
          "sizemode": "area",
          "sizeref": 0.0125,
          "symbol": "circle"
         },
         "mode": "markers",
         "name": "juice",
         "showlegend": true,
         "type": "scattergl",
         "x": [
          5,
          5,
          5,
          5
         ],
         "xaxis": "x",
         "y": [
          492.1,
          489.6,
          503.7,
          510.1
         ],
         "yaxis": "y"
        },
        {
         "customdata": [
          [
           "honey",
           "salt"
          ],
          [
           "honey",
           "lime"
          ],
          [
           "honey",
           "beer"
          ],
          [
           "honey",
           "sake"
          ]
         ],
         "hovertemplate": "Ingredient 1=%{customdata[0]}<br>Rating=%{marker.size}<br>Score=%{y}<br>Ingredient 2=%{customdata[1]}<extra></extra>",
         "legendgroup": "honey",
         "marker": {
          "color": "#FECB52",
          "size": [
           5,
           5,
           5,
           4.7
          ],
          "sizemode": "area",
          "sizeref": 0.0125,
          "symbol": "circle"
         },
         "mode": "markers",
         "name": "honey",
         "showlegend": true,
         "type": "scattergl",
         "x": [
          5,
          5,
          5,
          4.7
         ],
         "xaxis": "x",
         "y": [
          508.2,
          484.6,
          519.1,
          582.8
         ],
         "yaxis": "y"
        },
        {
         "customdata": [
          [
           "lime",
           "beer"
          ],
          [
           "lime",
           "red"
          ],
          [
           "lime",
           "salt"
          ]
         ],
         "hovertemplate": "Ingredient 1=%{customdata[0]}<br>Rating=%{marker.size}<br>Score=%{y}<br>Ingredient 2=%{customdata[1]}<extra></extra>",
         "legendgroup": "lime",
         "marker": {
          "color": "#636efa",
          "size": [
           5,
           4,
           4.5
          ],
          "sizemode": "area",
          "sizeref": 0.0125,
          "symbol": "circle"
         },
         "mode": "markers",
         "name": "lime",
         "showlegend": true,
         "type": "scattergl",
         "x": [
          5,
          4,
          4.5
         ],
         "xaxis": "x",
         "y": [
          485.5,
          381.7,
          438.4
         ],
         "yaxis": "y"
        },
        {
         "customdata": [
          [
           "light brown sugar",
           "vanilla extract"
          ],
          [
           "light brown sugar",
           "vegetable oil"
          ],
          [
           "light brown sugar",
           "baking powder"
          ],
          [
           "light brown sugar",
           "cocoa powder"
          ],
          [
           "light brown sugar",
           "baking soda"
          ],
          [
           "light brown sugar",
           "white sugar"
          ],
          [
           "light brown sugar",
           "buttermilk"
          ],
          [
           "light brown sugar",
           "salt"
          ],
          [
           "light brown sugar",
           "eggs"
          ]
         ],
         "hovertemplate": "Ingredient 1=%{customdata[0]}<br>Rating=%{marker.size}<br>Score=%{y}<br>Ingredient 2=%{customdata[1]}<extra></extra>",
         "legendgroup": "light brown sugar",
         "marker": {
          "color": "#EF553B",
          "size": [
           4.5,
           4.5,
           4.5,
           4.5,
           4.5,
           4.5,
           4.5,
           4.5,
           4.5
          ],
          "sizemode": "area",
          "sizeref": 0.0125,
          "symbol": "circle"
         },
         "mode": "markers",
         "name": "light brown sugar",
         "showlegend": true,
         "type": "scattergl",
         "x": [
          4.5,
          4.5,
          4.5,
          4.5,
          4.5,
          4.5,
          4.5,
          4.5,
          4.5
         ],
         "xaxis": "x",
         "y": [
          471,
          450.8,
          464.4,
          460.5,
          459.5,
          471.1,
          452,
          464.3,
          444.1
         ],
         "yaxis": "y"
        },
        {
         "customdata": [
          [
           "vegetable oil",
           "baking powder"
          ],
          [
           "vegetable oil",
           "cocoa powder"
          ],
          [
           "vegetable oil",
           "baking soda"
          ],
          [
           "vegetable oil",
           "white sugar"
          ],
          [
           "vegetable oil",
           "buttermilk"
          ],
          [
           "vegetable oil",
           "salt"
          ],
          [
           "vegetable oil",
           "eggs"
          ],
          [
           "vegetable oil",
           "cider vinegar"
          ],
          [
           "vegetable oil",
           "ground cumin"
          ],
          [
           "vegetable oil",
           "chile pepper"
          ],
          [
           "vegetable oil",
           "kosher salt"
          ],
          [
           "vegetable oil",
           "annatto"
          ],
          [
           "vegetable oil",
           "achiote"
          ],
          [
           "vegetable oil",
           "quinoa"
          ],
          [
           "vegetable oil",
           "garlic"
          ],
          [
           "vegetable oil",
           "onion"
          ],
          [
           "vegetable oil",
           "garlic powder"
          ],
          [
           "vegetable oil",
           "mustard"
          ],
          [
           "vegetable oil",
           "serrano chile"
          ],
          [
           "vegetable oil",
           "clove garlic"
          ],
          [
           "vegetable oil",
           "chile pepper"
          ],
          [
           "vegetable oil",
           "adobo sauce"
          ],
          [
           "vegetable oil",
           "olive oil"
          ],
          [
           "vegetable oil",
           "onion"
          ],
          [
           "vegetable oil",
           "pico de gallo"
          ],
          [
           "vegetable oil",
           "chili powder"
          ],
          [
           "vegetable oil",
           "black beans"
          ],
          [
           "vegetable oil",
           "sour cream"
          ],
          [
           "vegetable oil",
           "cilantro"
          ],
          [
           "vegetable oil",
           "salsa"
          ],
          [
           "vegetable oil",
           "eggs"
          ],
          [
           "vegetable oil",
           "lime"
          ]
         ],
         "hovertemplate": "Ingredient 1=%{customdata[0]}<br>Rating=%{marker.size}<br>Score=%{y}<br>Ingredient 2=%{customdata[1]}<extra></extra>",
         "legendgroup": "vegetable oil",
         "marker": {
          "color": "#00cc96",
          "size": [
           4.5,
           4.5,
           4.5,
           4.5,
           4.5,
           4.5,
           4.5,
           4,
           4,
           4,
           4,
           4,
           4,
           4,
           4,
           4,
           4.5,
           4.5,
           5,
           5,
           5,
           5,
           5,
           5,
           4.5,
           4.5,
           4.5,
           4.5,
           4.5,
           4.5,
           4.5,
           4.5
          ],
          "sizemode": "area",
          "sizeref": 0.0125,
          "symbol": "circle"
         },
         "mode": "markers",
         "name": "vegetable oil",
         "showlegend": true,
         "type": "scattergl",
         "x": [
          4.5,
          4.5,
          4.5,
          4.5,
          4.5,
          4.5,
          4.5,
          4,
          4,
          4,
          4,
          4,
          4,
          4,
          4,
          4,
          4.5,
          4.5,
          5,
          5,
          5,
          5,
          5,
          5,
          4.5,
          4.5,
          4.5,
          4.5,
          4.5,
          4.5,
          4.5,
          4.5
         ],
         "xaxis": "x",
         "y": [
          452.2,
          474.4,
          443,
          444.5,
          448.3,
          438.3,
          447.1,
          385.3,
          384.6,
          396,
          381.9,
          395.1,
          396.5,
          384.6,
          407.4,
          410.8,
          463.3,
          453.8,
          489.4,
          494.8,
          509,
          491.3,
          497.6,
          496.6,
          455.7,
          443.4,
          451.7,
          472,
          464.9,
          471.8,
          449.5,
          465.9
         ],
         "yaxis": "y"
        },
        {
         "customdata": [
          [
           "buttermilk",
           "salt"
          ],
          [
           "buttermilk",
           "eggs"
          ]
         ],
         "hovertemplate": "Ingredient 1=%{customdata[0]}<br>Rating=%{marker.size}<br>Score=%{y}<br>Ingredient 2=%{customdata[1]}<extra></extra>",
         "legendgroup": "buttermilk",
         "marker": {
          "color": "#ab63fa",
          "size": [
           4.5,
           4.5
          ],
          "sizemode": "area",
          "sizeref": 0.0125,
          "symbol": "circle"
         },
         "mode": "markers",
         "name": "buttermilk",
         "showlegend": true,
         "type": "scattergl",
         "x": [
          4.5,
          4.5
         ],
         "xaxis": "x",
         "y": [
          460.7,
          453.2
         ],
         "yaxis": "y"
        },
        {
         "customdata": [
          [
           "flax seed meal",
           "baking powder"
          ],
          [
           "flax seed meal",
           "coconut milk"
          ]
         ],
         "hovertemplate": "Ingredient 1=%{customdata[0]}<br>Rating=%{marker.size}<br>Score=%{y}<br>Ingredient 2=%{customdata[1]}<extra></extra>",
         "legendgroup": "flax seed meal",
         "marker": {
          "color": "#FFA15A",
          "size": [
           3.6,
           3.6
          ],
          "sizemode": "area",
          "sizeref": 0.0125,
          "symbol": "circle"
         },
         "mode": "markers",
         "name": "flax seed meal",
         "showlegend": true,
         "type": "scattergl",
         "x": [
          3.6,
          3.6
         ],
         "xaxis": "x",
         "y": [
          372.5,
          376.8
         ],
         "yaxis": "y"
        },
        {
         "customdata": [
          [
           "russet potatoes",
           "diced celery"
          ],
          [
           "russet potatoes",
           "boiled eggs"
          ],
          [
           "russet potatoes",
           "sweet onion"
          ],
          [
           "russet potatoes",
           "kosher salt"
          ],
          [
           "russet potatoes",
           "cold water"
          ],
          [
           "russet potatoes",
           "paprika"
          ],
          [
           "russet potatoes",
           "garnish"
          ],
          [
           "russet potatoes",
           "parsley"
          ],
          [
           "russet potatoes",
           "chives"
          ]
         ],
         "hovertemplate": "Ingredient 1=%{customdata[0]}<br>Rating=%{marker.size}<br>Score=%{y}<br>Ingredient 2=%{customdata[1]}<extra></extra>",
         "legendgroup": "russet potatoes",
         "marker": {
          "color": "#19d3f3",
          "size": [
           4.5,
           4.5,
           4.5,
           4.5,
           4.5,
           4.5,
           4.5,
           4.5,
           4.5
          ],
          "sizemode": "area",
          "sizeref": 0.0125,
          "symbol": "circle"
         },
         "mode": "markers",
         "name": "russet potatoes",
         "showlegend": true,
         "type": "scattergl",
         "x": [
          4.5,
          4.5,
          4.5,
          4.5,
          4.5,
          4.5,
          4.5,
          4.5,
          4.5
         ],
         "xaxis": "x",
         "y": [
          523.5,
          521.6,
          499.6,
          508.1,
          501.4,
          515.4,
          514.9,
          517.6,
          519.4
         ],
         "yaxis": "y"
        },
        {
         "customdata": [
          [
           "diced celery",
           "boiled eggs"
          ],
          [
           "diced celery",
           "sweet onion"
          ],
          [
           "diced celery",
           "kosher salt"
          ],
          [
           "diced celery",
           "cold water"
          ],
          [
           "diced celery",
           "paprika"
          ],
          [
           "diced celery",
           "garnish"
          ],
          [
           "diced celery",
           "parsley"
          ],
          [
           "diced celery",
           "chives"
          ]
         ],
         "hovertemplate": "Ingredient 1=%{customdata[0]}<br>Rating=%{marker.size}<br>Score=%{y}<br>Ingredient 2=%{customdata[1]}<extra></extra>",
         "legendgroup": "diced celery",
         "marker": {
          "color": "#FF6692",
          "size": [
           4.5,
           4.5,
           4.5,
           4.5,
           4.5,
           4.5,
           4.5,
           4.5
          ],
          "sizemode": "area",
          "sizeref": 0.0125,
          "symbol": "circle"
         },
         "mode": "markers",
         "name": "diced celery",
         "showlegend": true,
         "type": "scattergl",
         "x": [
          4.5,
          4.5,
          4.5,
          4.5,
          4.5,
          4.5,
          4.5,
          4.5
         ],
         "xaxis": "x",
         "y": [
          495.2,
          514.9,
          508.5,
          515.9,
          508.2,
          495.3,
          501.6,
          508.9
         ],
         "yaxis": "y"
        },
        {
         "customdata": [
          [
           "boiled eggs",
           "sweet onion"
          ],
          [
           "boiled eggs",
           "kosher salt"
          ],
          [
           "boiled eggs",
           "cold water"
          ],
          [
           "boiled eggs",
           "paprika"
          ],
          [
           "boiled eggs",
           "garnish"
          ],
          [
           "boiled eggs",
           "parsley"
          ],
          [
           "boiled eggs",
           "chives"
          ]
         ],
         "hovertemplate": "Ingredient 1=%{customdata[0]}<br>Rating=%{marker.size}<br>Score=%{y}<br>Ingredient 2=%{customdata[1]}<extra></extra>",
         "legendgroup": "boiled eggs",
         "marker": {
          "color": "#B6E880",
          "size": [
           4.5,
           4.5,
           4.5,
           4.5,
           4.5,
           4.5,
           4.5
          ],
          "sizemode": "area",
          "sizeref": 0.0125,
          "symbol": "circle"
         },
         "mode": "markers",
         "name": "boiled eggs",
         "showlegend": true,
         "type": "scattergl",
         "x": [
          4.5,
          4.5,
          4.5,
          4.5,
          4.5,
          4.5,
          4.5
         ],
         "xaxis": "x",
         "y": [
          488.8,
          499,
          513.7,
          490,
          511.4,
          495.1,
          498
         ],
         "yaxis": "y"
        },
        {
         "customdata": [
          [
           "sweet onion",
           "kosher salt"
          ],
          [
           "sweet onion",
           "cold water"
          ],
          [
           "sweet onion",
           "paprika"
          ],
          [
           "sweet onion",
           "garnish"
          ],
          [
           "sweet onion",
           "parsley"
          ],
          [
           "sweet onion",
           "chives"
          ]
         ],
         "hovertemplate": "Ingredient 1=%{customdata[0]}<br>Rating=%{marker.size}<br>Score=%{y}<br>Ingredient 2=%{customdata[1]}<extra></extra>",
         "legendgroup": "sweet onion",
         "marker": {
          "color": "#FF97FF",
          "size": [
           4.5,
           4.5,
           4.5,
           4.5,
           4.5,
           4.5
          ],
          "sizemode": "area",
          "sizeref": 0.0125,
          "symbol": "circle"
         },
         "mode": "markers",
         "name": "sweet onion",
         "showlegend": true,
         "type": "scattergl",
         "x": [
          4.5,
          4.5,
          4.5,
          4.5,
          4.5,
          4.5
         ],
         "xaxis": "x",
         "y": [
          484.8,
          497.5,
          484.1,
          508.5,
          518.9,
          498.8
         ],
         "yaxis": "y"
        },
        {
         "customdata": [
          [
           "cold water",
           "paprika"
          ],
          [
           "cold water",
           "garnish"
          ],
          [
           "cold water",
           "parsley"
          ],
          [
           "cold water",
           "chives"
          ]
         ],
         "hovertemplate": "Ingredient 1=%{customdata[0]}<br>Rating=%{marker.size}<br>Score=%{y}<br>Ingredient 2=%{customdata[1]}<extra></extra>",
         "legendgroup": "cold water",
         "marker": {
          "color": "#FECB52",
          "size": [
           4.5,
           4.5,
           4.5,
           4.5
          ],
          "sizemode": "area",
          "sizeref": 0.0125,
          "symbol": "circle"
         },
         "mode": "markers",
         "name": "cold water",
         "showlegend": true,
         "type": "scattergl",
         "x": [
          4.5,
          4.5,
          4.5,
          4.5
         ],
         "xaxis": "x",
         "y": [
          507.7,
          487.1,
          489,
          484.7
         ],
         "yaxis": "y"
        },
        {
         "customdata": [
          [
           "paprika",
           "garnish"
          ],
          [
           "paprika",
           "parsley"
          ],
          [
           "paprika",
           "chives"
          ]
         ],
         "hovertemplate": "Ingredient 1=%{customdata[0]}<br>Rating=%{marker.size}<br>Score=%{y}<br>Ingredient 2=%{customdata[1]}<extra></extra>",
         "legendgroup": "paprika",
         "marker": {
          "color": "#636efa",
          "size": [
           4.5,
           4.5,
           4.5
          ],
          "sizemode": "area",
          "sizeref": 0.0125,
          "symbol": "circle"
         },
         "mode": "markers",
         "name": "paprika",
         "showlegend": true,
         "type": "scattergl",
         "x": [
          4.5,
          4.5,
          4.5
         ],
         "xaxis": "x",
         "y": [
          487.8,
          490.4,
          491.7
         ],
         "yaxis": "y"
        },
        {
         "customdata": [
          [
           "garnish",
           "parsley"
          ],
          [
           "garnish",
           "chives"
          ]
         ],
         "hovertemplate": "Ingredient 1=%{customdata[0]}<br>Rating=%{marker.size}<br>Score=%{y}<br>Ingredient 2=%{customdata[1]}<extra></extra>",
         "legendgroup": "garnish",
         "marker": {
          "color": "#EF553B",
          "size": [
           4.5,
           4.5
          ],
          "sizemode": "area",
          "sizeref": 0.0125,
          "symbol": "circle"
         },
         "mode": "markers",
         "name": "garnish",
         "showlegend": true,
         "type": "scattergl",
         "x": [
          4.5,
          4.5
         ],
         "xaxis": "x",
         "y": [
          498.7,
          510.3
         ],
         "yaxis": "y"
        },
        {
         "customdata": [
          [
           "five-spice powder",
           "red food coloring"
          ],
          [
           "five-spice powder",
           "cayenne pepper"
          ],
          [
           "five-spice powder",
           "hoisin sauce"
          ],
          [
           "five-spice powder",
           "kosher salt"
          ],
          [
           "five-spice powder",
           "brown sugar"
          ],
          [
           "five-spice powder",
           "curing salt"
          ],
          [
           "five-spice powder",
           "dry sherry"
          ],
          [
           "five-spice powder",
           "pork butt"
          ],
          [
           "five-spice powder",
           "rice wine"
          ],
          [
           "five-spice powder",
           "soy sauce"
          ],
          [
           "five-spice powder",
           "ketchup"
          ],
          [
           "five-spice powder",
           "garlic"
          ],
          [
           "five-spice powder",
           "honey"
          ],
          [
           "five-spice powder",
           "sake"
          ]
         ],
         "hovertemplate": "Ingredient 1=%{customdata[0]}<br>Rating=%{marker.size}<br>Score=%{y}<br>Ingredient 2=%{customdata[1]}<extra></extra>",
         "legendgroup": "five-spice powder",
         "marker": {
          "color": "#00cc96",
          "size": [
           4.7,
           4.7,
           4.7,
           4.7,
           4.7,
           4.7,
           4.7,
           4.7,
           4.7,
           4.7,
           4.7,
           4.7,
           4.7,
           4.7
          ],
          "sizemode": "area",
          "sizeref": 0.0125,
          "symbol": "circle"
         },
         "mode": "markers",
         "name": "five-spice powder",
         "showlegend": true,
         "type": "scattergl",
         "x": [
          4.7,
          4.7,
          4.7,
          4.7,
          4.7,
          4.7,
          4.7,
          4.7,
          4.7,
          4.7,
          4.7,
          4.7,
          4.7,
          4.7
         ],
         "xaxis": "x",
         "y": [
          560.2,
          589.3,
          564.3,
          556.8,
          558.4,
          561.1,
          561.4,
          558.5,
          567.3,
          593.9,
          590.7,
          583.1,
          558.2,
          560
         ],
         "yaxis": "y"
        },
        {
         "customdata": [
          [
           "red food coloring",
           "cayenne pepper"
          ],
          [
           "red food coloring",
           "hoisin sauce"
          ],
          [
           "red food coloring",
           "kosher salt"
          ],
          [
           "red food coloring",
           "brown sugar"
          ],
          [
           "red food coloring",
           "curing salt"
          ],
          [
           "red food coloring",
           "dry sherry"
          ],
          [
           "red food coloring",
           "pork butt"
          ],
          [
           "red food coloring",
           "rice wine"
          ],
          [
           "red food coloring",
           "soy sauce"
          ],
          [
           "red food coloring",
           "ketchup"
          ],
          [
           "red food coloring",
           "garlic"
          ],
          [
           "red food coloring",
           "honey"
          ],
          [
           "red food coloring",
           "sake"
          ]
         ],
         "hovertemplate": "Ingredient 1=%{customdata[0]}<br>Rating=%{marker.size}<br>Score=%{y}<br>Ingredient 2=%{customdata[1]}<extra></extra>",
         "legendgroup": "red food coloring",
         "marker": {
          "color": "#ab63fa",
          "size": [
           4.7,
           4.7,
           4.7,
           4.7,
           4.7,
           4.7,
           4.7,
           4.7,
           4.7,
           4.7,
           4.7,
           4.7,
           4.7
          ],
          "sizemode": "area",
          "sizeref": 0.0125,
          "symbol": "circle"
         },
         "mode": "markers",
         "name": "red food coloring",
         "showlegend": true,
         "type": "scattergl",
         "x": [
          4.7,
          4.7,
          4.7,
          4.7,
          4.7,
          4.7,
          4.7,
          4.7,
          4.7,
          4.7,
          4.7,
          4.7,
          4.7
         ],
         "xaxis": "x",
         "y": [
          579.1,
          589.9,
          583.8,
          580,
          587,
          566.8,
          555.6,
          554.9,
          588.4,
          589.3,
          566.7,
          583.9,
          579.4
         ],
         "yaxis": "y"
        },
        {
         "customdata": [
          [
           "hoisin sauce",
           "kosher salt"
          ],
          [
           "hoisin sauce",
           "brown sugar"
          ],
          [
           "hoisin sauce",
           "curing salt"
          ],
          [
           "hoisin sauce",
           "dry sherry"
          ],
          [
           "hoisin sauce",
           "pork butt"
          ],
          [
           "hoisin sauce",
           "rice wine"
          ],
          [
           "hoisin sauce",
           "soy sauce"
          ],
          [
           "hoisin sauce",
           "ketchup"
          ],
          [
           "hoisin sauce",
           "garlic"
          ],
          [
           "hoisin sauce",
           "honey"
          ],
          [
           "hoisin sauce",
           "sake"
          ]
         ],
         "hovertemplate": "Ingredient 1=%{customdata[0]}<br>Rating=%{marker.size}<br>Score=%{y}<br>Ingredient 2=%{customdata[1]}<extra></extra>",
         "legendgroup": "hoisin sauce",
         "marker": {
          "color": "#FFA15A",
          "size": [
           4.7,
           4.7,
           4.7,
           4.7,
           4.7,
           4.7,
           4.7,
           4.7,
           4.7,
           4.7,
           4.7
          ],
          "sizemode": "area",
          "sizeref": 0.0125,
          "symbol": "circle"
         },
         "mode": "markers",
         "name": "hoisin sauce",
         "showlegend": true,
         "type": "scattergl",
         "x": [
          4.7,
          4.7,
          4.7,
          4.7,
          4.7,
          4.7,
          4.7,
          4.7,
          4.7,
          4.7,
          4.7
         ],
         "xaxis": "x",
         "y": [
          562.3,
          565.4,
          587.3,
          557.3,
          566.6,
          589.4,
          556.9,
          583.1,
          574.4,
          563.4,
          558.1
         ],
         "yaxis": "y"
        },
        {
         "customdata": [
          [
           "curing salt",
           "dry sherry"
          ],
          [
           "curing salt",
           "pork butt"
          ],
          [
           "curing salt",
           "rice wine"
          ],
          [
           "curing salt",
           "soy sauce"
          ],
          [
           "curing salt",
           "ketchup"
          ],
          [
           "curing salt",
           "garlic"
          ],
          [
           "curing salt",
           "honey"
          ],
          [
           "curing salt",
           "sake"
          ]
         ],
         "hovertemplate": "Ingredient 1=%{customdata[0]}<br>Rating=%{marker.size}<br>Score=%{y}<br>Ingredient 2=%{customdata[1]}<extra></extra>",
         "legendgroup": "curing salt",
         "marker": {
          "color": "#19d3f3",
          "size": [
           4.7,
           4.7,
           4.7,
           4.7,
           4.7,
           4.7,
           4.7,
           4.7
          ],
          "sizemode": "area",
          "sizeref": 0.0125,
          "symbol": "circle"
         },
         "mode": "markers",
         "name": "curing salt",
         "showlegend": true,
         "type": "scattergl",
         "x": [
          4.7,
          4.7,
          4.7,
          4.7,
          4.7,
          4.7,
          4.7,
          4.7
         ],
         "xaxis": "x",
         "y": [
          591.6,
          558.1,
          568.1,
          570.4,
          582,
          580.5,
          567.3,
          557.8
         ],
         "yaxis": "y"
        },
        {
         "customdata": [
          [
           "dry sherry",
           "pork butt"
          ],
          [
           "dry sherry",
           "rice wine"
          ],
          [
           "dry sherry",
           "soy sauce"
          ],
          [
           "dry sherry",
           "ketchup"
          ],
          [
           "dry sherry",
           "garlic"
          ],
          [
           "dry sherry",
           "honey"
          ],
          [
           "dry sherry",
           "sake"
          ]
         ],
         "hovertemplate": "Ingredient 1=%{customdata[0]}<br>Rating=%{marker.size}<br>Score=%{y}<br>Ingredient 2=%{customdata[1]}<extra></extra>",
         "legendgroup": "dry sherry",
         "marker": {
          "color": "#FF6692",
          "size": [
           4.7,
           4.7,
           4.7,
           4.7,
           4.7,
           4.7,
           4.7
          ],
          "sizemode": "area",
          "sizeref": 0.0125,
          "symbol": "circle"
         },
         "mode": "markers",
         "name": "dry sherry",
         "showlegend": true,
         "type": "scattergl",
         "x": [
          4.7,
          4.7,
          4.7,
          4.7,
          4.7,
          4.7,
          4.7
         ],
         "xaxis": "x",
         "y": [
          586.4,
          584.1,
          557.2,
          589.1,
          571.3,
          562.7,
          563.2
         ],
         "yaxis": "y"
        },
        {
         "customdata": [
          [
           "pork butt",
           "rice wine"
          ],
          [
           "pork butt",
           "soy sauce"
          ],
          [
           "pork butt",
           "ketchup"
          ],
          [
           "pork butt",
           "garlic"
          ],
          [
           "pork butt",
           "honey"
          ],
          [
           "pork butt",
           "sake"
          ]
         ],
         "hovertemplate": "Ingredient 1=%{customdata[0]}<br>Rating=%{marker.size}<br>Score=%{y}<br>Ingredient 2=%{customdata[1]}<extra></extra>",
         "legendgroup": "pork butt",
         "marker": {
          "color": "#B6E880",
          "size": [
           4.7,
           4.7,
           4.7,
           4.7,
           4.7,
           4.7
          ],
          "sizemode": "area",
          "sizeref": 0.0125,
          "symbol": "circle"
         },
         "mode": "markers",
         "name": "pork butt",
         "showlegend": true,
         "type": "scattergl",
         "x": [
          4.7,
          4.7,
          4.7,
          4.7,
          4.7,
          4.7
         ],
         "xaxis": "x",
         "y": [
          581.7,
          588.7,
          554.8,
          582.8,
          574.7,
          590
         ],
         "yaxis": "y"
        },
        {
         "customdata": [
          [
           "rice wine",
           "soy sauce"
          ],
          [
           "rice wine",
           "ketchup"
          ],
          [
           "rice wine",
           "garlic"
          ],
          [
           "rice wine",
           "honey"
          ],
          [
           "rice wine",
           "sake"
          ]
         ],
         "hovertemplate": "Ingredient 1=%{customdata[0]}<br>Rating=%{marker.size}<br>Score=%{y}<br>Ingredient 2=%{customdata[1]}<extra></extra>",
         "legendgroup": "rice wine",
         "marker": {
          "color": "#FF97FF",
          "size": [
           4.7,
           4.7,
           4.7,
           4.7,
           4.7
          ],
          "sizemode": "area",
          "sizeref": 0.0125,
          "symbol": "circle"
         },
         "mode": "markers",
         "name": "rice wine",
         "showlegend": true,
         "type": "scattergl",
         "x": [
          4.7,
          4.7,
          4.7,
          4.7,
          4.7
         ],
         "xaxis": "x",
         "y": [
          566.4,
          569.4,
          583.7,
          556.9,
          560.1
         ],
         "yaxis": "y"
        },
        {
         "customdata": [
          [
           "ketchup",
           "garlic"
          ],
          [
           "ketchup",
           "honey"
          ],
          [
           "ketchup",
           "sake"
          ]
         ],
         "hovertemplate": "Ingredient 1=%{customdata[0]}<br>Rating=%{marker.size}<br>Score=%{y}<br>Ingredient 2=%{customdata[1]}<extra></extra>",
         "legendgroup": "ketchup",
         "marker": {
          "color": "#FECB52",
          "size": [
           4.7,
           4.7,
           4.7
          ],
          "sizemode": "area",
          "sizeref": 0.0125,
          "symbol": "circle"
         },
         "mode": "markers",
         "name": "ketchup",
         "showlegend": true,
         "type": "scattergl",
         "x": [
          4.7,
          4.7,
          4.7
         ],
         "xaxis": "x",
         "y": [
          581.7,
          568,
          572.5
         ],
         "yaxis": "y"
        },
        {
         "customdata": [
          [
           "golden raisins",
           "cooking spray"
          ],
          [
           "golden raisins",
           "cream cheese"
          ],
          [
           "golden raisins",
           "dinner rolls"
          ],
          [
           "golden raisins",
           "brown sugar"
          ],
          [
           "golden raisins",
           "white sugar"
          ],
          [
           "golden raisins",
           "butter"
          ]
         ],
         "hovertemplate": "Ingredient 1=%{customdata[0]}<br>Rating=%{marker.size}<br>Score=%{y}<br>Ingredient 2=%{customdata[1]}<extra></extra>",
         "legendgroup": "golden raisins",
         "marker": {
          "color": "#636efa",
          "size": [
           5,
           5,
           5,
           5,
           5,
           5
          ],
          "sizemode": "area",
          "sizeref": 0.0125,
          "symbol": "circle"
         },
         "mode": "markers",
         "name": "golden raisins",
         "showlegend": true,
         "type": "scattergl",
         "x": [
          5,
          5,
          5,
          5,
          5,
          5
         ],
         "xaxis": "x",
         "y": [
          506.4,
          491.4,
          487.1,
          508.6,
          506.7,
          515.2
         ],
         "yaxis": "y"
        },
        {
         "customdata": [
          [
           "dinner rolls",
           "brown sugar"
          ],
          [
           "dinner rolls",
           "white sugar"
          ],
          [
           "dinner rolls",
           "butter"
          ]
         ],
         "hovertemplate": "Ingredient 1=%{customdata[0]}<br>Rating=%{marker.size}<br>Score=%{y}<br>Ingredient 2=%{customdata[1]}<extra></extra>",
         "legendgroup": "dinner rolls",
         "marker": {
          "color": "#EF553B",
          "size": [
           5,
           5,
           5
          ],
          "sizemode": "area",
          "sizeref": 0.0125,
          "symbol": "circle"
         },
         "mode": "markers",
         "name": "dinner rolls",
         "showlegend": true,
         "type": "scattergl",
         "x": [
          5,
          5,
          5
         ],
         "xaxis": "x",
         "y": [
          489.6,
          499.8,
          515
         ],
         "yaxis": "y"
        },
        {
         "customdata": [
          [
           "provolone cheese",
           "hoagie rolls"
          ],
          [
           "provolone cheese",
           "thyme leaves"
          ],
          [
           "provolone cheese",
           "bell pepper"
          ],
          [
           "provolone cheese",
           "mushrooms"
          ],
          [
           "provolone cheese",
           "olive oil"
          ],
          [
           "provolone cheese",
           "soy sauce"
          ],
          [
           "provolone cheese",
           "cremini"
          ],
          [
           "provolone cheese",
           "mustard"
          ],
          [
           "provolone cheese",
           "butter"
          ],
          [
           "provolone cheese",
           "onion"
          ],
          [
           "provolone cheese",
           "salt"
          ]
         ],
         "hovertemplate": "Ingredient 1=%{customdata[0]}<br>Rating=%{marker.size}<br>Score=%{y}<br>Ingredient 2=%{customdata[1]}<extra></extra>",
         "legendgroup": "provolone cheese",
         "marker": {
          "color": "#00cc96",
          "size": [
           4.5,
           4.5,
           4.5,
           4.5,
           4.5,
           4.5,
           4.5,
           4.5,
           4.5,
           4.5,
           4.5
          ],
          "sizemode": "area",
          "sizeref": 0.0125,
          "symbol": "circle"
         },
         "mode": "markers",
         "name": "provolone cheese",
         "showlegend": true,
         "type": "scattergl",
         "x": [
          4.5,
          4.5,
          4.5,
          4.5,
          4.5,
          4.5,
          4.5,
          4.5,
          4.5,
          4.5,
          4.5
         ],
         "xaxis": "x",
         "y": [
          455.4,
          445.9,
          470,
          438.6,
          453.1,
          435,
          441.5,
          457.4,
          437.2,
          458,
          437.1
         ],
         "yaxis": "y"
        },
        {
         "customdata": [
          [
           "hoagie rolls",
           "thyme leaves"
          ],
          [
           "hoagie rolls",
           "bell pepper"
          ],
          [
           "hoagie rolls",
           "mushrooms"
          ],
          [
           "hoagie rolls",
           "olive oil"
          ],
          [
           "hoagie rolls",
           "soy sauce"
          ],
          [
           "hoagie rolls",
           "cremini"
          ],
          [
           "hoagie rolls",
           "mustard"
          ],
          [
           "hoagie rolls",
           "butter"
          ],
          [
           "hoagie rolls",
           "onion"
          ],
          [
           "hoagie rolls",
           "salt"
          ]
         ],
         "hovertemplate": "Ingredient 1=%{customdata[0]}<br>Rating=%{marker.size}<br>Score=%{y}<br>Ingredient 2=%{customdata[1]}<extra></extra>",
         "legendgroup": "hoagie rolls",
         "marker": {
          "color": "#ab63fa",
          "size": [
           4.5,
           4.5,
           4.5,
           4.5,
           4.5,
           4.5,
           4.5,
           4.5,
           4.5,
           4.5
          ],
          "sizemode": "area",
          "sizeref": 0.0125,
          "symbol": "circle"
         },
         "mode": "markers",
         "name": "hoagie rolls",
         "showlegend": true,
         "type": "scattergl",
         "x": [
          4.5,
          4.5,
          4.5,
          4.5,
          4.5,
          4.5,
          4.5,
          4.5,
          4.5,
          4.5
         ],
         "xaxis": "x",
         "y": [
          469.6,
          456.8,
          471.9,
          447.8,
          455.2,
          453.1,
          453.8,
          464.9,
          440.3,
          462.5
         ],
         "yaxis": "y"
        },
        {
         "customdata": [
          [
           "thyme leaves",
           "bell pepper"
          ],
          [
           "thyme leaves",
           "mushrooms"
          ],
          [
           "thyme leaves",
           "olive oil"
          ],
          [
           "thyme leaves",
           "soy sauce"
          ],
          [
           "thyme leaves",
           "cremini"
          ],
          [
           "thyme leaves",
           "mustard"
          ],
          [
           "thyme leaves",
           "butter"
          ],
          [
           "thyme leaves",
           "onion"
          ],
          [
           "thyme leaves",
           "salt"
          ]
         ],
         "hovertemplate": "Ingredient 1=%{customdata[0]}<br>Rating=%{marker.size}<br>Score=%{y}<br>Ingredient 2=%{customdata[1]}<extra></extra>",
         "legendgroup": "thyme leaves",
         "marker": {
          "color": "#FFA15A",
          "size": [
           4.5,
           4.5,
           4.5,
           4.5,
           4.5,
           4.5,
           4.5,
           4.5,
           4.5
          ],
          "sizemode": "area",
          "sizeref": 0.0125,
          "symbol": "circle"
         },
         "mode": "markers",
         "name": "thyme leaves",
         "showlegend": true,
         "type": "scattergl",
         "x": [
          4.5,
          4.5,
          4.5,
          4.5,
          4.5,
          4.5,
          4.5,
          4.5,
          4.5
         ],
         "xaxis": "x",
         "y": [
          449.5,
          452.7,
          451.7,
          466.6,
          467.2,
          435.8,
          465.9,
          439.7,
          437.4
         ],
         "yaxis": "y"
        },
        {
         "customdata": [
          [
           "bell pepper",
           "mushrooms"
          ],
          [
           "bell pepper",
           "olive oil"
          ],
          [
           "bell pepper",
           "soy sauce"
          ],
          [
           "bell pepper",
           "cremini"
          ],
          [
           "bell pepper",
           "mustard"
          ],
          [
           "bell pepper",
           "butter"
          ],
          [
           "bell pepper",
           "onion"
          ],
          [
           "bell pepper",
           "salt"
          ]
         ],
         "hovertemplate": "Ingredient 1=%{customdata[0]}<br>Rating=%{marker.size}<br>Score=%{y}<br>Ingredient 2=%{customdata[1]}<extra></extra>",
         "legendgroup": "bell pepper",
         "marker": {
          "color": "#19d3f3",
          "size": [
           4.5,
           4.5,
           4.5,
           4.5,
           4.5,
           4.5,
           4.5,
           4.5
          ],
          "sizemode": "area",
          "sizeref": 0.0125,
          "symbol": "circle"
         },
         "mode": "markers",
         "name": "bell pepper",
         "showlegend": true,
         "type": "scattergl",
         "x": [
          4.5,
          4.5,
          4.5,
          4.5,
          4.5,
          4.5,
          4.5,
          4.5
         ],
         "xaxis": "x",
         "y": [
          462.6,
          439.2,
          441.1,
          439.9,
          442.5,
          459.2,
          443.5,
          456.2
         ],
         "yaxis": "y"
        },
        {
         "customdata": [
          [
           "cremini",
           "mustard"
          ],
          [
           "cremini",
           "butter"
          ],
          [
           "cremini",
           "onion"
          ],
          [
           "cremini",
           "salt"
          ]
         ],
         "hovertemplate": "Ingredient 1=%{customdata[0]}<br>Rating=%{marker.size}<br>Score=%{y}<br>Ingredient 2=%{customdata[1]}<extra></extra>",
         "legendgroup": "cremini",
         "marker": {
          "color": "#FF6692",
          "size": [
           4.5,
           4.5,
           4.5,
           4.5
          ],
          "sizemode": "area",
          "sizeref": 0.0125,
          "symbol": "circle"
         },
         "mode": "markers",
         "name": "cremini",
         "showlegend": true,
         "type": "scattergl",
         "x": [
          4.5,
          4.5,
          4.5,
          4.5
         ],
         "xaxis": "x",
         "y": [
          432,
          438.9,
          458.4,
          470.1
         ],
         "yaxis": "y"
        },
        {
         "customdata": [
          [
           "natural peanut butter",
           "shredded coconut"
          ],
          [
           "natural peanut butter",
           "blueberries"
          ],
          [
           "natural peanut butter",
           "maple syrup"
          ],
          [
           "natural peanut butter",
           "chia seeds"
          ]
         ],
         "hovertemplate": "Ingredient 1=%{customdata[0]}<br>Rating=%{marker.size}<br>Score=%{y}<br>Ingredient 2=%{customdata[1]}<extra></extra>",
         "legendgroup": "natural peanut butter",
         "marker": {
          "color": "#B6E880",
          "size": [
           4.5,
           4.5,
           4.5,
           4.5
          ],
          "sizemode": "area",
          "sizeref": 0.0125,
          "symbol": "circle"
         },
         "mode": "markers",
         "name": "natural peanut butter",
         "showlegend": true,
         "type": "scattergl",
         "x": [
          4.5,
          4.5,
          4.5,
          4.5
         ],
         "xaxis": "x",
         "y": [
          449.9,
          446.9,
          442.1,
          464.5
         ],
         "yaxis": "y"
        },
        {
         "customdata": [
          [
           "shredded coconut",
           "blueberries"
          ],
          [
           "shredded coconut",
           "maple syrup"
          ],
          [
           "shredded coconut",
           "chia seeds"
          ]
         ],
         "hovertemplate": "Ingredient 1=%{customdata[0]}<br>Rating=%{marker.size}<br>Score=%{y}<br>Ingredient 2=%{customdata[1]}<extra></extra>",
         "legendgroup": "shredded coconut",
         "marker": {
          "color": "#FF97FF",
          "size": [
           4.5,
           4.5,
           4.5
          ],
          "sizemode": "area",
          "sizeref": 0.0125,
          "symbol": "circle"
         },
         "mode": "markers",
         "name": "shredded coconut",
         "showlegend": true,
         "type": "scattergl",
         "x": [
          4.5,
          4.5,
          4.5
         ],
         "xaxis": "x",
         "y": [
          458.7,
          448.1,
          454.2
         ],
         "yaxis": "y"
        },
        {
         "customdata": [
          [
           "blueberries",
           "maple syrup"
          ],
          [
           "blueberries",
           "chia seeds"
          ]
         ],
         "hovertemplate": "Ingredient 1=%{customdata[0]}<br>Rating=%{marker.size}<br>Score=%{y}<br>Ingredient 2=%{customdata[1]}<extra></extra>",
         "legendgroup": "blueberries",
         "marker": {
          "color": "#FECB52",
          "size": [
           4.5,
           4.5
          ],
          "sizemode": "area",
          "sizeref": 0.0125,
          "symbol": "circle"
         },
         "mode": "markers",
         "name": "blueberries",
         "showlegend": true,
         "type": "scattergl",
         "x": [
          4.5,
          4.5
         ],
         "xaxis": "x",
         "y": [
          460.1,
          459.2
         ],
         "yaxis": "y"
        },
        {
         "customdata": [
          [
           "maple syrup",
           "chia seeds"
          ]
         ],
         "hovertemplate": "Ingredient 1=%{customdata[0]}<br>Rating=%{marker.size}<br>Score=%{y}<br>Ingredient 2=%{customdata[1]}<extra></extra>",
         "legendgroup": "maple syrup",
         "marker": {
          "color": "#636efa",
          "size": [
           4.5
          ],
          "sizemode": "area",
          "sizeref": 0.0125,
          "symbol": "circle"
         },
         "mode": "markers",
         "name": "maple syrup",
         "showlegend": true,
         "type": "scattergl",
         "x": [
          4.5
         ],
         "xaxis": "x",
         "y": [
          456.1
         ],
         "yaxis": "y"
        },
        {
         "customdata": [
          [
           "shiitake mushroom caps",
           "toasted sesame seeds"
          ],
          [
           "shiitake mushroom caps",
           "ground black pepper"
          ],
          [
           "shiitake mushroom caps",
           "cilantro leaves"
          ],
          [
           "shiitake mushroom caps",
           "dark sesame oil"
          ],
          [
           "shiitake mushroom caps",
           "napa cabbage"
          ],
          [
           "shiitake mushroom caps",
           "soy sauce"
          ]
         ],
         "hovertemplate": "Ingredient 1=%{customdata[0]}<br>Rating=%{marker.size}<br>Score=%{y}<br>Ingredient 2=%{customdata[1]}<extra></extra>",
         "legendgroup": "shiitake mushroom caps",
         "marker": {
          "color": "#EF553B",
          "size": [
           3.7,
           3.7,
           3.7,
           3.7,
           3.7,
           3.7
          ],
          "sizemode": "area",
          "sizeref": 0.0125,
          "symbol": "circle"
         },
         "mode": "markers",
         "name": "shiitake mushroom caps",
         "showlegend": true,
         "type": "scattergl",
         "x": [
          3.7,
          3.7,
          3.7,
          3.7,
          3.7,
          3.7
         ],
         "xaxis": "x",
         "y": [
          364.5,
          373.5,
          370.4,
          380.8,
          381.8,
          357.4
         ],
         "yaxis": "y"
        },
        {
         "customdata": [
          [
           "toasted sesame seeds",
           "ground black pepper"
          ],
          [
           "toasted sesame seeds",
           "cilantro leaves"
          ],
          [
           "toasted sesame seeds",
           "dark sesame oil"
          ],
          [
           "toasted sesame seeds",
           "napa cabbage"
          ],
          [
           "toasted sesame seeds",
           "soy sauce"
          ]
         ],
         "hovertemplate": "Ingredient 1=%{customdata[0]}<br>Rating=%{marker.size}<br>Score=%{y}<br>Ingredient 2=%{customdata[1]}<extra></extra>",
         "legendgroup": "toasted sesame seeds",
         "marker": {
          "color": "#00cc96",
          "size": [
           3.7,
           3.7,
           3.7,
           3.7,
           3.7
          ],
          "sizemode": "area",
          "sizeref": 0.0125,
          "symbol": "circle"
         },
         "mode": "markers",
         "name": "toasted sesame seeds",
         "showlegend": true,
         "type": "scattergl",
         "x": [
          3.7,
          3.7,
          3.7,
          3.7,
          3.7
         ],
         "xaxis": "x",
         "y": [
          385.7,
          384.9,
          388.2,
          374.9,
          384.3
         ],
         "yaxis": "y"
        },
        {
         "customdata": [
          [
           "cilantro leaves",
           "dark sesame oil"
          ],
          [
           "cilantro leaves",
           "napa cabbage"
          ],
          [
           "cilantro leaves",
           "soy sauce"
          ]
         ],
         "hovertemplate": "Ingredient 1=%{customdata[0]}<br>Rating=%{marker.size}<br>Score=%{y}<br>Ingredient 2=%{customdata[1]}<extra></extra>",
         "legendgroup": "cilantro leaves",
         "marker": {
          "color": "#ab63fa",
          "size": [
           3.7,
           3.7,
           3.7
          ],
          "sizemode": "area",
          "sizeref": 0.0125,
          "symbol": "circle"
         },
         "mode": "markers",
         "name": "cilantro leaves",
         "showlegend": true,
         "type": "scattergl",
         "x": [
          3.7,
          3.7,
          3.7
         ],
         "xaxis": "x",
         "y": [
          384.2,
          375.9,
          367.9
         ],
         "yaxis": "y"
        },
        {
         "customdata": [
          [
           "dark sesame oil",
           "napa cabbage"
          ],
          [
           "dark sesame oil",
           "soy sauce"
          ]
         ],
         "hovertemplate": "Ingredient 1=%{customdata[0]}<br>Rating=%{marker.size}<br>Score=%{y}<br>Ingredient 2=%{customdata[1]}<extra></extra>",
         "legendgroup": "dark sesame oil",
         "marker": {
          "color": "#FFA15A",
          "size": [
           3.7,
           3.7
          ],
          "sizemode": "area",
          "sizeref": 0.0125,
          "symbol": "circle"
         },
         "mode": "markers",
         "name": "dark sesame oil",
         "showlegend": true,
         "type": "scattergl",
         "x": [
          3.7,
          3.7
         ],
         "xaxis": "x",
         "y": [
          371.5,
          391
         ],
         "yaxis": "y"
        },
        {
         "customdata": [
          [
           "napa cabbage",
           "soy sauce"
          ]
         ],
         "hovertemplate": "Ingredient 1=%{customdata[0]}<br>Rating=%{marker.size}<br>Score=%{y}<br>Ingredient 2=%{customdata[1]}<extra></extra>",
         "legendgroup": "napa cabbage",
         "marker": {
          "color": "#19d3f3",
          "size": [
           3.7
          ],
          "sizemode": "area",
          "sizeref": 0.0125,
          "symbol": "circle"
         },
         "mode": "markers",
         "name": "napa cabbage",
         "showlegend": true,
         "type": "scattergl",
         "x": [
          3.7
         ],
         "xaxis": "x",
         "y": [
          387.6
         ],
         "yaxis": "y"
        },
        {
         "customdata": [
          [
           "ground white pepper",
           "all-purpose flour"
          ],
          [
           "ground white pepper",
           "roasted cashews"
          ],
          [
           "ground white pepper",
           "cooked chicken"
          ],
          [
           "ground white pepper",
           "baby broccoli"
          ],
          [
           "ground white pepper",
           "chicken broth"
          ],
          [
           "ground white pepper",
           "jasmine rice"
          ],
          [
           "ground white pepper",
           "tarragon"
          ],
          [
           "ground white pepper",
           "butter"
          ],
          [
           "ground white pepper",
           "salt"
          ]
         ],
         "hovertemplate": "Ingredient 1=%{customdata[0]}<br>Rating=%{marker.size}<br>Score=%{y}<br>Ingredient 2=%{customdata[1]}<extra></extra>",
         "legendgroup": "ground white pepper",
         "marker": {
          "color": "#FF6692",
          "size": [
           3.5,
           3.5,
           3.5,
           3.5,
           3.5,
           3.5,
           3.5,
           3.5,
           3.5
          ],
          "sizemode": "area",
          "sizeref": 0.0125,
          "symbol": "circle"
         },
         "mode": "markers",
         "name": "ground white pepper",
         "showlegend": true,
         "type": "scattergl",
         "x": [
          3.5,
          3.5,
          3.5,
          3.5,
          3.5,
          3.5,
          3.5,
          3.5,
          3.5
         ],
         "xaxis": "x",
         "y": [
          340.3,
          344.7,
          346,
          365.7,
          371,
          347.2,
          349.1,
          344.8,
          362.4
         ],
         "yaxis": "y"
        },
        {
         "customdata": [
          [
           "roasted cashews",
           "cooked chicken"
          ],
          [
           "roasted cashews",
           "baby broccoli"
          ],
          [
           "roasted cashews",
           "chicken broth"
          ],
          [
           "roasted cashews",
           "jasmine rice"
          ],
          [
           "roasted cashews",
           "tarragon"
          ],
          [
           "roasted cashews",
           "butter"
          ],
          [
           "roasted cashews",
           "salt"
          ]
         ],
         "hovertemplate": "Ingredient 1=%{customdata[0]}<br>Rating=%{marker.size}<br>Score=%{y}<br>Ingredient 2=%{customdata[1]}<extra></extra>",
         "legendgroup": "roasted cashews",
         "marker": {
          "color": "#B6E880",
          "size": [
           3.5,
           3.5,
           3.5,
           3.5,
           3.5,
           3.5,
           3.5
          ],
          "sizemode": "area",
          "sizeref": 0.0125,
          "symbol": "circle"
         },
         "mode": "markers",
         "name": "roasted cashews",
         "showlegend": true,
         "type": "scattergl",
         "x": [
          3.5,
          3.5,
          3.5,
          3.5,
          3.5,
          3.5,
          3.5
         ],
         "xaxis": "x",
         "y": [
          340.3,
          364.7,
          357.3,
          349.1,
          333.6,
          367,
          336.6
         ],
         "yaxis": "y"
        },
        {
         "customdata": [
          [
           "cooked chicken",
           "baby broccoli"
          ],
          [
           "cooked chicken",
           "chicken broth"
          ],
          [
           "cooked chicken",
           "jasmine rice"
          ],
          [
           "cooked chicken",
           "tarragon"
          ],
          [
           "cooked chicken",
           "butter"
          ],
          [
           "cooked chicken",
           "salt"
          ]
         ],
         "hovertemplate": "Ingredient 1=%{customdata[0]}<br>Rating=%{marker.size}<br>Score=%{y}<br>Ingredient 2=%{customdata[1]}<extra></extra>",
         "legendgroup": "cooked chicken",
         "marker": {
          "color": "#FF97FF",
          "size": [
           3.5,
           3.5,
           3.5,
           3.5,
           3.5,
           3.5
          ],
          "sizemode": "area",
          "sizeref": 0.0125,
          "symbol": "circle"
         },
         "mode": "markers",
         "name": "cooked chicken",
         "showlegend": true,
         "type": "scattergl",
         "x": [
          3.5,
          3.5,
          3.5,
          3.5,
          3.5,
          3.5
         ],
         "xaxis": "x",
         "y": [
          340,
          337.6,
          357.7,
          364.7,
          333.2,
          367.9
         ],
         "yaxis": "y"
        },
        {
         "customdata": [
          [
           "baby broccoli",
           "chicken broth"
          ],
          [
           "baby broccoli",
           "jasmine rice"
          ],
          [
           "baby broccoli",
           "tarragon"
          ],
          [
           "baby broccoli",
           "butter"
          ],
          [
           "baby broccoli",
           "salt"
          ]
         ],
         "hovertemplate": "Ingredient 1=%{customdata[0]}<br>Rating=%{marker.size}<br>Score=%{y}<br>Ingredient 2=%{customdata[1]}<extra></extra>",
         "legendgroup": "baby broccoli",
         "marker": {
          "color": "#FECB52",
          "size": [
           3.5,
           3.5,
           3.5,
           3.5,
           3.5
          ],
          "sizemode": "area",
          "sizeref": 0.0125,
          "symbol": "circle"
         },
         "mode": "markers",
         "name": "baby broccoli",
         "showlegend": true,
         "type": "scattergl",
         "x": [
          3.5,
          3.5,
          3.5,
          3.5,
          3.5
         ],
         "xaxis": "x",
         "y": [
          367.9,
          348.1,
          344.1,
          361.8,
          334.6
         ],
         "yaxis": "y"
        },
        {
         "customdata": [
          [
           "jasmine rice",
           "tarragon"
          ],
          [
           "jasmine rice",
           "butter"
          ],
          [
           "jasmine rice",
           "salt"
          ],
          [
           "jasmine rice",
           "tomato sauce"
          ],
          [
           "jasmine rice",
           "medium salsa"
          ],
          [
           "jasmine rice",
           "garlic salt"
          ],
          [
           "jasmine rice",
           "lime juice"
          ],
          [
           "jasmine rice",
           "olive oil"
          ],
          [
           "jasmine rice",
           "water"
          ]
         ],
         "hovertemplate": "Ingredient 1=%{customdata[0]}<br>Rating=%{marker.size}<br>Score=%{y}<br>Ingredient 2=%{customdata[1]}<extra></extra>",
         "legendgroup": "jasmine rice",
         "marker": {
          "color": "#636efa",
          "size": [
           3.5,
           3.5,
           3.5,
           4.6,
           4.6,
           4.6,
           4.6,
           4.6,
           4.6
          ],
          "sizemode": "area",
          "sizeref": 0.0125,
          "symbol": "circle"
         },
         "mode": "markers",
         "name": "jasmine rice",
         "showlegend": true,
         "type": "scattergl",
         "x": [
          3.5,
          3.5,
          3.5,
          4.6,
          4.6,
          4.6,
          4.6,
          4.6,
          4.6
         ],
         "xaxis": "x",
         "y": [
          352.1,
          343.2,
          351.3,
          489.29999999999995,
          487.3999999999999,
          501.19999999999993,
          478.59999999999997,
          473.99999999999994,
          482.3999999999999
         ],
         "yaxis": "y"
        },
        {
         "customdata": [
          [
           "tarragon",
           "butter"
          ],
          [
           "tarragon",
           "salt"
          ]
         ],
         "hovertemplate": "Ingredient 1=%{customdata[0]}<br>Rating=%{marker.size}<br>Score=%{y}<br>Ingredient 2=%{customdata[1]}<extra></extra>",
         "legendgroup": "tarragon",
         "marker": {
          "color": "#EF553B",
          "size": [
           3.5,
           3.5
          ],
          "sizemode": "area",
          "sizeref": 0.0125,
          "symbol": "circle"
         },
         "mode": "markers",
         "name": "tarragon",
         "showlegend": true,
         "type": "scattergl",
         "x": [
          3.5,
          3.5
         ],
         "xaxis": "x",
         "y": [
          356.9,
          365.6
         ],
         "yaxis": "y"
        },
        {
         "customdata": [
          [
           "peach pie filling",
           "yellow cake mix"
          ],
          [
           "peach pie filling",
           "butter"
          ],
          [
           "peach pie filling",
           "pecans"
          ]
         ],
         "hovertemplate": "Ingredient 1=%{customdata[0]}<br>Rating=%{marker.size}<br>Score=%{y}<br>Ingredient 2=%{customdata[1]}<extra></extra>",
         "legendgroup": "peach pie filling",
         "marker": {
          "color": "#00cc96",
          "size": [
           5,
           5,
           5
          ],
          "sizemode": "area",
          "sizeref": 0.0125,
          "symbol": "circle"
         },
         "mode": "markers",
         "name": "peach pie filling",
         "showlegend": true,
         "type": "scattergl",
         "x": [
          5,
          5,
          5
         ],
         "xaxis": "x",
         "y": [
          496.7,
          522.9,
          501.2
         ],
         "yaxis": "y"
        },
        {
         "customdata": [
          [
           "yellow cake mix",
           "butter"
          ],
          [
           "yellow cake mix",
           "pecans"
          ]
         ],
         "hovertemplate": "Ingredient 1=%{customdata[0]}<br>Rating=%{marker.size}<br>Score=%{y}<br>Ingredient 2=%{customdata[1]}<extra></extra>",
         "legendgroup": "yellow cake mix",
         "marker": {
          "color": "#ab63fa",
          "size": [
           5,
           5
          ],
          "sizemode": "area",
          "sizeref": 0.0125,
          "symbol": "circle"
         },
         "mode": "markers",
         "name": "yellow cake mix",
         "showlegend": true,
         "type": "scattergl",
         "x": [
          5,
          5
         ],
         "xaxis": "x",
         "y": [
          514.9,
          499.2
         ],
         "yaxis": "y"
        },
        {
         "customdata": [
          [
           "vegetable broth",
           "smoked paprika"
          ],
          [
           "vegetable broth",
           "chipotle chile"
          ],
          [
           "vegetable broth",
           "dried oregano"
          ],
          [
           "vegetable broth",
           "vegetable oil"
          ],
          [
           "vegetable broth",
           "cider vinegar"
          ],
          [
           "vegetable broth",
           "ground cumin"
          ],
          [
           "vegetable broth",
           "chile pepper"
          ],
          [
           "vegetable broth",
           "kosher salt"
          ],
          [
           "vegetable broth",
           "annatto"
          ],
          [
           "vegetable broth",
           "achiote"
          ],
          [
           "vegetable broth",
           "quinoa"
          ],
          [
           "vegetable broth",
           "garlic"
          ],
          [
           "vegetable broth",
           "onion"
          ]
         ],
         "hovertemplate": "Ingredient 1=%{customdata[0]}<br>Rating=%{marker.size}<br>Score=%{y}<br>Ingredient 2=%{customdata[1]}<extra></extra>",
         "legendgroup": "vegetable broth",
         "marker": {
          "color": "#FFA15A",
          "size": [
           4,
           4,
           4,
           4,
           4,
           4,
           4,
           4,
           4,
           4,
           4,
           4,
           4
          ],
          "sizemode": "area",
          "sizeref": 0.0125,
          "symbol": "circle"
         },
         "mode": "markers",
         "name": "vegetable broth",
         "showlegend": true,
         "type": "scattergl",
         "x": [
          4,
          4,
          4,
          4,
          4,
          4,
          4,
          4,
          4,
          4,
          4,
          4,
          4
         ],
         "xaxis": "x",
         "y": [
          419.9,
          394.3,
          392.8,
          414,
          414.3,
          382.8,
          391.7,
          387.5,
          388.7,
          396.1,
          401.7,
          392.8,
          411.9
         ],
         "yaxis": "y"
        },
        {
         "customdata": [
          [
           "smoked paprika",
           "chipotle chile"
          ],
          [
           "smoked paprika",
           "dried oregano"
          ],
          [
           "smoked paprika",
           "vegetable oil"
          ],
          [
           "smoked paprika",
           "cider vinegar"
          ],
          [
           "smoked paprika",
           "ground cumin"
          ],
          [
           "smoked paprika",
           "chile pepper"
          ],
          [
           "smoked paprika",
           "kosher salt"
          ],
          [
           "smoked paprika",
           "annatto"
          ],
          [
           "smoked paprika",
           "achiote"
          ],
          [
           "smoked paprika",
           "quinoa"
          ],
          [
           "smoked paprika",
           "garlic"
          ],
          [
           "smoked paprika",
           "onion"
          ]
         ],
         "hovertemplate": "Ingredient 1=%{customdata[0]}<br>Rating=%{marker.size}<br>Score=%{y}<br>Ingredient 2=%{customdata[1]}<extra></extra>",
         "legendgroup": "smoked paprika",
         "marker": {
          "color": "#19d3f3",
          "size": [
           4,
           4,
           4,
           4,
           4,
           4,
           4,
           4,
           4,
           4,
           4,
           4
          ],
          "sizemode": "area",
          "sizeref": 0.0125,
          "symbol": "circle"
         },
         "mode": "markers",
         "name": "smoked paprika",
         "showlegend": true,
         "type": "scattergl",
         "x": [
          4,
          4,
          4,
          4,
          4,
          4,
          4,
          4,
          4,
          4,
          4,
          4
         ],
         "xaxis": "x",
         "y": [
          397.4,
          402.3,
          413.7,
          398.7,
          417.8,
          416.8,
          393.5,
          383.3,
          401.2,
          396.1,
          395,
          403.6
         ],
         "yaxis": "y"
        },
        {
         "customdata": [
          [
           "chipotle chile",
           "dried oregano"
          ],
          [
           "chipotle chile",
           "vegetable oil"
          ],
          [
           "chipotle chile",
           "cider vinegar"
          ],
          [
           "chipotle chile",
           "ground cumin"
          ],
          [
           "chipotle chile",
           "chile pepper"
          ],
          [
           "chipotle chile",
           "kosher salt"
          ],
          [
           "chipotle chile",
           "annatto"
          ],
          [
           "chipotle chile",
           "achiote"
          ],
          [
           "chipotle chile",
           "quinoa"
          ],
          [
           "chipotle chile",
           "garlic"
          ],
          [
           "chipotle chile",
           "onion"
          ],
          [
           "chipotle chile",
           "vegetable oil"
          ],
          [
           "chipotle chile",
           "serrano chile"
          ],
          [
           "chipotle chile",
           "clove garlic"
          ],
          [
           "chipotle chile",
           "chile pepper"
          ],
          [
           "chipotle chile",
           "adobo sauce"
          ],
          [
           "chipotle chile",
           "olive oil"
          ],
          [
           "chipotle chile",
           "onion"
          ]
         ],
         "hovertemplate": "Ingredient 1=%{customdata[0]}<br>Rating=%{marker.size}<br>Score=%{y}<br>Ingredient 2=%{customdata[1]}<extra></extra>",
         "legendgroup": "chipotle chile",
         "marker": {
          "color": "#FF6692",
          "size": [
           4,
           4,
           4,
           4,
           4,
           4,
           4,
           4,
           4,
           4,
           4,
           5,
           5,
           5,
           5,
           5,
           5,
           5
          ],
          "sizemode": "area",
          "sizeref": 0.0125,
          "symbol": "circle"
         },
         "mode": "markers",
         "name": "chipotle chile",
         "showlegend": true,
         "type": "scattergl",
         "x": [
          4,
          4,
          4,
          4,
          4,
          4,
          4,
          4,
          4,
          4,
          4,
          5,
          5,
          5,
          5,
          5,
          5,
          5
         ],
         "xaxis": "x",
         "y": [
          404.3,
          395.2,
          416.3,
          416.7,
          406.5,
          404.1,
          409.7,
          392.8,
          399.5,
          398.3,
          383.7,
          489,
          507.3,
          518.7,
          525.3,
          510.1,
          490.6,
          503.4
         ],
         "yaxis": "y"
        },
        {
         "customdata": [
          [
           "dried oregano",
           "vegetable oil"
          ],
          [
           "dried oregano",
           "cider vinegar"
          ],
          [
           "dried oregano",
           "ground cumin"
          ],
          [
           "dried oregano",
           "chile pepper"
          ],
          [
           "dried oregano",
           "kosher salt"
          ],
          [
           "dried oregano",
           "annatto"
          ],
          [
           "dried oregano",
           "achiote"
          ],
          [
           "dried oregano",
           "quinoa"
          ],
          [
           "dried oregano",
           "garlic"
          ],
          [
           "dried oregano",
           "onion"
          ]
         ],
         "hovertemplate": "Ingredient 1=%{customdata[0]}<br>Rating=%{marker.size}<br>Score=%{y}<br>Ingredient 2=%{customdata[1]}<extra></extra>",
         "legendgroup": "dried oregano",
         "marker": {
          "color": "#B6E880",
          "size": [
           4,
           4,
           4,
           4,
           4,
           4,
           4,
           4,
           4,
           4
          ],
          "sizemode": "area",
          "sizeref": 0.0125,
          "symbol": "circle"
         },
         "mode": "markers",
         "name": "dried oregano",
         "showlegend": true,
         "type": "scattergl",
         "x": [
          4,
          4,
          4,
          4,
          4,
          4,
          4,
          4,
          4,
          4
         ],
         "xaxis": "x",
         "y": [
          402.2,
          398.5,
          382.7,
          398.3,
          393.1,
          406,
          403.7,
          406.7,
          392.7,
          412.2
         ],
         "yaxis": "y"
        },
        {
         "customdata": [
          [
           "cider vinegar",
           "ground cumin"
          ],
          [
           "cider vinegar",
           "chile pepper"
          ],
          [
           "cider vinegar",
           "kosher salt"
          ],
          [
           "cider vinegar",
           "annatto"
          ],
          [
           "cider vinegar",
           "achiote"
          ],
          [
           "cider vinegar",
           "quinoa"
          ],
          [
           "cider vinegar",
           "garlic"
          ],
          [
           "cider vinegar",
           "onion"
          ]
         ],
         "hovertemplate": "Ingredient 1=%{customdata[0]}<br>Rating=%{marker.size}<br>Score=%{y}<br>Ingredient 2=%{customdata[1]}<extra></extra>",
         "legendgroup": "cider vinegar",
         "marker": {
          "color": "#FF97FF",
          "size": [
           4,
           4,
           4,
           4,
           4,
           4,
           4,
           4
          ],
          "sizemode": "area",
          "sizeref": 0.0125,
          "symbol": "circle"
         },
         "mode": "markers",
         "name": "cider vinegar",
         "showlegend": true,
         "type": "scattergl",
         "x": [
          4,
          4,
          4,
          4,
          4,
          4,
          4,
          4
         ],
         "xaxis": "x",
         "y": [
          384.8,
          411.7,
          385.6,
          407.6,
          418.4,
          420.5,
          395.1,
          403.7
         ],
         "yaxis": "y"
        },
        {
         "customdata": [
          [
           "chile pepper",
           "kosher salt"
          ],
          [
           "chile pepper",
           "annatto"
          ],
          [
           "chile pepper",
           "achiote"
          ],
          [
           "chile pepper",
           "quinoa"
          ],
          [
           "chile pepper",
           "garlic"
          ],
          [
           "chile pepper",
           "onion"
          ],
          [
           "chile pepper",
           "adobo sauce"
          ],
          [
           "chile pepper",
           "olive oil"
          ],
          [
           "chile pepper",
           "onion"
          ]
         ],
         "hovertemplate": "Ingredient 1=%{customdata[0]}<br>Rating=%{marker.size}<br>Score=%{y}<br>Ingredient 2=%{customdata[1]}<extra></extra>",
         "legendgroup": "chile pepper",
         "marker": {
          "color": "#FECB52",
          "size": [
           4,
           4,
           4,
           4,
           4,
           4,
           5,
           5,
           5
          ],
          "sizemode": "area",
          "sizeref": 0.0125,
          "symbol": "circle"
         },
         "mode": "markers",
         "name": "chile pepper",
         "showlegend": true,
         "type": "scattergl",
         "x": [
          4,
          4,
          4,
          4,
          4,
          4,
          5,
          5,
          5
         ],
         "xaxis": "x",
         "y": [
          418.3,
          405.3,
          400.2,
          395.7,
          387.8,
          408.8,
          506,
          520.3,
          489.7
         ],
         "yaxis": "y"
        },
        {
         "customdata": [
          [
           "annatto",
           "achiote"
          ],
          [
           "annatto",
           "quinoa"
          ],
          [
           "annatto",
           "garlic"
          ],
          [
           "annatto",
           "onion"
          ]
         ],
         "hovertemplate": "Ingredient 1=%{customdata[0]}<br>Rating=%{marker.size}<br>Score=%{y}<br>Ingredient 2=%{customdata[1]}<extra></extra>",
         "legendgroup": "annatto",
         "marker": {
          "color": "#636efa",
          "size": [
           4,
           4,
           4,
           4
          ],
          "sizemode": "area",
          "sizeref": 0.0125,
          "symbol": "circle"
         },
         "mode": "markers",
         "name": "annatto",
         "showlegend": true,
         "type": "scattergl",
         "x": [
          4,
          4,
          4,
          4
         ],
         "xaxis": "x",
         "y": [
          415,
          397,
          386.7,
          389.6
         ],
         "yaxis": "y"
        },
        {
         "customdata": [
          [
           "achiote",
           "quinoa"
          ],
          [
           "achiote",
           "garlic"
          ],
          [
           "achiote",
           "onion"
          ]
         ],
         "hovertemplate": "Ingredient 1=%{customdata[0]}<br>Rating=%{marker.size}<br>Score=%{y}<br>Ingredient 2=%{customdata[1]}<extra></extra>",
         "legendgroup": "achiote",
         "marker": {
          "color": "#EF553B",
          "size": [
           4,
           4,
           4
          ],
          "sizemode": "area",
          "sizeref": 0.0125,
          "symbol": "circle"
         },
         "mode": "markers",
         "name": "achiote",
         "showlegend": true,
         "type": "scattergl",
         "x": [
          4,
          4,
          4
         ],
         "xaxis": "x",
         "y": [
          412.4,
          414.6,
          393.3
         ],
         "yaxis": "y"
        },
        {
         "customdata": [
          [
           "quinoa",
           "garlic"
          ],
          [
           "quinoa",
           "onion"
          ]
         ],
         "hovertemplate": "Ingredient 1=%{customdata[0]}<br>Rating=%{marker.size}<br>Score=%{y}<br>Ingredient 2=%{customdata[1]}<extra></extra>",
         "legendgroup": "quinoa",
         "marker": {
          "color": "#00cc96",
          "size": [
           4,
           4
          ],
          "sizemode": "area",
          "sizeref": 0.0125,
          "symbol": "circle"
         },
         "mode": "markers",
         "name": "quinoa",
         "showlegend": true,
         "type": "scattergl",
         "x": [
          4,
          4
         ],
         "xaxis": "x",
         "y": [
          394.1,
          383.4
         ],
         "yaxis": "y"
        },
        {
         "customdata": [
          [
           "sweet corn",
           "cilantro"
          ],
          [
           "sweet corn",
           "onion"
          ],
          [
           "sweet corn",
           "lime"
          ],
          [
           "sweet corn",
           "red"
          ]
         ],
         "hovertemplate": "Ingredient 1=%{customdata[0]}<br>Rating=%{marker.size}<br>Score=%{y}<br>Ingredient 2=%{customdata[1]}<extra></extra>",
         "legendgroup": "sweet corn",
         "marker": {
          "color": "#ab63fa",
          "size": [
           4,
           4,
           4,
           4
          ],
          "sizemode": "area",
          "sizeref": 0.0125,
          "symbol": "circle"
         },
         "mode": "markers",
         "name": "sweet corn",
         "showlegend": true,
         "type": "scattergl",
         "x": [
          4,
          4,
          4,
          4
         ],
         "xaxis": "x",
         "y": [
          383.9,
          394.1,
          385.5,
          412.4
         ],
         "yaxis": "y"
        },
        {
         "customdata": [
          [
           "cilantro",
           "onion"
          ],
          [
           "cilantro",
           "lime"
          ],
          [
           "cilantro",
           "red"
          ],
          [
           "cilantro",
           "garlic"
          ],
          [
           "cilantro",
           "pepper"
          ],
          [
           "cilantro",
           "lime"
          ],
          [
           "cilantro",
           "salt"
          ],
          [
           "cilantro",
           "avocado"
          ],
          [
           "cilantro",
           "lime"
          ],
          [
           "cilantro",
           "salsa"
          ],
          [
           "cilantro",
           "eggs"
          ],
          [
           "cilantro",
           "lime"
          ]
         ],
         "hovertemplate": "Ingredient 1=%{customdata[0]}<br>Rating=%{marker.size}<br>Score=%{y}<br>Ingredient 2=%{customdata[1]}<extra></extra>",
         "legendgroup": "cilantro",
         "marker": {
          "color": "#FFA15A",
          "size": [
           4,
           4,
           4,
           4.5,
           4.5,
           4.5,
           4.5,
           5,
           5,
           4.5,
           4.5,
           4.5
          ],
          "sizemode": "area",
          "sizeref": 0.0125,
          "symbol": "circle"
         },
         "mode": "markers",
         "name": "cilantro",
         "showlegend": true,
         "type": "scattergl",
         "x": [
          4,
          4,
          4,
          4.5,
          4.5,
          4.5,
          4.5,
          5,
          5,
          4.5,
          4.5,
          4.5
         ],
         "xaxis": "x",
         "y": [
          387.6,
          403.2,
          414.1,
          460.9,
          435.6,
          455.8,
          448.3,
          517.3,
          488.2,
          444.4,
          436.5,
          451.3
         ],
         "yaxis": "y"
        },
        {
         "customdata": [
          [
           "Mexican cheese blend",
           "ground black pepper"
          ],
          [
           "Mexican cheese blend",
           "boneless chicken"
          ],
          [
           "Mexican cheese blend",
           "chicken breasts"
          ],
          [
           "Mexican cheese blend",
           "jasmine rice"
          ],
          [
           "Mexican cheese blend",
           "tomato sauce"
          ],
          [
           "Mexican cheese blend",
           "medium salsa"
          ],
          [
           "Mexican cheese blend",
           "garlic salt"
          ],
          [
           "Mexican cheese blend",
           "lime juice"
          ],
          [
           "Mexican cheese blend",
           "olive oil"
          ],
          [
           "Mexican cheese blend",
           "water"
          ],
          [
           "Mexican cheese blend",
           "ground black pepper"
          ],
          [
           "Mexican cheese blend",
           "flour tortillas"
          ],
          [
           "Mexican cheese blend",
           "garlic powder"
          ],
          [
           "Mexican cheese blend",
           "vegetable oil"
          ],
          [
           "Mexican cheese blend",
           "pico de gallo"
          ],
          [
           "Mexican cheese blend",
           "chili powder"
          ],
          [
           "Mexican cheese blend",
           "black beans"
          ],
          [
           "Mexican cheese blend",
           "sour cream"
          ],
          [
           "Mexican cheese blend",
           "cilantro"
          ],
          [
           "Mexican cheese blend",
           "salsa"
          ],
          [
           "Mexican cheese blend",
           "eggs"
          ],
          [
           "Mexican cheese blend",
           "lime"
          ]
         ],
         "hovertemplate": "Ingredient 1=%{customdata[0]}<br>Rating=%{marker.size}<br>Score=%{y}<br>Ingredient 2=%{customdata[1]}<extra></extra>",
         "legendgroup": "Mexican cheese blend",
         "marker": {
          "color": "#19d3f3",
          "size": [
           4.6,
           4.6,
           4.6,
           4.6,
           4.6,
           4.6,
           4.6,
           4.6,
           4.6,
           4.6,
           4.5,
           4.5,
           4.5,
           4.5,
           4.5,
           4.5,
           4.5,
           4.5,
           4.5,
           4.5,
           4.5,
           4.5
          ],
          "sizemode": "area",
          "sizeref": 0.0125,
          "symbol": "circle"
         },
         "mode": "markers",
         "name": "Mexican cheese blend",
         "showlegend": true,
         "type": "scattergl",
         "x": [
          4.6,
          4.6,
          4.6,
          4.6,
          4.6,
          4.6,
          4.6,
          4.6,
          4.6,
          4.6,
          4.5,
          4.5,
          4.5,
          4.5,
          4.5,
          4.5,
          4.5,
          4.5,
          4.5,
          4.5,
          4.5,
          4.5
         ],
         "xaxis": "x",
         "y": [
          471.3999999999999,
          469.09999999999997,
          479.99999999999994,
          478.69999999999993,
          493.29999999999995,
          484.99999999999994,
          465.49999999999994,
          469.79999999999995,
          478.49999999999994,
          477.3999999999999,
          460.7,
          467.8,
          451.2,
          439.2,
          465.3,
          467.1,
          453.6,
          465.8,
          463.5,
          450.3,
          465,
          456.8
         ],
         "yaxis": "y"
        },
        {
         "customdata": [
          [
           "boneless chicken",
           "chicken breasts"
          ],
          [
           "boneless chicken",
           "jasmine rice"
          ],
          [
           "boneless chicken",
           "tomato sauce"
          ],
          [
           "boneless chicken",
           "medium salsa"
          ],
          [
           "boneless chicken",
           "garlic salt"
          ],
          [
           "boneless chicken",
           "lime juice"
          ],
          [
           "boneless chicken",
           "olive oil"
          ],
          [
           "boneless chicken",
           "water"
          ]
         ],
         "hovertemplate": "Ingredient 1=%{customdata[0]}<br>Rating=%{marker.size}<br>Score=%{y}<br>Ingredient 2=%{customdata[1]}<extra></extra>",
         "legendgroup": "boneless chicken",
         "marker": {
          "color": "#FF6692",
          "size": [
           4.6,
           4.6,
           4.6,
           4.6,
           4.6,
           4.6,
           4.6,
           4.6
          ],
          "sizemode": "area",
          "sizeref": 0.0125,
          "symbol": "circle"
         },
         "mode": "markers",
         "name": "boneless chicken",
         "showlegend": true,
         "type": "scattergl",
         "x": [
          4.6,
          4.6,
          4.6,
          4.6,
          4.6,
          4.6,
          4.6,
          4.6
         ],
         "xaxis": "x",
         "y": [
          467.3999999999999,
          484.49999999999994,
          501.79999999999995,
          491.19999999999993,
          473.3999999999999,
          483.79999999999995,
          465.29999999999995,
          496.09999999999997
         ],
         "yaxis": "y"
        },
        {
         "customdata": [
          [
           "chicken breasts",
           "jasmine rice"
          ],
          [
           "chicken breasts",
           "tomato sauce"
          ],
          [
           "chicken breasts",
           "medium salsa"
          ],
          [
           "chicken breasts",
           "garlic salt"
          ],
          [
           "chicken breasts",
           "lime juice"
          ],
          [
           "chicken breasts",
           "olive oil"
          ],
          [
           "chicken breasts",
           "water"
          ]
         ],
         "hovertemplate": "Ingredient 1=%{customdata[0]}<br>Rating=%{marker.size}<br>Score=%{y}<br>Ingredient 2=%{customdata[1]}<extra></extra>",
         "legendgroup": "chicken breasts",
         "marker": {
          "color": "#B6E880",
          "size": [
           4.6,
           4.6,
           4.6,
           4.6,
           4.6,
           4.6,
           4.6
          ],
          "sizemode": "area",
          "sizeref": 0.0125,
          "symbol": "circle"
         },
         "mode": "markers",
         "name": "chicken breasts",
         "showlegend": true,
         "type": "scattergl",
         "x": [
          4.6,
          4.6,
          4.6,
          4.6,
          4.6,
          4.6,
          4.6
         ],
         "xaxis": "x",
         "y": [
          496.69999999999993,
          472.09999999999997,
          486.19999999999993,
          494.29999999999995,
          483.8999999999999,
          504.79999999999995,
          490.79999999999995
         ],
         "yaxis": "y"
        },
        {
         "customdata": [
          [
           "tomato sauce",
           "medium salsa"
          ],
          [
           "tomato sauce",
           "garlic salt"
          ],
          [
           "tomato sauce",
           "lime juice"
          ],
          [
           "tomato sauce",
           "olive oil"
          ],
          [
           "tomato sauce",
           "water"
          ]
         ],
         "hovertemplate": "Ingredient 1=%{customdata[0]}<br>Rating=%{marker.size}<br>Score=%{y}<br>Ingredient 2=%{customdata[1]}<extra></extra>",
         "legendgroup": "tomato sauce",
         "marker": {
          "color": "#FF97FF",
          "size": [
           4.6,
           4.6,
           4.6,
           4.6,
           4.6
          ],
          "sizemode": "area",
          "sizeref": 0.0125,
          "symbol": "circle"
         },
         "mode": "markers",
         "name": "tomato sauce",
         "showlegend": true,
         "type": "scattergl",
         "x": [
          4.6,
          4.6,
          4.6,
          4.6,
          4.6
         ],
         "xaxis": "x",
         "y": [
          484.99999999999994,
          504.59999999999997,
          477.49999999999994,
          498.8999999999999,
          473.99999999999994
         ],
         "yaxis": "y"
        },
        {
         "customdata": [
          [
           "medium salsa",
           "garlic salt"
          ],
          [
           "medium salsa",
           "lime juice"
          ],
          [
           "medium salsa",
           "olive oil"
          ],
          [
           "medium salsa",
           "water"
          ]
         ],
         "hovertemplate": "Ingredient 1=%{customdata[0]}<br>Rating=%{marker.size}<br>Score=%{y}<br>Ingredient 2=%{customdata[1]}<extra></extra>",
         "legendgroup": "medium salsa",
         "marker": {
          "color": "#FECB52",
          "size": [
           4.6,
           4.6,
           4.6,
           4.6
          ],
          "sizemode": "area",
          "sizeref": 0.0125,
          "symbol": "circle"
         },
         "mode": "markers",
         "name": "medium salsa",
         "showlegend": true,
         "type": "scattergl",
         "x": [
          4.6,
          4.6,
          4.6,
          4.6
         ],
         "xaxis": "x",
         "y": [
          479.49999999999994,
          480.79999999999995,
          482.99999999999994,
          479.79999999999995
         ],
         "yaxis": "y"
        },
        {
         "customdata": [
          [
           "garlic salt",
           "lime juice"
          ],
          [
           "garlic salt",
           "olive oil"
          ],
          [
           "garlic salt",
           "water"
          ]
         ],
         "hovertemplate": "Ingredient 1=%{customdata[0]}<br>Rating=%{marker.size}<br>Score=%{y}<br>Ingredient 2=%{customdata[1]}<extra></extra>",
         "legendgroup": "garlic salt",
         "marker": {
          "color": "#636efa",
          "size": [
           4.6,
           4.6,
           4.6
          ],
          "sizemode": "area",
          "sizeref": 0.0125,
          "symbol": "circle"
         },
         "mode": "markers",
         "name": "garlic salt",
         "showlegend": true,
         "type": "scattergl",
         "x": [
          4.6,
          4.6,
          4.6
         ],
         "xaxis": "x",
         "y": [
          501.59999999999997,
          501.3999999999999,
          501.49999999999994
         ],
         "yaxis": "y"
        },
        {
         "customdata": [
          [
           "lime juice",
           "olive oil"
          ],
          [
           "lime juice",
           "water"
          ]
         ],
         "hovertemplate": "Ingredient 1=%{customdata[0]}<br>Rating=%{marker.size}<br>Score=%{y}<br>Ingredient 2=%{customdata[1]}<extra></extra>",
         "legendgroup": "lime juice",
         "marker": {
          "color": "#EF553B",
          "size": [
           4.6,
           4.6
          ],
          "sizemode": "area",
          "sizeref": 0.0125,
          "symbol": "circle"
         },
         "mode": "markers",
         "name": "lime juice",
         "showlegend": true,
         "type": "scattergl",
         "x": [
          4.6,
          4.6
         ],
         "xaxis": "x",
         "y": [
          477.99999999999994,
          475.19999999999993
         ],
         "yaxis": "y"
        },
        {
         "customdata": [
          [
           "green onions",
           "white sugar"
          ],
          [
           "green onions",
           "olive oil"
          ],
          [
           "green onions",
           "cilantro"
          ],
          [
           "green onions",
           "garlic"
          ],
          [
           "green onions",
           "pepper"
          ],
          [
           "green onions",
           "lime"
          ],
          [
           "green onions",
           "salt"
          ],
          [
           "green onions",
           "puff pastry"
          ],
          [
           "green onions",
           "large eggs"
          ],
          [
           "green onions",
           "Sriracha"
          ],
          [
           "green onions",
           "pepper"
          ],
          [
           "green onions",
           "cheese"
          ],
          [
           "green onions",
           "salt"
          ]
         ],
         "hovertemplate": "Ingredient 1=%{customdata[0]}<br>Rating=%{marker.size}<br>Score=%{y}<br>Ingredient 2=%{customdata[1]}<extra></extra>",
         "legendgroup": "green onions",
         "marker": {
          "color": "#00cc96",
          "size": [
           4.5,
           4.5,
           4.5,
           4.5,
           4.5,
           4.5,
           4.5,
           4.8,
           4.8,
           4.8,
           4.8,
           4.8,
           4.8
          ],
          "sizemode": "area",
          "sizeref": 0.0125,
          "symbol": "circle"
         },
         "mode": "markers",
         "name": "green onions",
         "showlegend": true,
         "type": "scattergl",
         "x": [
          4.5,
          4.5,
          4.5,
          4.5,
          4.5,
          4.5,
          4.5,
          4.8,
          4.8,
          4.8,
          4.8,
          4.8,
          4.8
         ],
         "xaxis": "x",
         "y": [
          447,
          433.4,
          468.2,
          452.1,
          444.7,
          437.4,
          459.7,
          481.4,
          495.7,
          477.6,
          475.7,
          469.7,
          484
         ],
         "yaxis": "y"
        },
        {
         "customdata": [
          [
           "pepper",
           "lime"
          ],
          [
           "pepper",
           "salt"
          ],
          [
           "pepper",
           "cheese"
          ],
          [
           "pepper",
           "salt"
          ]
         ],
         "hovertemplate": "Ingredient 1=%{customdata[0]}<br>Rating=%{marker.size}<br>Score=%{y}<br>Ingredient 2=%{customdata[1]}<extra></extra>",
         "legendgroup": "pepper",
         "marker": {
          "color": "#ab63fa",
          "size": [
           4.5,
           4.5,
           4.8,
           4.8
          ],
          "sizemode": "area",
          "sizeref": 0.0125,
          "symbol": "circle"
         },
         "mode": "markers",
         "name": "pepper",
         "showlegend": true,
         "type": "scattergl",
         "x": [
          4.5,
          4.5,
          4.8,
          4.8
         ],
         "xaxis": "x",
         "y": [
          455.7,
          449.4,
          498.5,
          479.5
         ],
         "yaxis": "y"
        },
        {
         "customdata": [
          [
           "white onion",
           "cilantro"
          ],
          [
           "white onion",
           "avocado"
          ],
          [
           "white onion",
           "lime"
          ]
         ],
         "hovertemplate": "Ingredient 1=%{customdata[0]}<br>Rating=%{marker.size}<br>Score=%{y}<br>Ingredient 2=%{customdata[1]}<extra></extra>",
         "legendgroup": "white onion",
         "marker": {
          "color": "#FFA15A",
          "size": [
           5,
           5,
           5
          ],
          "sizemode": "area",
          "sizeref": 0.0125,
          "symbol": "circle"
         },
         "mode": "markers",
         "name": "white onion",
         "showlegend": true,
         "type": "scattergl",
         "x": [
          5,
          5,
          5
         ],
         "xaxis": "x",
         "y": [
          495.7,
          506.9,
          514.3
         ],
         "yaxis": "y"
        },
        {
         "customdata": [
          [
           "biscuit dough",
           "cooking spray"
          ],
          [
           "biscuit dough",
           "cheese"
          ],
          [
           "biscuit dough",
           "gravy"
          ],
          [
           "biscuit dough",
           "milk"
          ],
          [
           "biscuit dough",
           "eggs"
          ],
          [
           "biscuit dough",
           "salt"
          ]
         ],
         "hovertemplate": "Ingredient 1=%{customdata[0]}<br>Rating=%{marker.size}<br>Score=%{y}<br>Ingredient 2=%{customdata[1]}<extra></extra>",
         "legendgroup": "biscuit dough",
         "marker": {
          "color": "#19d3f3",
          "size": [
           3.9,
           3.9,
           3.9,
           3.9,
           3.9,
           3.9
          ],
          "sizemode": "area",
          "sizeref": 0.0125,
          "symbol": "circle"
         },
         "mode": "markers",
         "name": "biscuit dough",
         "showlegend": true,
         "type": "scattergl",
         "x": [
          3.9,
          3.9,
          3.9,
          3.9,
          3.9,
          3.9
         ],
         "xaxis": "x",
         "y": [
          394.5,
          416.5,
          386.6,
          405.7,
          422.9,
          390.6
         ],
         "yaxis": "y"
        },
        {
         "customdata": [
          [
           "gravy",
           "milk"
          ],
          [
           "gravy",
           "eggs"
          ],
          [
           "gravy",
           "salt"
          ]
         ],
         "hovertemplate": "Ingredient 1=%{customdata[0]}<br>Rating=%{marker.size}<br>Score=%{y}<br>Ingredient 2=%{customdata[1]}<extra></extra>",
         "legendgroup": "gravy",
         "marker": {
          "color": "#FF6692",
          "size": [
           3.9,
           3.9,
           3.9
          ],
          "sizemode": "area",
          "sizeref": 0.0125,
          "symbol": "circle"
         },
         "mode": "markers",
         "name": "gravy",
         "showlegend": true,
         "type": "scattergl",
         "x": [
          3.9,
          3.9,
          3.9
         ],
         "xaxis": "x",
         "y": [
          383.6,
          399.8,
          422.7
         ],
         "yaxis": "y"
        },
        {
         "customdata": [
          [
           "milk",
           "eggs"
          ],
          [
           "milk",
           "salt"
          ]
         ],
         "hovertemplate": "Ingredient 1=%{customdata[0]}<br>Rating=%{marker.size}<br>Score=%{y}<br>Ingredient 2=%{customdata[1]}<extra></extra>",
         "legendgroup": "milk",
         "marker": {
          "color": "#B6E880",
          "size": [
           3.9,
           3.9
          ],
          "sizemode": "area",
          "sizeref": 0.0125,
          "symbol": "circle"
         },
         "mode": "markers",
         "name": "milk",
         "showlegend": true,
         "type": "scattergl",
         "x": [
          3.9,
          3.9
         ],
         "xaxis": "x",
         "y": [
          420.7,
          421.4
         ],
         "yaxis": "y"
        },
        {
         "customdata": [
          [
           "shredded mozzarella cheese",
           "frozen corn kernels"
          ],
          [
           "shredded mozzarella cheese",
           "red bell pepper"
          ],
          [
           "shredded mozzarella cheese",
           "corn tortillas"
          ],
          [
           "shredded mozzarella cheese",
           "chipotle chile"
          ],
          [
           "shredded mozzarella cheese",
           "vegetable oil"
          ],
          [
           "shredded mozzarella cheese",
           "serrano chile"
          ],
          [
           "shredded mozzarella cheese",
           "clove garlic"
          ],
          [
           "shredded mozzarella cheese",
           "chile pepper"
          ],
          [
           "shredded mozzarella cheese",
           "adobo sauce"
          ],
          [
           "shredded mozzarella cheese",
           "olive oil"
          ],
          [
           "shredded mozzarella cheese",
           "onion"
          ]
         ],
         "hovertemplate": "Ingredient 1=%{customdata[0]}<br>Rating=%{marker.size}<br>Score=%{y}<br>Ingredient 2=%{customdata[1]}<extra></extra>",
         "legendgroup": "shredded mozzarella cheese",
         "marker": {
          "color": "#FF97FF",
          "size": [
           5,
           5,
           5,
           5,
           5,
           5,
           5,
           5,
           5,
           5,
           5
          ],
          "sizemode": "area",
          "sizeref": 0.0125,
          "symbol": "circle"
         },
         "mode": "markers",
         "name": "shredded mozzarella cheese",
         "showlegend": true,
         "type": "scattergl",
         "x": [
          5,
          5,
          5,
          5,
          5,
          5,
          5,
          5,
          5,
          5,
          5
         ],
         "xaxis": "x",
         "y": [
          523,
          519.4,
          502.1,
          517,
          502.6,
          487.8,
          488,
          524.1,
          513.5,
          518.1,
          524.4
         ],
         "yaxis": "y"
        },
        {
         "customdata": [
          [
           "frozen corn kernels",
           "red bell pepper"
          ],
          [
           "frozen corn kernels",
           "corn tortillas"
          ],
          [
           "frozen corn kernels",
           "chipotle chile"
          ],
          [
           "frozen corn kernels",
           "vegetable oil"
          ],
          [
           "frozen corn kernels",
           "serrano chile"
          ],
          [
           "frozen corn kernels",
           "clove garlic"
          ],
          [
           "frozen corn kernels",
           "chile pepper"
          ],
          [
           "frozen corn kernels",
           "adobo sauce"
          ],
          [
           "frozen corn kernels",
           "olive oil"
          ],
          [
           "frozen corn kernels",
           "onion"
          ]
         ],
         "hovertemplate": "Ingredient 1=%{customdata[0]}<br>Rating=%{marker.size}<br>Score=%{y}<br>Ingredient 2=%{customdata[1]}<extra></extra>",
         "legendgroup": "frozen corn kernels",
         "marker": {
          "color": "#FECB52",
          "size": [
           5,
           5,
           5,
           5,
           5,
           5,
           5,
           5,
           5,
           5
          ],
          "sizemode": "area",
          "sizeref": 0.0125,
          "symbol": "circle"
         },
         "mode": "markers",
         "name": "frozen corn kernels",
         "showlegend": true,
         "type": "scattergl",
         "x": [
          5,
          5,
          5,
          5,
          5,
          5,
          5,
          5,
          5,
          5
         ],
         "xaxis": "x",
         "y": [
          490.2,
          514,
          515.2,
          521.7,
          524.1,
          500.8,
          520.3,
          523.3,
          522.7,
          500.7
         ],
         "yaxis": "y"
        },
        {
         "customdata": [
          [
           "red bell pepper",
           "corn tortillas"
          ],
          [
           "red bell pepper",
           "chipotle chile"
          ],
          [
           "red bell pepper",
           "vegetable oil"
          ],
          [
           "red bell pepper",
           "serrano chile"
          ],
          [
           "red bell pepper",
           "clove garlic"
          ],
          [
           "red bell pepper",
           "chile pepper"
          ],
          [
           "red bell pepper",
           "adobo sauce"
          ],
          [
           "red bell pepper",
           "olive oil"
          ],
          [
           "red bell pepper",
           "onion"
          ]
         ],
         "hovertemplate": "Ingredient 1=%{customdata[0]}<br>Rating=%{marker.size}<br>Score=%{y}<br>Ingredient 2=%{customdata[1]}<extra></extra>",
         "legendgroup": "red bell pepper",
         "marker": {
          "color": "#636efa",
          "size": [
           5,
           5,
           5,
           5,
           5,
           5,
           5,
           5,
           5
          ],
          "sizemode": "area",
          "sizeref": 0.0125,
          "symbol": "circle"
         },
         "mode": "markers",
         "name": "red bell pepper",
         "showlegend": true,
         "type": "scattergl",
         "x": [
          5,
          5,
          5,
          5,
          5,
          5,
          5,
          5,
          5
         ],
         "xaxis": "x",
         "y": [
          515,
          519.2,
          488.1,
          525.4,
          503,
          522.8,
          499,
          503.2,
          500.5
         ],
         "yaxis": "y"
        },
        {
         "customdata": [
          [
           "corn tortillas",
           "chipotle chile"
          ],
          [
           "corn tortillas",
           "vegetable oil"
          ],
          [
           "corn tortillas",
           "serrano chile"
          ],
          [
           "corn tortillas",
           "clove garlic"
          ],
          [
           "corn tortillas",
           "chile pepper"
          ],
          [
           "corn tortillas",
           "adobo sauce"
          ],
          [
           "corn tortillas",
           "olive oil"
          ],
          [
           "corn tortillas",
           "onion"
          ]
         ],
         "hovertemplate": "Ingredient 1=%{customdata[0]}<br>Rating=%{marker.size}<br>Score=%{y}<br>Ingredient 2=%{customdata[1]}<extra></extra>",
         "legendgroup": "corn tortillas",
         "marker": {
          "color": "#EF553B",
          "size": [
           5,
           5,
           5,
           5,
           5,
           5,
           5,
           5
          ],
          "sizemode": "area",
          "sizeref": 0.0125,
          "symbol": "circle"
         },
         "mode": "markers",
         "name": "corn tortillas",
         "showlegend": true,
         "type": "scattergl",
         "x": [
          5,
          5,
          5,
          5,
          5,
          5,
          5,
          5
         ],
         "xaxis": "x",
         "y": [
          518.7,
          500.7,
          503.3,
          496,
          499,
          499.5,
          503.5,
          520.4
         ],
         "yaxis": "y"
        },
        {
         "customdata": [
          [
           "serrano chile",
           "clove garlic"
          ],
          [
           "serrano chile",
           "chile pepper"
          ],
          [
           "serrano chile",
           "adobo sauce"
          ],
          [
           "serrano chile",
           "olive oil"
          ],
          [
           "serrano chile",
           "onion"
          ]
         ],
         "hovertemplate": "Ingredient 1=%{customdata[0]}<br>Rating=%{marker.size}<br>Score=%{y}<br>Ingredient 2=%{customdata[1]}<extra></extra>",
         "legendgroup": "serrano chile",
         "marker": {
          "color": "#00cc96",
          "size": [
           5,
           5,
           5,
           5,
           5
          ],
          "sizemode": "area",
          "sizeref": 0.0125,
          "symbol": "circle"
         },
         "mode": "markers",
         "name": "serrano chile",
         "showlegend": true,
         "type": "scattergl",
         "x": [
          5,
          5,
          5,
          5,
          5
         ],
         "xaxis": "x",
         "y": [
          513,
          523.9,
          505.5,
          495.7,
          508.3
         ],
         "yaxis": "y"
        },
        {
         "customdata": [
          [
           "adobo sauce",
           "olive oil"
          ],
          [
           "adobo sauce",
           "onion"
          ]
         ],
         "hovertemplate": "Ingredient 1=%{customdata[0]}<br>Rating=%{marker.size}<br>Score=%{y}<br>Ingredient 2=%{customdata[1]}<extra></extra>",
         "legendgroup": "adobo sauce",
         "marker": {
          "color": "#ab63fa",
          "size": [
           5,
           5
          ],
          "sizemode": "area",
          "sizeref": 0.0125,
          "symbol": "circle"
         },
         "mode": "markers",
         "name": "adobo sauce",
         "showlegend": true,
         "type": "scattergl",
         "x": [
          5,
          5
         ],
         "xaxis": "x",
         "y": [
          499.5,
          507.7
         ],
         "yaxis": "y"
        },
        {
         "customdata": [
          [
           "hot chili sauce",
           "green onions"
          ],
          [
           "hot chili sauce",
           "puff pastry"
          ],
          [
           "hot chili sauce",
           "large eggs"
          ],
          [
           "hot chili sauce",
           "Sriracha"
          ],
          [
           "hot chili sauce",
           "pepper"
          ],
          [
           "hot chili sauce",
           "cheese"
          ],
          [
           "hot chili sauce",
           "salt"
          ]
         ],
         "hovertemplate": "Ingredient 1=%{customdata[0]}<br>Rating=%{marker.size}<br>Score=%{y}<br>Ingredient 2=%{customdata[1]}<extra></extra>",
         "legendgroup": "hot chili sauce",
         "marker": {
          "color": "#FFA15A",
          "size": [
           4.8,
           4.8,
           4.8,
           4.8,
           4.8,
           4.8,
           4.8
          ],
          "sizemode": "area",
          "sizeref": 0.0125,
          "symbol": "circle"
         },
         "mode": "markers",
         "name": "hot chili sauce",
         "showlegend": true,
         "type": "scattergl",
         "x": [
          4.8,
          4.8,
          4.8,
          4.8,
          4.8,
          4.8,
          4.8
         ],
         "xaxis": "x",
         "y": [
          494,
          506.2,
          472.1,
          474.4,
          479.1,
          467.3,
          491.1
         ],
         "yaxis": "y"
        },
        {
         "customdata": [
          [
           "puff pastry",
           "large eggs"
          ],
          [
           "puff pastry",
           "Sriracha"
          ],
          [
           "puff pastry",
           "pepper"
          ],
          [
           "puff pastry",
           "cheese"
          ],
          [
           "puff pastry",
           "salt"
          ]
         ],
         "hovertemplate": "Ingredient 1=%{customdata[0]}<br>Rating=%{marker.size}<br>Score=%{y}<br>Ingredient 2=%{customdata[1]}<extra></extra>",
         "legendgroup": "puff pastry",
         "marker": {
          "color": "#19d3f3",
          "size": [
           4.8,
           4.8,
           4.8,
           4.8,
           4.8
          ],
          "sizemode": "area",
          "sizeref": 0.0125,
          "symbol": "circle"
         },
         "mode": "markers",
         "name": "puff pastry",
         "showlegend": true,
         "type": "scattergl",
         "x": [
          4.8,
          4.8,
          4.8,
          4.8,
          4.8
         ],
         "xaxis": "x",
         "y": [
          472.8,
          485.7,
          478.7,
          499,
          504.1
         ],
         "yaxis": "y"
        },
        {
         "customdata": [
          [
           "large eggs",
           "Sriracha"
          ],
          [
           "large eggs",
           "pepper"
          ],
          [
           "large eggs",
           "cheese"
          ],
          [
           "large eggs",
           "salt"
          ]
         ],
         "hovertemplate": "Ingredient 1=%{customdata[0]}<br>Rating=%{marker.size}<br>Score=%{y}<br>Ingredient 2=%{customdata[1]}<extra></extra>",
         "legendgroup": "large eggs",
         "marker": {
          "color": "#FF6692",
          "size": [
           4.8,
           4.8,
           4.8,
           4.8
          ],
          "sizemode": "area",
          "sizeref": 0.0125,
          "symbol": "circle"
         },
         "mode": "markers",
         "name": "large eggs",
         "showlegend": true,
         "type": "scattergl",
         "x": [
          4.8,
          4.8,
          4.8,
          4.8
         ],
         "xaxis": "x",
         "y": [
          467.6,
          500.5,
          493.1,
          503.6
         ],
         "yaxis": "y"
        },
        {
         "customdata": [
          [
           "Sriracha",
           "pepper"
          ],
          [
           "Sriracha",
           "cheese"
          ],
          [
           "Sriracha",
           "salt"
          ]
         ],
         "hovertemplate": "Ingredient 1=%{customdata[0]}<br>Rating=%{marker.size}<br>Score=%{y}<br>Ingredient 2=%{customdata[1]}<extra></extra>",
         "legendgroup": "Sriracha",
         "marker": {
          "color": "#B6E880",
          "size": [
           4.8,
           4.8,
           4.8
          ],
          "sizemode": "area",
          "sizeref": 0.0125,
          "symbol": "circle"
         },
         "mode": "markers",
         "name": "Sriracha",
         "showlegend": true,
         "type": "scattergl",
         "x": [
          4.8,
          4.8,
          4.8
         ],
         "xaxis": "x",
         "y": [
          502.5,
          474.8,
          502.6
         ],
         "yaxis": "y"
        },
        {
         "customdata": [
          [
           "refrigerated seamless crescent dough",
           "garlic powder"
          ],
          [
           "refrigerated seamless crescent dough",
           "ground pepper"
          ],
          [
           "refrigerated seamless crescent dough",
           "cream cheese"
          ]
         ],
         "hovertemplate": "Ingredient 1=%{customdata[0]}<br>Rating=%{marker.size}<br>Score=%{y}<br>Ingredient 2=%{customdata[1]}<extra></extra>",
         "legendgroup": "refrigerated seamless crescent dough",
         "marker": {
          "color": "#FF97FF",
          "size": [
           4.7,
           4.7,
           4.7
          ],
          "sizemode": "area",
          "sizeref": 0.0125,
          "symbol": "circle"
         },
         "mode": "markers",
         "name": "refrigerated seamless crescent dough",
         "showlegend": true,
         "type": "scattergl",
         "x": [
          4.7,
          4.7,
          4.7
         ],
         "xaxis": "x",
         "y": [
          492,
          479,
          476.1
         ],
         "yaxis": "y"
        },
        {
         "customdata": [
          [
           "ground pepper",
           "cream cheese"
          ]
         ],
         "hovertemplate": "Ingredient 1=%{customdata[0]}<br>Rating=%{marker.size}<br>Score=%{y}<br>Ingredient 2=%{customdata[1]}<extra></extra>",
         "legendgroup": "ground pepper",
         "marker": {
          "color": "#FECB52",
          "size": [
           4.7
          ],
          "sizemode": "area",
          "sizeref": 0.0125,
          "symbol": "circle"
         },
         "mode": "markers",
         "name": "ground pepper",
         "showlegend": true,
         "type": "scattergl",
         "x": [
          4.7
         ],
         "xaxis": "x",
         "y": [
          470.9
         ],
         "yaxis": "y"
        },
        {
         "customdata": [
          [
           "flour tortillas",
           "garlic powder"
          ],
          [
           "flour tortillas",
           "vegetable oil"
          ],
          [
           "flour tortillas",
           "pico de gallo"
          ],
          [
           "flour tortillas",
           "chili powder"
          ],
          [
           "flour tortillas",
           "black beans"
          ],
          [
           "flour tortillas",
           "sour cream"
          ],
          [
           "flour tortillas",
           "cilantro"
          ],
          [
           "flour tortillas",
           "salsa"
          ],
          [
           "flour tortillas",
           "eggs"
          ],
          [
           "flour tortillas",
           "lime"
          ]
         ],
         "hovertemplate": "Ingredient 1=%{customdata[0]}<br>Rating=%{marker.size}<br>Score=%{y}<br>Ingredient 2=%{customdata[1]}<extra></extra>",
         "legendgroup": "flour tortillas",
         "marker": {
          "color": "#636efa",
          "size": [
           4.5,
           4.5,
           4.5,
           4.5,
           4.5,
           4.5,
           4.5,
           4.5,
           4.5,
           4.5
          ],
          "sizemode": "area",
          "sizeref": 0.0125,
          "symbol": "circle"
         },
         "mode": "markers",
         "name": "flour tortillas",
         "showlegend": true,
         "type": "scattergl",
         "x": [
          4.5,
          4.5,
          4.5,
          4.5,
          4.5,
          4.5,
          4.5,
          4.5,
          4.5,
          4.5
         ],
         "xaxis": "x",
         "y": [
          437.2,
          448.5,
          436.7,
          436.1,
          436,
          464,
          459.1,
          438.9,
          451.3,
          439.1
         ],
         "yaxis": "y"
        },
        {
         "customdata": [
          [
           "pico de gallo",
           "chili powder"
          ],
          [
           "pico de gallo",
           "black beans"
          ],
          [
           "pico de gallo",
           "sour cream"
          ],
          [
           "pico de gallo",
           "cilantro"
          ],
          [
           "pico de gallo",
           "salsa"
          ],
          [
           "pico de gallo",
           "eggs"
          ],
          [
           "pico de gallo",
           "lime"
          ]
         ],
         "hovertemplate": "Ingredient 1=%{customdata[0]}<br>Rating=%{marker.size}<br>Score=%{y}<br>Ingredient 2=%{customdata[1]}<extra></extra>",
         "legendgroup": "pico de gallo",
         "marker": {
          "color": "#EF553B",
          "size": [
           4.5,
           4.5,
           4.5,
           4.5,
           4.5,
           4.5,
           4.5
          ],
          "sizemode": "area",
          "sizeref": 0.0125,
          "symbol": "circle"
         },
         "mode": "markers",
         "name": "pico de gallo",
         "showlegend": true,
         "type": "scattergl",
         "x": [
          4.5,
          4.5,
          4.5,
          4.5,
          4.5,
          4.5,
          4.5
         ],
         "xaxis": "x",
         "y": [
          447.2,
          467.6,
          461.7,
          468.3,
          459.2,
          462.6,
          459
         ],
         "yaxis": "y"
        },
        {
         "customdata": [
          [
           "chili powder",
           "black beans"
          ],
          [
           "chili powder",
           "sour cream"
          ],
          [
           "chili powder",
           "cilantro"
          ],
          [
           "chili powder",
           "salsa"
          ],
          [
           "chili powder",
           "eggs"
          ],
          [
           "chili powder",
           "lime"
          ]
         ],
         "hovertemplate": "Ingredient 1=%{customdata[0]}<br>Rating=%{marker.size}<br>Score=%{y}<br>Ingredient 2=%{customdata[1]}<extra></extra>",
         "legendgroup": "chili powder",
         "marker": {
          "color": "#00cc96",
          "size": [
           4.5,
           4.5,
           4.5,
           4.5,
           4.5,
           4.5
          ],
          "sizemode": "area",
          "sizeref": 0.0125,
          "symbol": "circle"
         },
         "mode": "markers",
         "name": "chili powder",
         "showlegend": true,
         "type": "scattergl",
         "x": [
          4.5,
          4.5,
          4.5,
          4.5,
          4.5,
          4.5
         ],
         "xaxis": "x",
         "y": [
          470.7,
          472.3,
          450.8,
          445,
          445,
          440.7
         ],
         "yaxis": "y"
        },
        {
         "customdata": [
          [
           "salsa",
           "eggs"
          ],
          [
           "salsa",
           "lime"
          ]
         ],
         "hovertemplate": "Ingredient 1=%{customdata[0]}<br>Rating=%{marker.size}<br>Score=%{y}<br>Ingredient 2=%{customdata[1]}<extra></extra>",
         "legendgroup": "salsa",
         "marker": {
          "color": "#ab63fa",
          "size": [
           4.5,
           4.5
          ],
          "sizemode": "area",
          "sizeref": 0.0125,
          "symbol": "circle"
         },
         "mode": "markers",
         "name": "salsa",
         "showlegend": true,
         "type": "scattergl",
         "x": [
          4.5,
          4.5
         ],
         "xaxis": "x",
         "y": [
          437.3,
          437.1
         ],
         "yaxis": "y"
        }
       ],
       "layout": {
        "height": 800,
        "legend": {
         "itemsizing": "constant",
         "title": {
          "text": "Ingredient 1"
         },
         "tracegroupgap": 0
        },
        "margin": {
         "t": 60
        },
        "template": {
         "data": {
          "bar": [
           {
            "error_x": {
             "color": "#2a3f5f"
            },
            "error_y": {
             "color": "#2a3f5f"
            },
            "marker": {
             "line": {
              "color": "#E5ECF6",
              "width": 0.5
             },
             "pattern": {
              "fillmode": "overlay",
              "size": 10,
              "solidity": 0.2
             }
            },
            "type": "bar"
           }
          ],
          "barpolar": [
           {
            "marker": {
             "line": {
              "color": "#E5ECF6",
              "width": 0.5
             },
             "pattern": {
              "fillmode": "overlay",
              "size": 10,
              "solidity": 0.2
             }
            },
            "type": "barpolar"
           }
          ],
          "carpet": [
           {
            "aaxis": {
             "endlinecolor": "#2a3f5f",
             "gridcolor": "white",
             "linecolor": "white",
             "minorgridcolor": "white",
             "startlinecolor": "#2a3f5f"
            },
            "baxis": {
             "endlinecolor": "#2a3f5f",
             "gridcolor": "white",
             "linecolor": "white",
             "minorgridcolor": "white",
             "startlinecolor": "#2a3f5f"
            },
            "type": "carpet"
           }
          ],
          "choropleth": [
           {
            "colorbar": {
             "outlinewidth": 0,
             "ticks": ""
            },
            "type": "choropleth"
           }
          ],
          "contour": [
           {
            "colorbar": {
             "outlinewidth": 0,
             "ticks": ""
            },
            "colorscale": [
             [
              0,
              "#0d0887"
             ],
             [
              0.1111111111111111,
              "#46039f"
             ],
             [
              0.2222222222222222,
              "#7201a8"
             ],
             [
              0.3333333333333333,
              "#9c179e"
             ],
             [
              0.4444444444444444,
              "#bd3786"
             ],
             [
              0.5555555555555556,
              "#d8576b"
             ],
             [
              0.6666666666666666,
              "#ed7953"
             ],
             [
              0.7777777777777778,
              "#fb9f3a"
             ],
             [
              0.8888888888888888,
              "#fdca26"
             ],
             [
              1,
              "#f0f921"
             ]
            ],
            "type": "contour"
           }
          ],
          "contourcarpet": [
           {
            "colorbar": {
             "outlinewidth": 0,
             "ticks": ""
            },
            "type": "contourcarpet"
           }
          ],
          "heatmap": [
           {
            "colorbar": {
             "outlinewidth": 0,
             "ticks": ""
            },
            "colorscale": [
             [
              0,
              "#0d0887"
             ],
             [
              0.1111111111111111,
              "#46039f"
             ],
             [
              0.2222222222222222,
              "#7201a8"
             ],
             [
              0.3333333333333333,
              "#9c179e"
             ],
             [
              0.4444444444444444,
              "#bd3786"
             ],
             [
              0.5555555555555556,
              "#d8576b"
             ],
             [
              0.6666666666666666,
              "#ed7953"
             ],
             [
              0.7777777777777778,
              "#fb9f3a"
             ],
             [
              0.8888888888888888,
              "#fdca26"
             ],
             [
              1,
              "#f0f921"
             ]
            ],
            "type": "heatmap"
           }
          ],
          "heatmapgl": [
           {
            "colorbar": {
             "outlinewidth": 0,
             "ticks": ""
            },
            "colorscale": [
             [
              0,
              "#0d0887"
             ],
             [
              0.1111111111111111,
              "#46039f"
             ],
             [
              0.2222222222222222,
              "#7201a8"
             ],
             [
              0.3333333333333333,
              "#9c179e"
             ],
             [
              0.4444444444444444,
              "#bd3786"
             ],
             [
              0.5555555555555556,
              "#d8576b"
             ],
             [
              0.6666666666666666,
              "#ed7953"
             ],
             [
              0.7777777777777778,
              "#fb9f3a"
             ],
             [
              0.8888888888888888,
              "#fdca26"
             ],
             [
              1,
              "#f0f921"
             ]
            ],
            "type": "heatmapgl"
           }
          ],
          "histogram": [
           {
            "marker": {
             "pattern": {
              "fillmode": "overlay",
              "size": 10,
              "solidity": 0.2
             }
            },
            "type": "histogram"
           }
          ],
          "histogram2d": [
           {
            "colorbar": {
             "outlinewidth": 0,
             "ticks": ""
            },
            "colorscale": [
             [
              0,
              "#0d0887"
             ],
             [
              0.1111111111111111,
              "#46039f"
             ],
             [
              0.2222222222222222,
              "#7201a8"
             ],
             [
              0.3333333333333333,
              "#9c179e"
             ],
             [
              0.4444444444444444,
              "#bd3786"
             ],
             [
              0.5555555555555556,
              "#d8576b"
             ],
             [
              0.6666666666666666,
              "#ed7953"
             ],
             [
              0.7777777777777778,
              "#fb9f3a"
             ],
             [
              0.8888888888888888,
              "#fdca26"
             ],
             [
              1,
              "#f0f921"
             ]
            ],
            "type": "histogram2d"
           }
          ],
          "histogram2dcontour": [
           {
            "colorbar": {
             "outlinewidth": 0,
             "ticks": ""
            },
            "colorscale": [
             [
              0,
              "#0d0887"
             ],
             [
              0.1111111111111111,
              "#46039f"
             ],
             [
              0.2222222222222222,
              "#7201a8"
             ],
             [
              0.3333333333333333,
              "#9c179e"
             ],
             [
              0.4444444444444444,
              "#bd3786"
             ],
             [
              0.5555555555555556,
              "#d8576b"
             ],
             [
              0.6666666666666666,
              "#ed7953"
             ],
             [
              0.7777777777777778,
              "#fb9f3a"
             ],
             [
              0.8888888888888888,
              "#fdca26"
             ],
             [
              1,
              "#f0f921"
             ]
            ],
            "type": "histogram2dcontour"
           }
          ],
          "mesh3d": [
           {
            "colorbar": {
             "outlinewidth": 0,
             "ticks": ""
            },
            "type": "mesh3d"
           }
          ],
          "parcoords": [
           {
            "line": {
             "colorbar": {
              "outlinewidth": 0,
              "ticks": ""
             }
            },
            "type": "parcoords"
           }
          ],
          "pie": [
           {
            "automargin": true,
            "type": "pie"
           }
          ],
          "scatter": [
           {
            "marker": {
             "colorbar": {
              "outlinewidth": 0,
              "ticks": ""
             }
            },
            "type": "scatter"
           }
          ],
          "scatter3d": [
           {
            "line": {
             "colorbar": {
              "outlinewidth": 0,
              "ticks": ""
             }
            },
            "marker": {
             "colorbar": {
              "outlinewidth": 0,
              "ticks": ""
             }
            },
            "type": "scatter3d"
           }
          ],
          "scattercarpet": [
           {
            "marker": {
             "colorbar": {
              "outlinewidth": 0,
              "ticks": ""
             }
            },
            "type": "scattercarpet"
           }
          ],
          "scattergeo": [
           {
            "marker": {
             "colorbar": {
              "outlinewidth": 0,
              "ticks": ""
             }
            },
            "type": "scattergeo"
           }
          ],
          "scattergl": [
           {
            "marker": {
             "colorbar": {
              "outlinewidth": 0,
              "ticks": ""
             }
            },
            "type": "scattergl"
           }
          ],
          "scattermapbox": [
           {
            "marker": {
             "colorbar": {
              "outlinewidth": 0,
              "ticks": ""
             }
            },
            "type": "scattermapbox"
           }
          ],
          "scatterpolar": [
           {
            "marker": {
             "colorbar": {
              "outlinewidth": 0,
              "ticks": ""
             }
            },
            "type": "scatterpolar"
           }
          ],
          "scatterpolargl": [
           {
            "marker": {
             "colorbar": {
              "outlinewidth": 0,
              "ticks": ""
             }
            },
            "type": "scatterpolargl"
           }
          ],
          "scatterternary": [
           {
            "marker": {
             "colorbar": {
              "outlinewidth": 0,
              "ticks": ""
             }
            },
            "type": "scatterternary"
           }
          ],
          "surface": [
           {
            "colorbar": {
             "outlinewidth": 0,
             "ticks": ""
            },
            "colorscale": [
             [
              0,
              "#0d0887"
             ],
             [
              0.1111111111111111,
              "#46039f"
             ],
             [
              0.2222222222222222,
              "#7201a8"
             ],
             [
              0.3333333333333333,
              "#9c179e"
             ],
             [
              0.4444444444444444,
              "#bd3786"
             ],
             [
              0.5555555555555556,
              "#d8576b"
             ],
             [
              0.6666666666666666,
              "#ed7953"
             ],
             [
              0.7777777777777778,
              "#fb9f3a"
             ],
             [
              0.8888888888888888,
              "#fdca26"
             ],
             [
              1,
              "#f0f921"
             ]
            ],
            "type": "surface"
           }
          ],
          "table": [
           {
            "cells": {
             "fill": {
              "color": "#EBF0F8"
             },
             "line": {
              "color": "white"
             }
            },
            "header": {
             "fill": {
              "color": "#C8D4E3"
             },
             "line": {
              "color": "white"
             }
            },
            "type": "table"
           }
          ]
         },
         "layout": {
          "annotationdefaults": {
           "arrowcolor": "#2a3f5f",
           "arrowhead": 0,
           "arrowwidth": 1
          },
          "autotypenumbers": "strict",
          "coloraxis": {
           "colorbar": {
            "outlinewidth": 0,
            "ticks": ""
           }
          },
          "colorscale": {
           "diverging": [
            [
             0,
             "#8e0152"
            ],
            [
             0.1,
             "#c51b7d"
            ],
            [
             0.2,
             "#de77ae"
            ],
            [
             0.3,
             "#f1b6da"
            ],
            [
             0.4,
             "#fde0ef"
            ],
            [
             0.5,
             "#f7f7f7"
            ],
            [
             0.6,
             "#e6f5d0"
            ],
            [
             0.7,
             "#b8e186"
            ],
            [
             0.8,
             "#7fbc41"
            ],
            [
             0.9,
             "#4d9221"
            ],
            [
             1,
             "#276419"
            ]
           ],
           "sequential": [
            [
             0,
             "#0d0887"
            ],
            [
             0.1111111111111111,
             "#46039f"
            ],
            [
             0.2222222222222222,
             "#7201a8"
            ],
            [
             0.3333333333333333,
             "#9c179e"
            ],
            [
             0.4444444444444444,
             "#bd3786"
            ],
            [
             0.5555555555555556,
             "#d8576b"
            ],
            [
             0.6666666666666666,
             "#ed7953"
            ],
            [
             0.7777777777777778,
             "#fb9f3a"
            ],
            [
             0.8888888888888888,
             "#fdca26"
            ],
            [
             1,
             "#f0f921"
            ]
           ],
           "sequentialminus": [
            [
             0,
             "#0d0887"
            ],
            [
             0.1111111111111111,
             "#46039f"
            ],
            [
             0.2222222222222222,
             "#7201a8"
            ],
            [
             0.3333333333333333,
             "#9c179e"
            ],
            [
             0.4444444444444444,
             "#bd3786"
            ],
            [
             0.5555555555555556,
             "#d8576b"
            ],
            [
             0.6666666666666666,
             "#ed7953"
            ],
            [
             0.7777777777777778,
             "#fb9f3a"
            ],
            [
             0.8888888888888888,
             "#fdca26"
            ],
            [
             1,
             "#f0f921"
            ]
           ]
          },
          "colorway": [
           "#636efa",
           "#EF553B",
           "#00cc96",
           "#ab63fa",
           "#FFA15A",
           "#19d3f3",
           "#FF6692",
           "#B6E880",
           "#FF97FF",
           "#FECB52"
          ],
          "font": {
           "color": "#2a3f5f"
          },
          "geo": {
           "bgcolor": "white",
           "lakecolor": "white",
           "landcolor": "#E5ECF6",
           "showlakes": true,
           "showland": true,
           "subunitcolor": "white"
          },
          "hoverlabel": {
           "align": "left"
          },
          "hovermode": "closest",
          "mapbox": {
           "style": "light"
          },
          "paper_bgcolor": "white",
          "plot_bgcolor": "#E5ECF6",
          "polar": {
           "angularaxis": {
            "gridcolor": "white",
            "linecolor": "white",
            "ticks": ""
           },
           "bgcolor": "#E5ECF6",
           "radialaxis": {
            "gridcolor": "white",
            "linecolor": "white",
            "ticks": ""
           }
          },
          "scene": {
           "xaxis": {
            "backgroundcolor": "#E5ECF6",
            "gridcolor": "white",
            "gridwidth": 2,
            "linecolor": "white",
            "showbackground": true,
            "ticks": "",
            "zerolinecolor": "white"
           },
           "yaxis": {
            "backgroundcolor": "#E5ECF6",
            "gridcolor": "white",
            "gridwidth": 2,
            "linecolor": "white",
            "showbackground": true,
            "ticks": "",
            "zerolinecolor": "white"
           },
           "zaxis": {
            "backgroundcolor": "#E5ECF6",
            "gridcolor": "white",
            "gridwidth": 2,
            "linecolor": "white",
            "showbackground": true,
            "ticks": "",
            "zerolinecolor": "white"
           }
          },
          "shapedefaults": {
           "line": {
            "color": "#2a3f5f"
           }
          },
          "ternary": {
           "aaxis": {
            "gridcolor": "white",
            "linecolor": "white",
            "ticks": ""
           },
           "baxis": {
            "gridcolor": "white",
            "linecolor": "white",
            "ticks": ""
           },
           "bgcolor": "#E5ECF6",
           "caxis": {
            "gridcolor": "white",
            "linecolor": "white",
            "ticks": ""
           }
          },
          "title": {
           "x": 0.05
          },
          "xaxis": {
           "automargin": true,
           "gridcolor": "white",
           "linecolor": "white",
           "ticks": "",
           "title": {
            "standoff": 15
           },
           "zerolinecolor": "white",
           "zerolinewidth": 2
          },
          "yaxis": {
           "automargin": true,
           "gridcolor": "white",
           "linecolor": "white",
           "ticks": "",
           "title": {
            "standoff": 15
           },
           "zerolinecolor": "white",
           "zerolinewidth": 2
          }
         }
        },
        "width": 1200,
        "xaxis": {
         "anchor": "y",
         "domain": [
          0,
          1
         ],
         "title": {
          "text": "Rating"
         }
        },
        "yaxis": {
         "anchor": "x",
         "domain": [
          0,
          1
         ],
         "title": {
          "text": "Score"
         }
        }
       }
      }
     },
     "metadata": {},
     "output_type": "display_data"
    }
   ],
   "source": [
    "fig = px.scatter(masterframe, x=\"Rating\", y=\"Score\", size = \"Rating\", color=\"Ingredient 1\", hover_data=['Ingredient 1', 'Ingredient 2'], width=1200, height=800)\n",
    "fig.show()\n"
   ]
  },
  {
   "cell_type": "code",
   "execution_count": 7,
   "id": "97d9b109",
   "metadata": {},
   "outputs": [],
   "source": [
    "masterframe.to_excel(r\"C:\\Users\\Aidan\\Documents\\GitHub\\AR_scrape\\sample_results.xlsx\")"
   ]
  },
  {
   "cell_type": "code",
   "execution_count": null,
   "id": "e9605886",
   "metadata": {},
   "outputs": [],
   "source": []
  }
 ],
 "metadata": {
  "kernelspec": {
   "display_name": "Python 3.9.12 ('base')",
   "language": "python",
   "name": "python3"
  },
  "language_info": {
   "codemirror_mode": {
    "name": "ipython",
    "version": 3
   },
   "file_extension": ".py",
   "mimetype": "text/x-python",
   "name": "python",
   "nbconvert_exporter": "python",
   "pygments_lexer": "ipython3",
   "version": "3.9.12"
  },
  "vscode": {
   "interpreter": {
    "hash": "f6ed3f38b1ef4c16f8a5be48bf66a1aded4ea0eb199bbc31dab9e5edd4e77510"
   }
  }
 },
 "nbformat": 4,
 "nbformat_minor": 5
}
