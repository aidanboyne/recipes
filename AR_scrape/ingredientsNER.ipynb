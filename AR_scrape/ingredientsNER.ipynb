{
 "cells": [
  {
   "cell_type": "code",
   "execution_count": 2,
   "metadata": {},
   "outputs": [],
   "source": [
    "import numpy as np\n",
    "import pandas as pd"
   ]
  },
  {
   "cell_type": "code",
   "execution_count": 3,
   "metadata": {},
   "outputs": [],
   "source": [
    "train = pd.read_json(r\"C:\\Users\\Aidan\\Documents\\GitHub\\AR_scrape\\ingredientsTrain.json\")"
   ]
  },
  {
   "cell_type": "code",
   "execution_count": 6,
   "metadata": {},
   "outputs": [
    {
     "data": {
      "text/plain": [
       "119322"
      ]
     },
     "execution_count": 6,
     "metadata": {},
     "output_type": "execute_result"
    }
   ],
   "source": [
    "np.size(train)"
   ]
  },
  {
   "cell_type": "code",
   "execution_count": 10,
   "metadata": {},
   "outputs": [
    {
     "name": "stdout",
     "output_type": "stream",
     "text": [
      "salt                           18049\n",
      "olive oil                       7972\n",
      "onions                          7972\n",
      "water                           7457\n",
      "garlic                          7380\n",
      "                               ...  \n",
      "dark chocolate cocoa powder        1\n",
      "dark crème de cacao                1\n",
      "dark lager                         1\n",
      "shishito chile                     1\n",
      "padron peppers                     1\n",
      "Length: 6714, dtype: int64\n"
     ]
    }
   ],
   "source": [
    "index = 0\n",
    "uniqueList=[]\n",
    "for ingset in train['ingredients']:\n",
    "    for ing in ingset:\n",
    "        uniqueList.append(ing)\n",
    "\n",
    "ingDF=pd.DataFrame(uniqueList)\n",
    "finalIngDF = ingDF.value_counts()\n",
    "print(finalIngDF)"
   ]
  }
 ],
 "metadata": {
  "kernelspec": {
   "display_name": "Python 3.9.12 ('base')",
   "language": "python",
   "name": "python3"
  },
  "language_info": {
   "codemirror_mode": {
    "name": "ipython",
    "version": 3
   },
   "file_extension": ".py",
   "mimetype": "text/x-python",
   "name": "python",
   "nbconvert_exporter": "python",
   "pygments_lexer": "ipython3",
   "version": "3.9.12"
  },
  "orig_nbformat": 4,
  "vscode": {
   "interpreter": {
    "hash": "f6ed3f38b1ef4c16f8a5be48bf66a1aded4ea0eb199bbc31dab9e5edd4e77510"
   }
  }
 },
 "nbformat": 4,
 "nbformat_minor": 2
}
